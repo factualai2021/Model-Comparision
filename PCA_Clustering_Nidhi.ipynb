{
 "cells": [
  {
   "cell_type": "markdown",
   "metadata": {},
   "source": [
    "# Clustering "
   ]
  },
  {
   "cell_type": "markdown",
   "metadata": {},
   "source": [
    "HELP International is an international humanitarian NGO that is committed to fighting poverty and providing the people of backward countries with basic amenities and relief during the time of disasters and natural calamities"
   ]
  },
  {
   "cell_type": "markdown",
   "metadata": {},
   "source": [
    "In this assignment, our objective is to Categorise/Cluster the countries using some socio-economic and health factors that determine the overall development of the country, then identify the under developed countries  which the CEO of NGO needs to focus on the most to provide aid."
   ]
  },
  {
   "cell_type": "markdown",
   "metadata": {},
   "source": [
    "### Steps  for Analysis:-</br>\n",
    "    1.Data Understanding and Cleaning\n",
    "    2.Data Preparation: Outliers Removal, Scaling \n",
    "    3.Principle Component Analysis (PCA) \n",
    "    4.Clustering: k-means & Hierarchical Clustering with different k\n",
    "    5.Visualization\n",
    "    5.Inferences & Conclusions"
   ]
  },
  {
   "cell_type": "code",
   "execution_count": 1,
   "metadata": {},
   "outputs": [],
   "source": [
    "#Supress warnings\n",
    "import warnings\n",
    "warnings.filterwarnings('ignore')"
   ]
  },
  {
   "cell_type": "markdown",
   "metadata": {},
   "source": [
    "#### Importing all libraries"
   ]
  },
  {
   "cell_type": "code",
   "execution_count": 3,
   "metadata": {},
   "outputs": [],
   "source": [
    "#import all the necessary libraries\n",
    "import pandas as pd\n",
    "import numpy as np\n",
    "import pandas as pd\n",
    "\n",
    "# For Visualisation\n",
    "import matplotlib.pyplot as plt\n",
    "import seaborn as sns\n",
    "\n",
    "%matplotlib inline\n",
    "\n",
    "# To Scale our data\n",
    "from sklearn.preprocessing import scale\n",
    "\n",
    "# To perform KMeans clustering \n",
    "from sklearn.cluster import KMeans\n",
    "\n",
    "# To perform Hierarchical clustering\n",
    "from scipy.cluster.hierarchy import linkage\n",
    "from scipy.cluster.hierarchy import dendrogram\n",
    "from scipy.cluster.hierarchy import cut_tree\n",
    "from sklearn.cluster import KMeans\n",
    "from sklearn.preprocessing import LabelEncoder\n",
    "from sklearn.preprocessing import MinMaxScaler\n",
    "from scipy.cluster.hierarchy import linkage\n",
    "from scipy.cluster.hierarchy import cut_tree\n",
    "from sklearn.preprocessing import StandardScaler"
   ]
  },
  {
   "cell_type": "markdown",
   "metadata": {},
   "source": [
    "### Data Understanding"
   ]
  },
  {
   "cell_type": "code",
   "execution_count": 4,
   "metadata": {},
   "outputs": [
    {
     "data": {
      "text/html": [
       "<div>\n",
       "<style scoped>\n",
       "    .dataframe tbody tr th:only-of-type {\n",
       "        vertical-align: middle;\n",
       "    }\n",
       "\n",
       "    .dataframe tbody tr th {\n",
       "        vertical-align: top;\n",
       "    }\n",
       "\n",
       "    .dataframe thead th {\n",
       "        text-align: right;\n",
       "    }\n",
       "</style>\n",
       "<table border=\"1\" class=\"dataframe\">\n",
       "  <thead>\n",
       "    <tr style=\"text-align: right;\">\n",
       "      <th></th>\n",
       "      <th>country</th>\n",
       "      <th>child_mort</th>\n",
       "      <th>exports</th>\n",
       "      <th>health</th>\n",
       "      <th>imports</th>\n",
       "      <th>income</th>\n",
       "      <th>inflation</th>\n",
       "      <th>life_expec</th>\n",
       "      <th>total_fer</th>\n",
       "      <th>gdpp</th>\n",
       "    </tr>\n",
       "  </thead>\n",
       "  <tbody>\n",
       "    <tr>\n",
       "      <th>0</th>\n",
       "      <td>Afghanistan</td>\n",
       "      <td>90.2</td>\n",
       "      <td>10.0</td>\n",
       "      <td>7.58</td>\n",
       "      <td>44.9</td>\n",
       "      <td>1610</td>\n",
       "      <td>9.44</td>\n",
       "      <td>56.2</td>\n",
       "      <td>5.82</td>\n",
       "      <td>553</td>\n",
       "    </tr>\n",
       "    <tr>\n",
       "      <th>1</th>\n",
       "      <td>Albania</td>\n",
       "      <td>16.6</td>\n",
       "      <td>28.0</td>\n",
       "      <td>6.55</td>\n",
       "      <td>48.6</td>\n",
       "      <td>9930</td>\n",
       "      <td>4.49</td>\n",
       "      <td>76.3</td>\n",
       "      <td>1.65</td>\n",
       "      <td>4090</td>\n",
       "    </tr>\n",
       "    <tr>\n",
       "      <th>2</th>\n",
       "      <td>Algeria</td>\n",
       "      <td>27.3</td>\n",
       "      <td>38.4</td>\n",
       "      <td>4.17</td>\n",
       "      <td>31.4</td>\n",
       "      <td>12900</td>\n",
       "      <td>16.10</td>\n",
       "      <td>76.5</td>\n",
       "      <td>2.89</td>\n",
       "      <td>4460</td>\n",
       "    </tr>\n",
       "    <tr>\n",
       "      <th>3</th>\n",
       "      <td>Angola</td>\n",
       "      <td>119.0</td>\n",
       "      <td>62.3</td>\n",
       "      <td>2.85</td>\n",
       "      <td>42.9</td>\n",
       "      <td>5900</td>\n",
       "      <td>22.40</td>\n",
       "      <td>60.1</td>\n",
       "      <td>6.16</td>\n",
       "      <td>3530</td>\n",
       "    </tr>\n",
       "    <tr>\n",
       "      <th>4</th>\n",
       "      <td>Antigua and Barbuda</td>\n",
       "      <td>10.3</td>\n",
       "      <td>45.5</td>\n",
       "      <td>6.03</td>\n",
       "      <td>58.9</td>\n",
       "      <td>19100</td>\n",
       "      <td>1.44</td>\n",
       "      <td>76.8</td>\n",
       "      <td>2.13</td>\n",
       "      <td>12200</td>\n",
       "    </tr>\n",
       "  </tbody>\n",
       "</table>\n",
       "</div>"
      ],
      "text/plain": [
       "               country  child_mort  exports  health  imports  income  \\\n",
       "0          Afghanistan        90.2     10.0    7.58     44.9    1610   \n",
       "1              Albania        16.6     28.0    6.55     48.6    9930   \n",
       "2              Algeria        27.3     38.4    4.17     31.4   12900   \n",
       "3               Angola       119.0     62.3    2.85     42.9    5900   \n",
       "4  Antigua and Barbuda        10.3     45.5    6.03     58.9   19100   \n",
       "\n",
       "   inflation  life_expec  total_fer   gdpp  \n",
       "0       9.44        56.2       5.82    553  \n",
       "1       4.49        76.3       1.65   4090  \n",
       "2      16.10        76.5       2.89   4460  \n",
       "3      22.40        60.1       6.16   3530  \n",
       "4       1.44        76.8       2.13  12200  "
      ]
     },
     "execution_count": 4,
     "metadata": {},
     "output_type": "execute_result"
    }
   ],
   "source": [
    "#read dataset\n",
    "df_help=pd.read_csv(\"C:\\\\Users\\\\Prashant\\\\Desktop\\\\FactualAI-Document\\\\Course_Content\\\\Clustering\\\\Case_Study\\Country-data.csv\")\n",
    "df_help.head()  "
   ]
  },
  {
   "cell_type": "code",
   "execution_count": 34,
   "metadata": {},
   "outputs": [
    {
     "data": {
      "text/html": [
       "<div>\n",
       "<style scoped>\n",
       "    .dataframe tbody tr th:only-of-type {\n",
       "        vertical-align: middle;\n",
       "    }\n",
       "\n",
       "    .dataframe tbody tr th {\n",
       "        vertical-align: top;\n",
       "    }\n",
       "\n",
       "    .dataframe thead th {\n",
       "        text-align: right;\n",
       "    }\n",
       "</style>\n",
       "<table border=\"1\" class=\"dataframe\">\n",
       "  <thead>\n",
       "    <tr style=\"text-align: right;\">\n",
       "      <th></th>\n",
       "      <th>child_mort</th>\n",
       "      <th>exports</th>\n",
       "      <th>health</th>\n",
       "      <th>imports</th>\n",
       "      <th>income</th>\n",
       "      <th>inflation</th>\n",
       "      <th>life_expec</th>\n",
       "      <th>total_fer</th>\n",
       "      <th>gdpp</th>\n",
       "    </tr>\n",
       "  </thead>\n",
       "  <tbody>\n",
       "    <tr>\n",
       "      <td>count</td>\n",
       "      <td>167.000000</td>\n",
       "      <td>167.000000</td>\n",
       "      <td>167.000000</td>\n",
       "      <td>167.000000</td>\n",
       "      <td>167.000000</td>\n",
       "      <td>167.000000</td>\n",
       "      <td>167.000000</td>\n",
       "      <td>167.000000</td>\n",
       "      <td>167.000000</td>\n",
       "    </tr>\n",
       "    <tr>\n",
       "      <td>mean</td>\n",
       "      <td>38.270060</td>\n",
       "      <td>41.108976</td>\n",
       "      <td>6.815689</td>\n",
       "      <td>46.890215</td>\n",
       "      <td>17144.688623</td>\n",
       "      <td>7.781832</td>\n",
       "      <td>70.555689</td>\n",
       "      <td>2.947964</td>\n",
       "      <td>12964.155689</td>\n",
       "    </tr>\n",
       "    <tr>\n",
       "      <td>std</td>\n",
       "      <td>40.328931</td>\n",
       "      <td>27.412010</td>\n",
       "      <td>2.746837</td>\n",
       "      <td>24.209589</td>\n",
       "      <td>19278.067698</td>\n",
       "      <td>10.570704</td>\n",
       "      <td>8.893172</td>\n",
       "      <td>1.513848</td>\n",
       "      <td>18328.704809</td>\n",
       "    </tr>\n",
       "    <tr>\n",
       "      <td>min</td>\n",
       "      <td>2.600000</td>\n",
       "      <td>0.109000</td>\n",
       "      <td>1.810000</td>\n",
       "      <td>0.065900</td>\n",
       "      <td>609.000000</td>\n",
       "      <td>-4.210000</td>\n",
       "      <td>32.100000</td>\n",
       "      <td>1.150000</td>\n",
       "      <td>231.000000</td>\n",
       "    </tr>\n",
       "    <tr>\n",
       "      <td>25%</td>\n",
       "      <td>8.250000</td>\n",
       "      <td>23.800000</td>\n",
       "      <td>4.920000</td>\n",
       "      <td>30.200000</td>\n",
       "      <td>3355.000000</td>\n",
       "      <td>1.810000</td>\n",
       "      <td>65.300000</td>\n",
       "      <td>1.795000</td>\n",
       "      <td>1330.000000</td>\n",
       "    </tr>\n",
       "    <tr>\n",
       "      <td>50%</td>\n",
       "      <td>19.300000</td>\n",
       "      <td>35.000000</td>\n",
       "      <td>6.320000</td>\n",
       "      <td>43.300000</td>\n",
       "      <td>9960.000000</td>\n",
       "      <td>5.390000</td>\n",
       "      <td>73.100000</td>\n",
       "      <td>2.410000</td>\n",
       "      <td>4660.000000</td>\n",
       "    </tr>\n",
       "    <tr>\n",
       "      <td>75%</td>\n",
       "      <td>62.100000</td>\n",
       "      <td>51.350000</td>\n",
       "      <td>8.600000</td>\n",
       "      <td>58.750000</td>\n",
       "      <td>22800.000000</td>\n",
       "      <td>10.750000</td>\n",
       "      <td>76.800000</td>\n",
       "      <td>3.880000</td>\n",
       "      <td>14050.000000</td>\n",
       "    </tr>\n",
       "    <tr>\n",
       "      <td>max</td>\n",
       "      <td>208.000000</td>\n",
       "      <td>200.000000</td>\n",
       "      <td>17.900000</td>\n",
       "      <td>174.000000</td>\n",
       "      <td>125000.000000</td>\n",
       "      <td>104.000000</td>\n",
       "      <td>82.800000</td>\n",
       "      <td>7.490000</td>\n",
       "      <td>105000.000000</td>\n",
       "    </tr>\n",
       "  </tbody>\n",
       "</table>\n",
       "</div>"
      ],
      "text/plain": [
       "       child_mort     exports      health     imports         income  \\\n",
       "count  167.000000  167.000000  167.000000  167.000000     167.000000   \n",
       "mean    38.270060   41.108976    6.815689   46.890215   17144.688623   \n",
       "std     40.328931   27.412010    2.746837   24.209589   19278.067698   \n",
       "min      2.600000    0.109000    1.810000    0.065900     609.000000   \n",
       "25%      8.250000   23.800000    4.920000   30.200000    3355.000000   \n",
       "50%     19.300000   35.000000    6.320000   43.300000    9960.000000   \n",
       "75%     62.100000   51.350000    8.600000   58.750000   22800.000000   \n",
       "max    208.000000  200.000000   17.900000  174.000000  125000.000000   \n",
       "\n",
       "        inflation  life_expec   total_fer           gdpp  \n",
       "count  167.000000  167.000000  167.000000     167.000000  \n",
       "mean     7.781832   70.555689    2.947964   12964.155689  \n",
       "std     10.570704    8.893172    1.513848   18328.704809  \n",
       "min     -4.210000   32.100000    1.150000     231.000000  \n",
       "25%      1.810000   65.300000    1.795000    1330.000000  \n",
       "50%      5.390000   73.100000    2.410000    4660.000000  \n",
       "75%     10.750000   76.800000    3.880000   14050.000000  \n",
       "max    104.000000   82.800000    7.490000  105000.000000  "
      ]
     },
     "execution_count": 34,
     "metadata": {},
     "output_type": "execute_result"
    }
   ],
   "source": [
    "#about Dataset\n",
    "df_help.describe()"
   ]
  },
  {
   "cell_type": "code",
   "execution_count": 35,
   "metadata": {},
   "outputs": [
    {
     "name": "stdout",
     "output_type": "stream",
     "text": [
      "(167, 10)\n",
      "Index(['country', 'child_mort', 'exports', 'health', 'imports', 'income',\n",
      "       'inflation', 'life_expec', 'total_fer', 'gdpp'],\n",
      "      dtype='object')\n",
      "<class 'pandas.core.frame.DataFrame'>\n",
      "RangeIndex: 167 entries, 0 to 166\n",
      "Data columns (total 10 columns):\n",
      "country       167 non-null object\n",
      "child_mort    167 non-null float64\n",
      "exports       167 non-null float64\n",
      "health        167 non-null float64\n",
      "imports       167 non-null float64\n",
      "income        167 non-null int64\n",
      "inflation     167 non-null float64\n",
      "life_expec    167 non-null float64\n",
      "total_fer     167 non-null float64\n",
      "gdpp          167 non-null int64\n",
      "dtypes: float64(7), int64(2), object(1)\n",
      "memory usage: 13.2+ KB\n",
      "None\n"
     ]
    }
   ],
   "source": [
    "#checking shape,columns,etc of dataset\n",
    "print(df_help.shape)\n",
    "print(df_help.columns)\n",
    "print(df_help.info())"
   ]
  },
  {
   "cell_type": "code",
   "execution_count": 36,
   "metadata": {},
   "outputs": [
    {
     "name": "stdout",
     "output_type": "stream",
     "text": [
      "country       0\n",
      "child_mort    0\n",
      "exports       0\n",
      "health        0\n",
      "imports       0\n",
      "income        0\n",
      "inflation     0\n",
      "life_expec    0\n",
      "total_fer     0\n",
      "gdpp          0\n",
      "dtype: int64\n"
     ]
    }
   ],
   "source": [
    "#Check null\n",
    "print(df_help.isnull().sum())"
   ]
  },
  {
   "cell_type": "markdown",
   "metadata": {},
   "source": [
    "### NO Null Values !!! We are good to go !!!"
   ]
  },
  {
   "cell_type": "markdown",
   "metadata": {},
   "source": [
    "### Converting exports,imports and health spending percentages to absolute values."
   ]
  },
  {
   "cell_type": "code",
   "execution_count": 5,
   "metadata": {},
   "outputs": [
    {
     "data": {
      "text/html": [
       "<div>\n",
       "<style scoped>\n",
       "    .dataframe tbody tr th:only-of-type {\n",
       "        vertical-align: middle;\n",
       "    }\n",
       "\n",
       "    .dataframe tbody tr th {\n",
       "        vertical-align: top;\n",
       "    }\n",
       "\n",
       "    .dataframe thead th {\n",
       "        text-align: right;\n",
       "    }\n",
       "</style>\n",
       "<table border=\"1\" class=\"dataframe\">\n",
       "  <thead>\n",
       "    <tr style=\"text-align: right;\">\n",
       "      <th></th>\n",
       "      <th>country</th>\n",
       "      <th>child_mort</th>\n",
       "      <th>exports</th>\n",
       "      <th>health</th>\n",
       "      <th>imports</th>\n",
       "      <th>income</th>\n",
       "      <th>inflation</th>\n",
       "      <th>life_expec</th>\n",
       "      <th>total_fer</th>\n",
       "      <th>gdpp</th>\n",
       "    </tr>\n",
       "  </thead>\n",
       "  <tbody>\n",
       "    <tr>\n",
       "      <th>0</th>\n",
       "      <td>Afghanistan</td>\n",
       "      <td>90.2</td>\n",
       "      <td>55.30</td>\n",
       "      <td>41.9174</td>\n",
       "      <td>248.297</td>\n",
       "      <td>1610</td>\n",
       "      <td>9.44</td>\n",
       "      <td>56.2</td>\n",
       "      <td>5.82</td>\n",
       "      <td>553</td>\n",
       "    </tr>\n",
       "    <tr>\n",
       "      <th>1</th>\n",
       "      <td>Albania</td>\n",
       "      <td>16.6</td>\n",
       "      <td>1145.20</td>\n",
       "      <td>267.8950</td>\n",
       "      <td>1987.740</td>\n",
       "      <td>9930</td>\n",
       "      <td>4.49</td>\n",
       "      <td>76.3</td>\n",
       "      <td>1.65</td>\n",
       "      <td>4090</td>\n",
       "    </tr>\n",
       "    <tr>\n",
       "      <th>2</th>\n",
       "      <td>Algeria</td>\n",
       "      <td>27.3</td>\n",
       "      <td>1712.64</td>\n",
       "      <td>185.9820</td>\n",
       "      <td>1400.440</td>\n",
       "      <td>12900</td>\n",
       "      <td>16.10</td>\n",
       "      <td>76.5</td>\n",
       "      <td>2.89</td>\n",
       "      <td>4460</td>\n",
       "    </tr>\n",
       "    <tr>\n",
       "      <th>3</th>\n",
       "      <td>Angola</td>\n",
       "      <td>119.0</td>\n",
       "      <td>2199.19</td>\n",
       "      <td>100.6050</td>\n",
       "      <td>1514.370</td>\n",
       "      <td>5900</td>\n",
       "      <td>22.40</td>\n",
       "      <td>60.1</td>\n",
       "      <td>6.16</td>\n",
       "      <td>3530</td>\n",
       "    </tr>\n",
       "    <tr>\n",
       "      <th>4</th>\n",
       "      <td>Antigua and Barbuda</td>\n",
       "      <td>10.3</td>\n",
       "      <td>5551.00</td>\n",
       "      <td>735.6600</td>\n",
       "      <td>7185.800</td>\n",
       "      <td>19100</td>\n",
       "      <td>1.44</td>\n",
       "      <td>76.8</td>\n",
       "      <td>2.13</td>\n",
       "      <td>12200</td>\n",
       "    </tr>\n",
       "  </tbody>\n",
       "</table>\n",
       "</div>"
      ],
      "text/plain": [
       "               country  child_mort  exports    health   imports  income  \\\n",
       "0          Afghanistan        90.2    55.30   41.9174   248.297    1610   \n",
       "1              Albania        16.6  1145.20  267.8950  1987.740    9930   \n",
       "2              Algeria        27.3  1712.64  185.9820  1400.440   12900   \n",
       "3               Angola       119.0  2199.19  100.6050  1514.370    5900   \n",
       "4  Antigua and Barbuda        10.3  5551.00  735.6600  7185.800   19100   \n",
       "\n",
       "   inflation  life_expec  total_fer   gdpp  \n",
       "0       9.44        56.2       5.82    553  \n",
       "1       4.49        76.3       1.65   4090  \n",
       "2      16.10        76.5       2.89   4460  \n",
       "3      22.40        60.1       6.16   3530  \n",
       "4       1.44        76.8       2.13  12200  "
      ]
     },
     "execution_count": 5,
     "metadata": {},
     "output_type": "execute_result"
    }
   ],
   "source": [
    "\n",
    "df_help['exports'] = df_help['exports']*df_help['gdpp']/100\n",
    "df_help['imports'] = df_help['imports']*df_help['gdpp']/100\n",
    "df_help['health'] = df_help['health']*df_help['gdpp']/100\n",
    "df_help.head()"
   ]
  },
  {
   "cell_type": "code",
   "execution_count": 38,
   "metadata": {},
   "outputs": [
    {
     "data": {
      "text/html": [
       "<div>\n",
       "<style scoped>\n",
       "    .dataframe tbody tr th:only-of-type {\n",
       "        vertical-align: middle;\n",
       "    }\n",
       "\n",
       "    .dataframe tbody tr th {\n",
       "        vertical-align: top;\n",
       "    }\n",
       "\n",
       "    .dataframe thead th {\n",
       "        text-align: right;\n",
       "    }\n",
       "</style>\n",
       "<table border=\"1\" class=\"dataframe\">\n",
       "  <thead>\n",
       "    <tr style=\"text-align: right;\">\n",
       "      <th></th>\n",
       "      <th>country</th>\n",
       "      <th>child_mort</th>\n",
       "      <th>exports</th>\n",
       "      <th>health</th>\n",
       "      <th>imports</th>\n",
       "      <th>income</th>\n",
       "      <th>inflation</th>\n",
       "      <th>life_expec</th>\n",
       "      <th>total_fer</th>\n",
       "      <th>gdpp</th>\n",
       "    </tr>\n",
       "  </thead>\n",
       "  <tbody>\n",
       "    <tr>\n",
       "      <td>0</td>\n",
       "      <td>Afghanistan</td>\n",
       "      <td>90.2</td>\n",
       "      <td>55.30</td>\n",
       "      <td>41.9174</td>\n",
       "      <td>248.297</td>\n",
       "      <td>1610</td>\n",
       "      <td>9.44</td>\n",
       "      <td>56.2</td>\n",
       "      <td>5.82</td>\n",
       "      <td>553</td>\n",
       "    </tr>\n",
       "    <tr>\n",
       "      <td>1</td>\n",
       "      <td>Albania</td>\n",
       "      <td>16.6</td>\n",
       "      <td>1145.20</td>\n",
       "      <td>267.8950</td>\n",
       "      <td>1987.740</td>\n",
       "      <td>9930</td>\n",
       "      <td>4.49</td>\n",
       "      <td>76.3</td>\n",
       "      <td>1.65</td>\n",
       "      <td>4090</td>\n",
       "    </tr>\n",
       "    <tr>\n",
       "      <td>2</td>\n",
       "      <td>Algeria</td>\n",
       "      <td>27.3</td>\n",
       "      <td>1712.64</td>\n",
       "      <td>185.9820</td>\n",
       "      <td>1400.440</td>\n",
       "      <td>12900</td>\n",
       "      <td>16.10</td>\n",
       "      <td>76.5</td>\n",
       "      <td>2.89</td>\n",
       "      <td>4460</td>\n",
       "    </tr>\n",
       "    <tr>\n",
       "      <td>3</td>\n",
       "      <td>Angola</td>\n",
       "      <td>119.0</td>\n",
       "      <td>2199.19</td>\n",
       "      <td>100.6050</td>\n",
       "      <td>1514.370</td>\n",
       "      <td>5900</td>\n",
       "      <td>22.40</td>\n",
       "      <td>60.1</td>\n",
       "      <td>6.16</td>\n",
       "      <td>3530</td>\n",
       "    </tr>\n",
       "    <tr>\n",
       "      <td>4</td>\n",
       "      <td>Antigua and Barbuda</td>\n",
       "      <td>10.3</td>\n",
       "      <td>5551.00</td>\n",
       "      <td>735.6600</td>\n",
       "      <td>7185.800</td>\n",
       "      <td>19100</td>\n",
       "      <td>1.44</td>\n",
       "      <td>76.8</td>\n",
       "      <td>2.13</td>\n",
       "      <td>12200</td>\n",
       "    </tr>\n",
       "  </tbody>\n",
       "</table>\n",
       "</div>"
      ],
      "text/plain": [
       "               country  child_mort  exports    health   imports  income  \\\n",
       "0          Afghanistan        90.2    55.30   41.9174   248.297    1610   \n",
       "1              Albania        16.6  1145.20  267.8950  1987.740    9930   \n",
       "2              Algeria        27.3  1712.64  185.9820  1400.440   12900   \n",
       "3               Angola       119.0  2199.19  100.6050  1514.370    5900   \n",
       "4  Antigua and Barbuda        10.3  5551.00  735.6600  7185.800   19100   \n",
       "\n",
       "   inflation  life_expec  total_fer   gdpp  \n",
       "0       9.44        56.2       5.82    553  \n",
       "1       4.49        76.3       1.65   4090  \n",
       "2      16.10        76.5       2.89   4460  \n",
       "3      22.40        60.1       6.16   3530  \n",
       "4       1.44        76.8       2.13  12200  "
      ]
     },
     "execution_count": 38,
     "metadata": {},
     "output_type": "execute_result"
    }
   ],
   "source": [
    "help_df_new=df_help\n",
    "help_df_new.head()"
   ]
  },
  {
   "cell_type": "markdown",
   "metadata": {},
   "source": [
    "### Data Preperation"
   ]
  },
  {
   "cell_type": "code",
   "execution_count": 39,
   "metadata": {},
   "outputs": [
    {
     "data": {
      "text/plain": [
       "<matplotlib.axes._subplots.AxesSubplot at 0x253348dae88>"
      ]
     },
     "execution_count": 39,
     "metadata": {},
     "output_type": "execute_result"
    },
    {
     "data": {
      "image/png": "[encoded data removed]",
      "text/plain": [
       "<Figure size 1440x720 with 2 Axes>"
      ]
     },
     "metadata": {
      "needs_background": "light"
     },
     "output_type": "display_data"
    }
   ],
   "source": [
    "\n",
    "#first let's plot the correlation matrix and check if the features are correlated\n",
    "\n",
    "plt.figure(figsize = (20,10))        \n",
    "sns.heatmap(df_help.corr(),annot = True)"
   ]
  },
  {
   "cell_type": "markdown",
   "metadata": {},
   "source": [
    "### Feature  Income is highly positively correlated with  exports, gdpp, health, imports & life_expec "
   ]
  },
  {
   "cell_type": "markdown",
   "metadata": {},
   "source": [
    "#####  For PCA, dataset would only contain the numeric columns. Hence let's drop the country column."
   ]
  },
  {
   "cell_type": "code",
   "execution_count": 40,
   "metadata": {},
   "outputs": [
    {
     "data": {
      "text/html": [
       "<div>\n",
       "<style scoped>\n",
       "    .dataframe tbody tr th:only-of-type {\n",
       "        vertical-align: middle;\n",
       "    }\n",
       "\n",
       "    .dataframe tbody tr th {\n",
       "        vertical-align: top;\n",
       "    }\n",
       "\n",
       "    .dataframe thead th {\n",
       "        text-align: right;\n",
       "    }\n",
       "</style>\n",
       "<table border=\"1\" class=\"dataframe\">\n",
       "  <thead>\n",
       "    <tr style=\"text-align: right;\">\n",
       "      <th></th>\n",
       "      <th>child_mort</th>\n",
       "      <th>exports</th>\n",
       "      <th>health</th>\n",
       "      <th>imports</th>\n",
       "      <th>income</th>\n",
       "      <th>inflation</th>\n",
       "      <th>life_expec</th>\n",
       "      <th>total_fer</th>\n",
       "      <th>gdpp</th>\n",
       "    </tr>\n",
       "  </thead>\n",
       "  <tbody>\n",
       "    <tr>\n",
       "      <td>0</td>\n",
       "      <td>90.2</td>\n",
       "      <td>55.30</td>\n",
       "      <td>41.9174</td>\n",
       "      <td>248.297</td>\n",
       "      <td>1610</td>\n",
       "      <td>9.44</td>\n",
       "      <td>56.2</td>\n",
       "      <td>5.82</td>\n",
       "      <td>553</td>\n",
       "    </tr>\n",
       "    <tr>\n",
       "      <td>1</td>\n",
       "      <td>16.6</td>\n",
       "      <td>1145.20</td>\n",
       "      <td>267.8950</td>\n",
       "      <td>1987.740</td>\n",
       "      <td>9930</td>\n",
       "      <td>4.49</td>\n",
       "      <td>76.3</td>\n",
       "      <td>1.65</td>\n",
       "      <td>4090</td>\n",
       "    </tr>\n",
       "    <tr>\n",
       "      <td>2</td>\n",
       "      <td>27.3</td>\n",
       "      <td>1712.64</td>\n",
       "      <td>185.9820</td>\n",
       "      <td>1400.440</td>\n",
       "      <td>12900</td>\n",
       "      <td>16.10</td>\n",
       "      <td>76.5</td>\n",
       "      <td>2.89</td>\n",
       "      <td>4460</td>\n",
       "    </tr>\n",
       "    <tr>\n",
       "      <td>3</td>\n",
       "      <td>119.0</td>\n",
       "      <td>2199.19</td>\n",
       "      <td>100.6050</td>\n",
       "      <td>1514.370</td>\n",
       "      <td>5900</td>\n",
       "      <td>22.40</td>\n",
       "      <td>60.1</td>\n",
       "      <td>6.16</td>\n",
       "      <td>3530</td>\n",
       "    </tr>\n",
       "    <tr>\n",
       "      <td>4</td>\n",
       "      <td>10.3</td>\n",
       "      <td>5551.00</td>\n",
       "      <td>735.6600</td>\n",
       "      <td>7185.800</td>\n",
       "      <td>19100</td>\n",
       "      <td>1.44</td>\n",
       "      <td>76.8</td>\n",
       "      <td>2.13</td>\n",
       "      <td>12200</td>\n",
       "    </tr>\n",
       "  </tbody>\n",
       "</table>\n",
       "</div>"
      ],
      "text/plain": [
       "   child_mort  exports    health   imports  income  inflation  life_expec  \\\n",
       "0        90.2    55.30   41.9174   248.297    1610       9.44        56.2   \n",
       "1        16.6  1145.20  267.8950  1987.740    9930       4.49        76.3   \n",
       "2        27.3  1712.64  185.9820  1400.440   12900      16.10        76.5   \n",
       "3       119.0  2199.19  100.6050  1514.370    5900      22.40        60.1   \n",
       "4        10.3  5551.00  735.6600  7185.800   19100       1.44        76.8   \n",
       "\n",
       "   total_fer   gdpp  \n",
       "0       5.82    553  \n",
       "1       1.65   4090  \n",
       "2       2.89   4460  \n",
       "3       6.16   3530  \n",
       "4       2.13  12200  "
      ]
     },
     "execution_count": 40,
     "metadata": {},
     "output_type": "execute_result"
    }
   ],
   "source": [
    "\n",
    "ff=df_help[\"country\"]\n",
    "df1_help=df_help.drop(['country'],axis=1)\n",
    "df1_help.head() "
   ]
  },
  {
   "cell_type": "markdown",
   "metadata": {},
   "source": [
    "### Checking Outliers"
   ]
  },
  {
   "cell_type": "code",
   "execution_count": 41,
   "metadata": {},
   "outputs": [],
   "source": [
    "# Checking for outliers in the continuous variables\n",
    "#num_ngo = df1_help[['child_mort','exports','health','imports','income','inflation','life_expec','total_fer','gdpp']]"
   ]
  },
  {
   "cell_type": "code",
   "execution_count": 42,
   "metadata": {},
   "outputs": [
    {
     "data": {
      "text/plain": [
       "<matplotlib.axes._subplots.AxesSubplot at 0x25334e58d48>"
      ]
     },
     "execution_count": 42,
     "metadata": {},
     "output_type": "execute_result"
    },
    {
     "data": {
      "image/png": "[encoded data removed]",
      "text/plain": [
       "<Figure size 432x288 with 1 Axes>"
      ]
     },
     "metadata": {
      "needs_background": "light"
     },
     "output_type": "display_data"
    }
   ],
   "source": [
    "df1_help.boxplot('income')"
   ]
  },
  {
   "cell_type": "code",
   "execution_count": 43,
   "metadata": {},
   "outputs": [
    {
     "data": {
      "text/plain": [
       "<matplotlib.axes._subplots.AxesSubplot at 0x253349d63c8>"
      ]
     },
     "execution_count": 43,
     "metadata": {},
     "output_type": "execute_result"
    },
    {
     "data": {
      "image/png": "[encoded data removed]",
      "text/plain": [
       "<Figure size 432x288 with 1 Axes>"
      ]
     },
     "metadata": {
      "needs_background": "light"
     },
     "output_type": "display_data"
    }
   ],
   "source": [
    "df1_help.boxplot('gdpp')"
   ]
  },
  {
   "cell_type": "code",
   "execution_count": 44,
   "metadata": {},
   "outputs": [
    {
     "data": {
      "text/plain": [
       "<matplotlib.axes._subplots.AxesSubplot at 0x253349dca48>"
      ]
     },
     "execution_count": 44,
     "metadata": {},
     "output_type": "execute_result"
    },
    {
     "data": {
      "image/png": "[encoded data removed]",
      "text/plain": [
       "<Figure size 432x288 with 1 Axes>"
      ]
     },
     "metadata": {
      "needs_background": "light"
     },
     "output_type": "display_data"
    }
   ],
   "source": [
    "df1_help.boxplot('income')"
   ]
  },
  {
   "cell_type": "code",
   "execution_count": 45,
   "metadata": {},
   "outputs": [
    {
     "data": {
      "text/plain": [
       "<matplotlib.axes._subplots.AxesSubplot at 0x25334a44348>"
      ]
     },
     "execution_count": 45,
     "metadata": {},
     "output_type": "execute_result"
    },
    {
     "data": {
      "image/png": "[encoded data removed]",
      "text/plain": [
       "<Figure size 432x288 with 1 Axes>"
      ]
     },
     "metadata": {
      "needs_background": "light"
     },
     "output_type": "display_data"
    }
   ],
   "source": [
    "df1_help.boxplot('exports')"
   ]
  },
  {
   "cell_type": "code",
   "execution_count": 46,
   "metadata": {},
   "outputs": [
    {
     "data": {
      "text/plain": [
       "<matplotlib.axes._subplots.AxesSubplot at 0x25334b0f908>"
      ]
     },
     "execution_count": 46,
     "metadata": {},
     "output_type": "execute_result"
    },
    {
     "data": {
      "image/png": "[encoded data removed]",
      "text/plain": [
       "<Figure size 432x288 with 1 Axes>"
      ]
     },
     "metadata": {
      "needs_background": "light"
     },
     "output_type": "display_data"
    }
   ],
   "source": [
    "df1_help.boxplot('health')"
   ]
  },
  {
   "cell_type": "code",
   "execution_count": 47,
   "metadata": {},
   "outputs": [
    {
     "data": {
      "text/plain": [
       "<matplotlib.axes._subplots.AxesSubplot at 0x25334b503c8>"
      ]
     },
     "execution_count": 47,
     "metadata": {},
     "output_type": "execute_result"
    },
    {
     "data": {
      "image/png": "[encoded data removed]",
      "text/plain": [
       "<Figure size 432x288 with 1 Axes>"
      ]
     },
     "metadata": {
      "needs_background": "light"
     },
     "output_type": "display_data"
    }
   ],
   "source": [
    "df1_help.boxplot('inflation')"
   ]
  },
  {
   "cell_type": "markdown",
   "metadata": {},
   "source": [
    "### Developed Countries have very High income & gdpp, Low inflation, Low child_mort & High spenditure on health. \n",
    "\n",
    "### Thus would not be the choice for Help NGO to provide aid. Thus the outliers with very high income values could be removed from the dataset as its not going to affect the final inferences as objective here is to identify under developed countries which need financial aid whenever required and Help NGO can support them. \n",
    "\n",
    "### Removing top 5% developed countries with respect to very high income.\n",
    "\n",
    "### Removing country with very high inflation value (Nigeria with inflation rate as 140)  as when clustered its forming a seperate cluster with single country which does not make any sense."
   ]
  },
  {
   "cell_type": "code",
   "execution_count": 48,
   "metadata": {},
   "outputs": [],
   "source": [
    "#Removing Outliers on income \n",
    "\n",
    "Q = df1_help.income.quantile(0.95)\n",
    "\n",
    "\n",
    "df1_help= df1_help[~(df1_help.income > Q)]\n"
   ]
  },
  {
   "cell_type": "code",
   "execution_count": 49,
   "metadata": {},
   "outputs": [
    {
     "data": {
      "text/plain": [
       "(158, 9)"
      ]
     },
     "execution_count": 49,
     "metadata": {},
     "output_type": "execute_result"
    }
   ],
   "source": [
    "df1_help.shape"
   ]
  },
  {
   "cell_type": "code",
   "execution_count": 50,
   "metadata": {},
   "outputs": [],
   "source": [
    "# Removing Outliers on inflation\n",
    "\n",
    "df1_help= df1_help[~(df1_help.inflation > 46)]\n"
   ]
  },
  {
   "cell_type": "code",
   "execution_count": 51,
   "metadata": {},
   "outputs": [
    {
     "data": {
      "text/plain": [
       "(157, 9)"
      ]
     },
     "execution_count": 51,
     "metadata": {},
     "output_type": "execute_result"
    }
   ],
   "source": [
    "df1_help.shape"
   ]
  },
  {
   "cell_type": "code",
   "execution_count": 52,
   "metadata": {},
   "outputs": [
    {
     "data": {
      "text/plain": [
       "(158, 10)"
      ]
     },
     "execution_count": 52,
     "metadata": {},
     "output_type": "execute_result"
    }
   ],
   "source": [
    "#Removing Outliers of income column (with Country Column present in dataset)\n",
    "\n",
    "Q = help_df_new.income.quantile(0.95)\n",
    "\n",
    "\n",
    "help_df_new= help_df_new[~(help_df_new.income > Q)]\n",
    "help_df_new.shape"
   ]
  },
  {
   "cell_type": "code",
   "execution_count": 53,
   "metadata": {},
   "outputs": [
    {
     "data": {
      "text/plain": [
       "(157, 10)"
      ]
     },
     "execution_count": 53,
     "metadata": {},
     "output_type": "execute_result"
    }
   ],
   "source": [
    "#Removing Outliers of inflation column (with Country Column present in dataset)\n",
    "\n",
    "help_df_new= help_df_new[~(help_df_new.inflation > 46)]\n",
    "help_df_new.shape"
   ]
  },
  {
   "cell_type": "code",
   "execution_count": 54,
   "metadata": {},
   "outputs": [],
   "source": [
    "df_country= help_df_new['country']"
   ]
  },
  {
   "cell_type": "code",
   "execution_count": 55,
   "metadata": {},
   "outputs": [
    {
     "data": {
      "text/plain": [
       "0            Afghanistan\n",
       "1                Albania\n",
       "2                Algeria\n",
       "3                 Angola\n",
       "4    Antigua and Barbuda\n",
       "Name: country, dtype: object"
      ]
     },
     "execution_count": 55,
     "metadata": {},
     "output_type": "execute_result"
    }
   ],
   "source": [
    "df_country= df_country.reset_index(drop=True)\n",
    "\n",
    "df_country.head()"
   ]
  },
  {
   "cell_type": "code",
   "execution_count": 56,
   "metadata": {},
   "outputs": [],
   "source": [
    "#print(help_df_new.isnull().sum())"
   ]
  },
  {
   "cell_type": "markdown",
   "metadata": {},
   "source": [
    "### Checking Descriptive Statistics of all Numeric Columns"
   ]
  },
  {
   "cell_type": "code",
   "execution_count": 57,
   "metadata": {},
   "outputs": [
    {
     "data": {
      "text/html": [
       "<div>\n",
       "<style scoped>\n",
       "    .dataframe tbody tr th:only-of-type {\n",
       "        vertical-align: middle;\n",
       "    }\n",
       "\n",
       "    .dataframe tbody tr th {\n",
       "        vertical-align: top;\n",
       "    }\n",
       "\n",
       "    .dataframe thead th {\n",
       "        text-align: right;\n",
       "    }\n",
       "</style>\n",
       "<table border=\"1\" class=\"dataframe\">\n",
       "  <thead>\n",
       "    <tr style=\"text-align: right;\">\n",
       "      <th></th>\n",
       "      <th>child_mort</th>\n",
       "      <th>exports</th>\n",
       "      <th>health</th>\n",
       "      <th>imports</th>\n",
       "      <th>income</th>\n",
       "      <th>inflation</th>\n",
       "      <th>life_expec</th>\n",
       "      <th>total_fer</th>\n",
       "      <th>gdpp</th>\n",
       "    </tr>\n",
       "  </thead>\n",
       "  <tbody>\n",
       "    <tr>\n",
       "      <td>count</td>\n",
       "      <td>157.000000</td>\n",
       "      <td>157.000000</td>\n",
       "      <td>157.000000</td>\n",
       "      <td>157.000000</td>\n",
       "      <td>157.000000</td>\n",
       "      <td>157.000000</td>\n",
       "      <td>157.000000</td>\n",
       "      <td>157.000000</td>\n",
       "      <td>157.000000</td>\n",
       "    </tr>\n",
       "    <tr>\n",
       "      <td>mean</td>\n",
       "      <td>39.500637</td>\n",
       "      <td>4793.872978</td>\n",
       "      <td>867.630026</td>\n",
       "      <td>4692.063580</td>\n",
       "      <td>13940.210191</td>\n",
       "      <td>7.242834</td>\n",
       "      <td>70.096178</td>\n",
       "      <td>2.995541</td>\n",
       "      <td>10326.012739</td>\n",
       "    </tr>\n",
       "    <tr>\n",
       "      <td>std</td>\n",
       "      <td>40.209825</td>\n",
       "      <td>7742.478871</td>\n",
       "      <td>1418.229105</td>\n",
       "      <td>6995.792009</td>\n",
       "      <td>12944.981404</td>\n",
       "      <td>7.574587</td>\n",
       "      <td>8.844779</td>\n",
       "      <td>1.516919</td>\n",
       "      <td>13723.344499</td>\n",
       "    </tr>\n",
       "    <tr>\n",
       "      <td>min</td>\n",
       "      <td>2.600000</td>\n",
       "      <td>1.076920</td>\n",
       "      <td>12.821200</td>\n",
       "      <td>0.651092</td>\n",
       "      <td>609.000000</td>\n",
       "      <td>-4.210000</td>\n",
       "      <td>32.100000</td>\n",
       "      <td>1.230000</td>\n",
       "      <td>231.000000</td>\n",
       "    </tr>\n",
       "    <tr>\n",
       "      <td>25%</td>\n",
       "      <td>10.000000</td>\n",
       "      <td>425.226000</td>\n",
       "      <td>67.858000</td>\n",
       "      <td>562.020000</td>\n",
       "      <td>3280.000000</td>\n",
       "      <td>1.850000</td>\n",
       "      <td>64.600000</td>\n",
       "      <td>1.800000</td>\n",
       "      <td>1310.000000</td>\n",
       "    </tr>\n",
       "    <tr>\n",
       "      <td>50%</td>\n",
       "      <td>20.700000</td>\n",
       "      <td>1675.870000</td>\n",
       "      <td>278.481000</td>\n",
       "      <td>1831.950000</td>\n",
       "      <td>9860.000000</td>\n",
       "      <td>5.140000</td>\n",
       "      <td>72.100000</td>\n",
       "      <td>2.520000</td>\n",
       "      <td>4500.000000</td>\n",
       "    </tr>\n",
       "    <tr>\n",
       "      <td>75%</td>\n",
       "      <td>62.200000</td>\n",
       "      <td>5656.000000</td>\n",
       "      <td>827.970000</td>\n",
       "      <td>6052.000000</td>\n",
       "      <td>20100.000000</td>\n",
       "      <td>10.100000</td>\n",
       "      <td>76.400000</td>\n",
       "      <td>4.080000</td>\n",
       "      <td>12100.000000</td>\n",
       "    </tr>\n",
       "    <tr>\n",
       "      <td>90%</td>\n",
       "      <td>100.220000</td>\n",
       "      <td>12835.260000</td>\n",
       "      <td>3118.748000</td>\n",
       "      <td>12083.120000</td>\n",
       "      <td>36200.000000</td>\n",
       "      <td>16.600000</td>\n",
       "      <td>80.300000</td>\n",
       "      <td>5.322000</td>\n",
       "      <td>31960.000000</td>\n",
       "    </tr>\n",
       "    <tr>\n",
       "      <td>95%</td>\n",
       "      <td>116.000000</td>\n",
       "      <td>18778.440000</td>\n",
       "      <td>4574.856000</td>\n",
       "      <td>17796.540000</td>\n",
       "      <td>41160.000000</td>\n",
       "      <td>20.820000</td>\n",
       "      <td>81.320000</td>\n",
       "      <td>5.926000</td>\n",
       "      <td>44840.000000</td>\n",
       "    </tr>\n",
       "    <tr>\n",
       "      <td>99%</td>\n",
       "      <td>154.400000</td>\n",
       "      <td>34931.136000</td>\n",
       "      <td>5633.180000</td>\n",
       "      <td>32790.032000</td>\n",
       "      <td>45444.000000</td>\n",
       "      <td>32.088000</td>\n",
       "      <td>82.000000</td>\n",
       "      <td>6.567600</td>\n",
       "      <td>51988.000000</td>\n",
       "    </tr>\n",
       "    <tr>\n",
       "      <td>max</td>\n",
       "      <td>208.000000</td>\n",
       "      <td>50161.000000</td>\n",
       "      <td>6612.000000</td>\n",
       "      <td>42125.500000</td>\n",
       "      <td>45700.000000</td>\n",
       "      <td>45.900000</td>\n",
       "      <td>82.800000</td>\n",
       "      <td>7.490000</td>\n",
       "      <td>58000.000000</td>\n",
       "    </tr>\n",
       "  </tbody>\n",
       "</table>\n",
       "</div>"
      ],
      "text/plain": [
       "       child_mort       exports       health       imports        income  \\\n",
       "count  157.000000    157.000000   157.000000    157.000000    157.000000   \n",
       "mean    39.500637   4793.872978   867.630026   4692.063580  13940.210191   \n",
       "std     40.209825   7742.478871  1418.229105   6995.792009  12944.981404   \n",
       "min      2.600000      1.076920    12.821200      0.651092    609.000000   \n",
       "25%     10.000000    425.226000    67.858000    562.020000   3280.000000   \n",
       "50%     20.700000   1675.870000   278.481000   1831.950000   9860.000000   \n",
       "75%     62.200000   5656.000000   827.970000   6052.000000  20100.000000   \n",
       "90%    100.220000  12835.260000  3118.748000  12083.120000  36200.000000   \n",
       "95%    116.000000  18778.440000  4574.856000  17796.540000  41160.000000   \n",
       "99%    154.400000  34931.136000  5633.180000  32790.032000  45444.000000   \n",
       "max    208.000000  50161.000000  6612.000000  42125.500000  45700.000000   \n",
       "\n",
       "        inflation  life_expec   total_fer          gdpp  \n",
       "count  157.000000  157.000000  157.000000    157.000000  \n",
       "mean     7.242834   70.096178    2.995541  10326.012739  \n",
       "std      7.574587    8.844779    1.516919  13723.344499  \n",
       "min     -4.210000   32.100000    1.230000    231.000000  \n",
       "25%      1.850000   64.600000    1.800000   1310.000000  \n",
       "50%      5.140000   72.100000    2.520000   4500.000000  \n",
       "75%     10.100000   76.400000    4.080000  12100.000000  \n",
       "90%     16.600000   80.300000    5.322000  31960.000000  \n",
       "95%     20.820000   81.320000    5.926000  44840.000000  \n",
       "99%     32.088000   82.000000    6.567600  51988.000000  \n",
       "max     45.900000   82.800000    7.490000  58000.000000  "
      ]
     },
     "execution_count": 57,
     "metadata": {},
     "output_type": "execute_result"
    }
   ],
   "source": [
    "\n",
    "# Checking values at 25%,50%,75%,90%,95% and 99%\n",
    "\n",
    "df1_help.describe(percentiles=[.25,.5,.75,.90,.95,.99])"
   ]
  },
  {
   "cell_type": "markdown",
   "metadata": {},
   "source": [
    "### As the values are gradually increasing thus there are no outliers in dataset. Thus we good to go with this dataset."
   ]
  },
  {
   "cell_type": "code",
   "execution_count": 58,
   "metadata": {},
   "outputs": [],
   "source": [
    "# Checking the percentage of missing values\n",
    "\n",
    "#round(100*(df1_help.isnull().sum()/len(df1_help.index)), 2)"
   ]
  },
  {
   "cell_type": "markdown",
   "metadata": {},
   "source": [
    "### Checking Correlation "
   ]
  },
  {
   "cell_type": "code",
   "execution_count": 59,
   "metadata": {},
   "outputs": [
    {
     "data": {
      "text/plain": [
       "<matplotlib.axes._subplots.AxesSubplot at 0x25334e380c8>"
      ]
     },
     "execution_count": 59,
     "metadata": {},
     "output_type": "execute_result"
    },
    {
     "data": {
      "image/png": "[encoded data removed]",
      "text/plain": [
       "<Figure size 432x288 with 2 Axes>"
      ]
     },
     "metadata": {
      "needs_background": "light"
     },
     "output_type": "display_data"
    }
   ],
   "source": [
    "#checking correlation\n",
    "\n",
    "sns.heatmap(df_help.corr(),annot = True)"
   ]
  },
  {
   "cell_type": "markdown",
   "metadata": {},
   "source": [
    "### Features seem to have High Correlations !!! Multi Collinearity is Present in Data !!"
   ]
  },
  {
   "cell_type": "markdown",
   "metadata": {},
   "source": [
    "### Checking the scatter pairplots between different numeric features "
   ]
  },
  {
   "cell_type": "markdown",
   "metadata": {},
   "source": [
    "### Its evident that countries having high income have high gdpp, low inflation, high exports, low child_mort, high life_expec  and high spenditure on health. Thus these features are highly correlated."
   ]
  },
  {
   "cell_type": "markdown",
   "metadata": {},
   "source": [
    "### Feature Standardisation"
   ]
  },
  {
   "cell_type": "code",
   "execution_count": 60,
   "metadata": {},
   "outputs": [],
   "source": [
    "# Normalizing numeric features\n",
    "\n",
    "df = df_help[['child_mort','exports','health','imports','income','inflation','life_expec','total_fer','gdpp']]"
   ]
  },
  {
   "cell_type": "code",
   "execution_count": 61,
   "metadata": {},
   "outputs": [
    {
     "data": {
      "text/html": [
       "<div>\n",
       "<style scoped>\n",
       "    .dataframe tbody tr th:only-of-type {\n",
       "        vertical-align: middle;\n",
       "    }\n",
       "\n",
       "    .dataframe tbody tr th {\n",
       "        vertical-align: top;\n",
       "    }\n",
       "\n",
       "    .dataframe thead th {\n",
       "        text-align: right;\n",
       "    }\n",
       "</style>\n",
       "<table border=\"1\" class=\"dataframe\">\n",
       "  <thead>\n",
       "    <tr style=\"text-align: right;\">\n",
       "      <th></th>\n",
       "      <th>child_mort</th>\n",
       "      <th>exports</th>\n",
       "      <th>health</th>\n",
       "      <th>imports</th>\n",
       "      <th>income</th>\n",
       "      <th>inflation</th>\n",
       "      <th>life_expec</th>\n",
       "      <th>total_fer</th>\n",
       "      <th>gdpp</th>\n",
       "    </tr>\n",
       "  </thead>\n",
       "  <tbody>\n",
       "    <tr>\n",
       "      <td>0</td>\n",
       "      <td>1.260870</td>\n",
       "      <td>-0.612023</td>\n",
       "      <td>-0.582214</td>\n",
       "      <td>-0.635206</td>\n",
       "      <td>-0.952509</td>\n",
       "      <td>0.290071</td>\n",
       "      <td>-1.571117</td>\n",
       "      <td>1.861971</td>\n",
       "      <td>-0.712145</td>\n",
       "    </tr>\n",
       "    <tr>\n",
       "      <td>1</td>\n",
       "      <td>-0.569528</td>\n",
       "      <td>-0.471254</td>\n",
       "      <td>-0.422876</td>\n",
       "      <td>-0.386564</td>\n",
       "      <td>-0.309789</td>\n",
       "      <td>-0.363430</td>\n",
       "      <td>0.701411</td>\n",
       "      <td>-0.887023</td>\n",
       "      <td>-0.454409</td>\n",
       "    </tr>\n",
       "    <tr>\n",
       "      <td>2</td>\n",
       "      <td>-0.303424</td>\n",
       "      <td>-0.397965</td>\n",
       "      <td>-0.480633</td>\n",
       "      <td>-0.470515</td>\n",
       "      <td>-0.080356</td>\n",
       "      <td>1.169327</td>\n",
       "      <td>0.724023</td>\n",
       "      <td>-0.069576</td>\n",
       "      <td>-0.427448</td>\n",
       "    </tr>\n",
       "    <tr>\n",
       "      <td>3</td>\n",
       "      <td>1.977113</td>\n",
       "      <td>-0.335123</td>\n",
       "      <td>-0.540833</td>\n",
       "      <td>-0.454229</td>\n",
       "      <td>-0.621106</td>\n",
       "      <td>2.001055</td>\n",
       "      <td>-1.130178</td>\n",
       "      <td>2.086109</td>\n",
       "      <td>-0.495215</td>\n",
       "    </tr>\n",
       "    <tr>\n",
       "      <td>4</td>\n",
       "      <td>-0.726207</td>\n",
       "      <td>0.097789</td>\n",
       "      <td>-0.093053</td>\n",
       "      <td>0.356462</td>\n",
       "      <td>0.398594</td>\n",
       "      <td>-0.766092</td>\n",
       "      <td>0.757941</td>\n",
       "      <td>-0.570592</td>\n",
       "      <td>0.136555</td>\n",
       "    </tr>\n",
       "  </tbody>\n",
       "</table>\n",
       "</div>"
      ],
      "text/plain": [
       "   child_mort   exports    health   imports    income  inflation  life_expec  \\\n",
       "0    1.260870 -0.612023 -0.582214 -0.635206 -0.952509   0.290071   -1.571117   \n",
       "1   -0.569528 -0.471254 -0.422876 -0.386564 -0.309789  -0.363430    0.701411   \n",
       "2   -0.303424 -0.397965 -0.480633 -0.470515 -0.080356   1.169327    0.724023   \n",
       "3    1.977113 -0.335123 -0.540833 -0.454229 -0.621106   2.001055   -1.130178   \n",
       "4   -0.726207  0.097789 -0.093053  0.356462  0.398594  -0.766092    0.757941   \n",
       "\n",
       "   total_fer      gdpp  \n",
       "0   1.861971 -0.712145  \n",
       "1  -0.887023 -0.454409  \n",
       "2  -0.069576 -0.427448  \n",
       "3   2.086109 -0.495215  \n",
       "4  -0.570592  0.136555  "
      ]
     },
     "execution_count": 61,
     "metadata": {},
     "output_type": "execute_result"
    }
   ],
   "source": [
    "# Normalizing numeric features\n",
    "\n",
    "normalized_df=(df1_help-df1_help.mean())/(df1_help.std())\n",
    "\n",
    "normalized_df.head()\n"
   ]
  },
  {
   "cell_type": "code",
   "execution_count": 62,
   "metadata": {},
   "outputs": [
    {
     "data": {
      "text/plain": [
       "(157, 9)"
      ]
     },
     "execution_count": 62,
     "metadata": {},
     "output_type": "execute_result"
    }
   ],
   "source": [
    "normalized_df.shape"
   ]
  },
  {
   "cell_type": "code",
   "execution_count": 63,
   "metadata": {},
   "outputs": [],
   "source": [
    "\n",
    "X=normalized_df"
   ]
  },
  {
   "cell_type": "code",
   "execution_count": 64,
   "metadata": {
    "scrolled": true
   },
   "outputs": [
    {
     "data": {
      "text/plain": [
       "<Figure size 288x288 with 0 Axes>"
      ]
     },
     "metadata": {},
     "output_type": "display_data"
    },
    {
     "data": {
      "image/png": "[encoded data removed]",
      "text/plain": [
       "<Figure size 1152x288 with 4 Axes>"
      ]
     },
     "metadata": {
      "needs_background": "light"
     },
     "output_type": "display_data"
    },
    {
     "data": {
      "image/png": "[encoded data removed]",
      "text/plain": [
       "<Figure size 864x288 with 3 Axes>"
      ]
     },
     "metadata": {
      "needs_background": "light"
     },
     "output_type": "display_data"
    },
    {
     "data": {
      "image/png": "[encoded data removed]",
      "text/plain": [
       "<Figure size 864x288 with 3 Axes>"
      ]
     },
     "metadata": {
      "needs_background": "light"
     },
     "output_type": "display_data"
    }
   ],
   "source": [
    "#  Making pairplot for all numeric values that we need\n",
    "\n",
    "plt.figure(figsize=(4,4))\n",
    "sns.pairplot(X, x_vars=['child_mort','health','life_expec', 'gdpp'], y_vars='income',height=4, aspect=1,kind='scatter')\n",
    "\n",
    "sns.pairplot(X, x_vars=['inflation','gdpp','exports'], y_vars='income',height=4, aspect=1,kind='scatter')\n",
    "\n",
    "sns.pairplot(X, x_vars=['inflation','child_mort','health'], y_vars='gdpp',height=4, aspect=1,kind='scatter')\n",
    "\n",
    "plt.show()"
   ]
  },
  {
   "cell_type": "markdown",
   "metadata": {},
   "source": [
    "## PCA on Scaled Dataset \n",
    "\n",
    "### PCA derives the feature's  Principle Components which are uncorrelated, orthogonal  and cover maximum variance of data without actually loosing any data."
   ]
  },
  {
   "cell_type": "code",
   "execution_count": 65,
   "metadata": {},
   "outputs": [],
   "source": [
    "#Improting the PCA module\n",
    "\n",
    "from sklearn.decomposition import PCA\n",
    "pca = PCA(svd_solver='randomized', random_state=42)"
   ]
  },
  {
   "cell_type": "code",
   "execution_count": 66,
   "metadata": {},
   "outputs": [
    {
     "data": {
      "text/plain": [
       "PCA(copy=True, iterated_power='auto', n_components=None, random_state=42,\n",
       "    svd_solver='randomized', tol=0.0, whiten=False)"
      ]
     },
     "execution_count": 66,
     "metadata": {},
     "output_type": "execute_result"
    }
   ],
   "source": [
    "#Doing the PCA on dataset\n",
    "\n",
    "pca.fit(X)"
   ]
  },
  {
   "cell_type": "markdown",
   "metadata": {},
   "source": [
    "#### Plotting  Principal Components"
   ]
  },
  {
   "cell_type": "code",
   "execution_count": 67,
   "metadata": {},
   "outputs": [
    {
     "data": {
      "text/plain": [
       "array([[-3.03595000e-01,  3.57248273e-01,  3.66327518e-01,\n",
       "         3.65603757e-01,  3.83197718e-01, -1.64918851e-01,\n",
       "         3.29683259e-01, -2.88937537e-01,  3.82265772e-01],\n",
       "       [ 5.20552779e-01,  3.22225318e-01,  2.61603304e-01,\n",
       "         2.90019631e-01,  8.80922029e-02,  8.15362030e-03,\n",
       "        -4.00748534e-01,  5.03356102e-01,  2.25509431e-01],\n",
       "       [-8.05079192e-02,  6.94970089e-02,  8.10487237e-03,\n",
       "         6.23816403e-04,  1.67732269e-01,  9.72035392e-01,\n",
       "         1.01286170e-01,  4.31887465e-02,  5.92578211e-02],\n",
       "       [-7.36569894e-02,  5.15743693e-01, -4.73316465e-01,\n",
       "         4.95836194e-01, -1.64605090e-01,  3.90865984e-02,\n",
       "        -1.55380074e-01, -2.08670138e-01, -4.02979270e-01],\n",
       "       [ 2.24360753e-01, -1.02377145e-01,  1.06014535e-01,\n",
       "        -1.07366147e-01,  1.76520431e-01,  8.20009640e-02,\n",
       "        -5.96497115e-01, -7.14971680e-01,  1.07413544e-01],\n",
       "       [ 1.15838846e-01, -2.67094997e-03, -5.06085658e-01,\n",
       "        -1.59897052e-01,  8.14572832e-01, -1.32020095e-01,\n",
       "         2.55375880e-02,  1.41981574e-01, -5.58151185e-02],\n",
       "       [ 7.48985542e-01,  2.36258462e-02, -3.03173538e-02,\n",
       "         3.86815872e-02, -8.42915569e-02,  3.09842117e-02,\n",
       "         5.82776850e-01, -2.91128418e-01, -5.99780765e-02],\n",
       "       [ 1.05470927e-02, -4.52681980e-01, -4.53993837e-01,\n",
       "         4.63947692e-01, -1.48067501e-01,  2.76228360e-02,\n",
       "        -1.28302609e-02, -2.56694260e-03,  5.92242947e-01],\n",
       "       [-1.00515556e-02,  5.30806703e-01, -3.14455682e-01,\n",
       "        -5.31535797e-01, -2.57784619e-01, -2.18682426e-02,\n",
       "         7.29770367e-03, -4.04181251e-02,  5.17795828e-01]])"
      ]
     },
     "execution_count": 67,
     "metadata": {},
     "output_type": "execute_result"
    }
   ],
   "source": [
    "pca.components_"
   ]
  },
  {
   "cell_type": "markdown",
   "metadata": {},
   "source": [
    "#### Checking the PC Variances Ratio"
   ]
  },
  {
   "cell_type": "code",
   "execution_count": 68,
   "metadata": {},
   "outputs": [
    {
     "data": {
      "text/plain": [
       "array([0.65504522, 0.15893564, 0.09822415, 0.03683439, 0.02599365,\n",
       "       0.01352207, 0.00952162, 0.00109122, 0.00083204])"
      ]
     },
     "execution_count": 68,
     "metadata": {},
     "output_type": "execute_result"
    }
   ],
   "source": [
    "#Let's check the variance ratios\n",
    "\n",
    "pca.explained_variance_ratio_"
   ]
  },
  {
   "cell_type": "markdown",
   "metadata": {},
   "source": [
    "### Its evident that PC1 is covering 65.5% of variance(information) ,  PC2 is explaining 16% of variance in data , 10% is being covered by PC3 & about 3.7% by PC4. "
   ]
  },
  {
   "cell_type": "markdown",
   "metadata": {},
   "source": [
    "#### Converting to Dataframe having features with  PC values as different columns "
   ]
  },
  {
   "cell_type": "code",
   "execution_count": 69,
   "metadata": {},
   "outputs": [
    {
     "data": {
      "text/html": [
       "<div>\n",
       "<style scoped>\n",
       "    .dataframe tbody tr th:only-of-type {\n",
       "        vertical-align: middle;\n",
       "    }\n",
       "\n",
       "    .dataframe tbody tr th {\n",
       "        vertical-align: top;\n",
       "    }\n",
       "\n",
       "    .dataframe thead th {\n",
       "        text-align: right;\n",
       "    }\n",
       "</style>\n",
       "<table border=\"1\" class=\"dataframe\">\n",
       "  <thead>\n",
       "    <tr style=\"text-align: right;\">\n",
       "      <th></th>\n",
       "      <th>Features</th>\n",
       "      <th>PC1</th>\n",
       "      <th>PC2</th>\n",
       "      <th>PC3</th>\n",
       "      <th>PC4</th>\n",
       "      <th>PC5</th>\n",
       "      <th>PC6</th>\n",
       "      <th>PC7</th>\n",
       "      <th>PC8</th>\n",
       "      <th>PC9</th>\n",
       "    </tr>\n",
       "  </thead>\n",
       "  <tbody>\n",
       "    <tr>\n",
       "      <td>0</td>\n",
       "      <td>child_mort</td>\n",
       "      <td>-0.303595</td>\n",
       "      <td>0.520553</td>\n",
       "      <td>-0.080508</td>\n",
       "      <td>-0.073657</td>\n",
       "      <td>0.224361</td>\n",
       "      <td>0.115839</td>\n",
       "      <td>0.748986</td>\n",
       "      <td>0.010547</td>\n",
       "      <td>-0.010052</td>\n",
       "    </tr>\n",
       "    <tr>\n",
       "      <td>1</td>\n",
       "      <td>exports</td>\n",
       "      <td>0.357248</td>\n",
       "      <td>0.322225</td>\n",
       "      <td>0.069497</td>\n",
       "      <td>0.515744</td>\n",
       "      <td>-0.102377</td>\n",
       "      <td>-0.002671</td>\n",
       "      <td>0.023626</td>\n",
       "      <td>-0.452682</td>\n",
       "      <td>0.530807</td>\n",
       "    </tr>\n",
       "    <tr>\n",
       "      <td>2</td>\n",
       "      <td>health</td>\n",
       "      <td>0.366328</td>\n",
       "      <td>0.261603</td>\n",
       "      <td>0.008105</td>\n",
       "      <td>-0.473316</td>\n",
       "      <td>0.106015</td>\n",
       "      <td>-0.506086</td>\n",
       "      <td>-0.030317</td>\n",
       "      <td>-0.453994</td>\n",
       "      <td>-0.314456</td>\n",
       "    </tr>\n",
       "    <tr>\n",
       "      <td>3</td>\n",
       "      <td>imports</td>\n",
       "      <td>0.365604</td>\n",
       "      <td>0.290020</td>\n",
       "      <td>0.000624</td>\n",
       "      <td>0.495836</td>\n",
       "      <td>-0.107366</td>\n",
       "      <td>-0.159897</td>\n",
       "      <td>0.038682</td>\n",
       "      <td>0.463948</td>\n",
       "      <td>-0.531536</td>\n",
       "    </tr>\n",
       "    <tr>\n",
       "      <td>4</td>\n",
       "      <td>income</td>\n",
       "      <td>0.383198</td>\n",
       "      <td>0.088092</td>\n",
       "      <td>0.167732</td>\n",
       "      <td>-0.164605</td>\n",
       "      <td>0.176520</td>\n",
       "      <td>0.814573</td>\n",
       "      <td>-0.084292</td>\n",
       "      <td>-0.148068</td>\n",
       "      <td>-0.257785</td>\n",
       "    </tr>\n",
       "    <tr>\n",
       "      <td>5</td>\n",
       "      <td>inflation</td>\n",
       "      <td>-0.164919</td>\n",
       "      <td>0.008154</td>\n",
       "      <td>0.972035</td>\n",
       "      <td>0.039087</td>\n",
       "      <td>0.082001</td>\n",
       "      <td>-0.132020</td>\n",
       "      <td>0.030984</td>\n",
       "      <td>0.027623</td>\n",
       "      <td>-0.021868</td>\n",
       "    </tr>\n",
       "    <tr>\n",
       "      <td>6</td>\n",
       "      <td>life_expec</td>\n",
       "      <td>0.329683</td>\n",
       "      <td>-0.400749</td>\n",
       "      <td>0.101286</td>\n",
       "      <td>-0.155380</td>\n",
       "      <td>-0.596497</td>\n",
       "      <td>0.025538</td>\n",
       "      <td>0.582777</td>\n",
       "      <td>-0.012830</td>\n",
       "      <td>0.007298</td>\n",
       "    </tr>\n",
       "    <tr>\n",
       "      <td>7</td>\n",
       "      <td>total_fer</td>\n",
       "      <td>-0.288938</td>\n",
       "      <td>0.503356</td>\n",
       "      <td>0.043189</td>\n",
       "      <td>-0.208670</td>\n",
       "      <td>-0.714972</td>\n",
       "      <td>0.141982</td>\n",
       "      <td>-0.291128</td>\n",
       "      <td>-0.002567</td>\n",
       "      <td>-0.040418</td>\n",
       "    </tr>\n",
       "    <tr>\n",
       "      <td>8</td>\n",
       "      <td>gdpp</td>\n",
       "      <td>0.382266</td>\n",
       "      <td>0.225509</td>\n",
       "      <td>0.059258</td>\n",
       "      <td>-0.402979</td>\n",
       "      <td>0.107414</td>\n",
       "      <td>-0.055815</td>\n",
       "      <td>-0.059978</td>\n",
       "      <td>0.592243</td>\n",
       "      <td>0.517796</td>\n",
       "    </tr>\n",
       "  </tbody>\n",
       "</table>\n",
       "</div>"
      ],
      "text/plain": [
       "     Features       PC1       PC2       PC3       PC4       PC5       PC6  \\\n",
       "0  child_mort -0.303595  0.520553 -0.080508 -0.073657  0.224361  0.115839   \n",
       "1     exports  0.357248  0.322225  0.069497  0.515744 -0.102377 -0.002671   \n",
       "2      health  0.366328  0.261603  0.008105 -0.473316  0.106015 -0.506086   \n",
       "3     imports  0.365604  0.290020  0.000624  0.495836 -0.107366 -0.159897   \n",
       "4      income  0.383198  0.088092  0.167732 -0.164605  0.176520  0.814573   \n",
       "5   inflation -0.164919  0.008154  0.972035  0.039087  0.082001 -0.132020   \n",
       "6  life_expec  0.329683 -0.400749  0.101286 -0.155380 -0.596497  0.025538   \n",
       "7   total_fer -0.288938  0.503356  0.043189 -0.208670 -0.714972  0.141982   \n",
       "8        gdpp  0.382266  0.225509  0.059258 -0.402979  0.107414 -0.055815   \n",
       "\n",
       "        PC7       PC8       PC9  \n",
       "0  0.748986  0.010547 -0.010052  \n",
       "1  0.023626 -0.452682  0.530807  \n",
       "2 -0.030317 -0.453994 -0.314456  \n",
       "3  0.038682  0.463948 -0.531536  \n",
       "4 -0.084292 -0.148068 -0.257785  \n",
       "5  0.030984  0.027623 -0.021868  \n",
       "6  0.582777 -0.012830  0.007298  \n",
       "7 -0.291128 -0.002567 -0.040418  \n",
       "8 -0.059978  0.592243  0.517796  "
      ]
     },
     "execution_count": 69,
     "metadata": {},
     "output_type": "execute_result"
    }
   ],
   "source": [
    "pcs_df = pd.DataFrame({\"Features\":df1_help.columns,'PC1':pca.components_[0],'PC2':pca.components_[1],'PC3':pca.components_[2], 'PC4':pca.components_[3],'PC5':pca.components_[4],'PC6':pca.components_[5],'PC7':pca.components_[6],'PC8':pca.components_[7],'PC9':pca.components_[8]})\n",
    "pcs_df"
   ]
  },
  {
   "cell_type": "markdown",
   "metadata": {},
   "source": [
    "Let's plot  to get a better idea about which variables are well explained for components."
   ]
  },
  {
   "cell_type": "code",
   "execution_count": 70,
   "metadata": {},
   "outputs": [
    {
     "data": {
      "image/png": "[encoded data removed]",
      "text/plain": [
       "<Figure size 720x360 with 1 Axes>"
      ]
     },
     "metadata": {
      "needs_background": "light"
     },
     "output_type": "display_data"
    }
   ],
   "source": [
    "%matplotlib inline\n",
    "fig = plt.figure(figsize = (10,5))\n",
    "plt.scatter(pcs_df.PC1, pcs_df.PC2)\n",
    "plt.xlabel('Principal Component 1')\n",
    "plt.ylabel('Principal Component 2')\n",
    "for i, txt in enumerate(pcs_df.Features):\n",
    "    plt.annotate(txt, (pcs_df.PC1[i],pcs_df.PC2[i]))\n",
    "plt.tight_layout()\n",
    "plt.show()"
   ]
  },
  {
   "cell_type": "markdown",
   "metadata": {},
   "source": [
    "#### The above figure shows the Loadings: how the original variables are related to PCs. For features income, gdpp,health, life_expec, exports, imports PC1 is high & for features like inflation, child_mort, total_fer PC2 is higher."
   ]
  },
  {
   "cell_type": "markdown",
   "metadata": {},
   "source": [
    "### Scree plot to decide on number of PCs "
   ]
  },
  {
   "cell_type": "code",
   "execution_count": 71,
   "metadata": {},
   "outputs": [
    {
     "data": {
      "image/png": "[encoded data removed]",
      "text/plain": [
       "<Figure size 864x576 with 1 Axes>"
      ]
     },
     "metadata": {
      "needs_background": "light"
     },
     "output_type": "display_data"
    }
   ],
   "source": [
    "#Making the screeplot - plotting the cumulative variance against the number of components\n",
    "%matplotlib inline\n",
    "fig = plt.figure(figsize = (12,8))\n",
    "plt.plot(np.cumsum(pca.explained_variance_ratio_))\n",
    "plt.xlabel('number of components')\n",
    "plt.ylabel('cumulative explained variance')\n",
    "plt.show()"
   ]
  },
  {
   "cell_type": "markdown",
   "metadata": {},
   "source": [
    "### Clearly over 95% of the data is properly explained by the first 4 principal components. so choosing the number of principle components as 4"
   ]
  },
  {
   "cell_type": "code",
   "execution_count": 72,
   "metadata": {},
   "outputs": [],
   "source": [
    "#from sklearn.decomposition import IncrementalPCA\n",
    "\n",
    "pca_final = PCA(n_components=4)"
   ]
  },
  {
   "cell_type": "markdown",
   "metadata": {},
   "source": [
    "#### Transforming Dataset to first 4  PCs "
   ]
  },
  {
   "cell_type": "code",
   "execution_count": 73,
   "metadata": {},
   "outputs": [
    {
     "data": {
      "text/plain": [
       "(157, 4)"
      ]
     },
     "execution_count": 73,
     "metadata": {},
     "output_type": "execute_result"
    }
   ],
   "source": [
    "df_pca = pca_final.fit_transform(X)\n",
    "df_pca.shape"
   ]
  },
  {
   "cell_type": "code",
   "execution_count": 74,
   "metadata": {},
   "outputs": [
    {
     "data": {
      "text/plain": [
       "array([[-2.78798255e+00, -3.66305582e-02, -5.26378839e-01,\n",
       "        -2.81683199e+00,  1.09767314e+00,  6.42750042e-02,\n",
       "        -4.40849535e-01,  4.53286077e+00,  5.89726088e+00,\n",
       "        -4.29067272e-01,  2.44395605e+00,  2.49084817e+00,\n",
       "        -1.21074699e+00,  1.35541770e+00,  7.41015858e-02,\n",
       "         6.55471720e+00, -3.39234463e-01, -2.44574813e+00,\n",
       "        -7.92398797e-01, -1.14757960e+00,  2.88575659e-01,\n",
       "        -9.83173740e-01,  2.39443313e-01,  4.85444672e-01,\n",
       "        -2.87874628e+00, -2.95158467e+00, -1.31289395e+00,\n",
       "        -2.50711377e+00,  4.95108210e+00, -5.37743235e-01,\n",
       "        -3.31578170e+00, -3.26974827e+00,  9.86711384e-01,\n",
       "        -1.90872744e-01, -1.33723569e-02, -2.07690568e+00,\n",
       "        -3.35907442e+00, -2.16843718e+00,  5.53715296e-01,\n",
       "        -2.65137202e+00,  1.25696974e+00,  3.63507249e+00,\n",
       "         2.67564493e+00,  6.82798407e+00, -3.49939970e-01,\n",
       "        -3.34460796e-01, -9.39181390e-01, -3.87415505e-01,\n",
       "        -2.04542969e-01, -2.15897744e+00,  1.79245010e+00,\n",
       "        -7.41394569e-01,  4.87947469e+00,  4.18526938e+00,\n",
       "        -1.15395362e+00, -2.23137120e+00, -4.51582136e-01,\n",
       "         4.93461813e+00, -2.20338846e+00,  2.71421580e+00,\n",
       "         5.20546480e-02, -9.27509563e-01, -2.92061159e+00,\n",
       "        -2.70970935e+00, -9.51450682e-01, -4.00225806e+00,\n",
       "         1.75695836e+00,  4.83521106e+00, -1.42875970e+00,\n",
       "        -1.00010972e+00, -9.61357682e-02, -1.21979571e+00,\n",
       "         8.04908029e+00,  2.75860226e+00,  3.62821266e+00,\n",
       "        -3.42042876e-01,  3.87607462e+00, -5.17705261e-01,\n",
       "        -2.34791874e-01, -1.84533307e+00, -1.74488470e+00,\n",
       "        -1.27580179e+00, -1.78427415e+00,  1.10425139e+00,\n",
       "         9.23089724e-01, -2.49589580e+00, -2.40182158e+00,\n",
       "         9.32951179e-01,  1.32788256e+00,  1.46576537e-01,\n",
       "        -2.17727977e+00, -2.89169930e+00,  8.52719546e-01,\n",
       "         4.61029746e-01, -3.03178862e+00,  4.70692335e+00,\n",
       "        -2.31861293e+00,  5.88494707e-01, -1.14761548e+00,\n",
       "        -6.85741131e-01, -1.58801319e+00,  5.37978203e-01,\n",
       "        -5.89905511e-01, -2.87290422e+00, -1.44296466e+00,\n",
       "        -1.21384339e+00, -1.51470837e+00,  7.27458831e+00,\n",
       "         3.23538060e+00, -3.14529637e+00,  1.89642390e+00,\n",
       "        -2.03050068e+00,  6.59865839e-01, -5.26027378e-01,\n",
       "        -2.07437316e-01, -1.01988024e+00,  1.26638403e+00,\n",
       "         2.51060193e+00,  4.68959156e-01,  3.02995589e-01,\n",
       "        -1.88236891e+00, -8.62950021e-01,  1.63533606e+00,\n",
       "        -1.96041045e+00,  2.44769422e-01,  1.40502589e+00,\n",
       "        -3.42898238e+00,  2.34595513e+00,  3.21811525e+00,\n",
       "        -1.64410483e+00, -1.06368593e+00,  2.62298116e+00,\n",
       "         3.14748076e+00, -7.86119268e-01, -1.53125812e-01,\n",
       "        -2.24926228e+00, -5.95790435e-03,  5.87533744e+00,\n",
       "        -1.59705627e+00, -2.43620436e+00,  2.90899425e-01,\n",
       "        -2.26735869e+00, -2.34145530e+00, -9.02885170e-01,\n",
       "        -2.71436230e-02,  4.91892449e-01, -7.97446869e-01,\n",
       "        -2.78409112e+00, -4.90039736e-01,  3.83296863e+00,\n",
       "         6.84256054e-01, -1.26623927e+00, -1.21698436e+00,\n",
       "        -4.28151686e-01, -7.72147804e-01, -2.06118002e+00,\n",
       "        -2.79115141e+00],\n",
       "       [ 1.44732708e+00, -1.53136083e+00, -9.67487082e-01,\n",
       "         2.00088605e+00, -7.98774314e-01, -9.93834990e-01,\n",
       "        -1.46048964e+00,  6.80367666e-01,  1.67823817e+00,\n",
       "        -6.76927017e-01,  2.34393137e-01,  8.19516354e-02,\n",
       "        -8.79300553e-01, -6.67857252e-01, -1.20171342e+00,\n",
       "         2.56929406e+00, -8.71852390e-01,  1.31042258e+00,\n",
       "        -8.70714028e-01, -5.76210162e-01, -1.71869095e+00,\n",
       "         4.44326147e-01, -1.08153322e+00, -1.24576950e+00,\n",
       "         1.71567532e+00,  1.55064142e+00, -5.41518095e-01,\n",
       "         1.42264123e+00,  1.00411805e+00, -9.62226037e-01,\n",
       "         2.37568803e+00,  2.48503687e+00, -1.09043517e+00,\n",
       "        -1.52245850e+00, -1.35362515e+00,  6.30907156e-01,\n",
       "         1.96029088e+00,  8.51564512e-01, -1.40205182e+00,\n",
       "         1.58270750e+00, -1.05011420e+00,  1.97634384e-01,\n",
       "        -2.57795833e-01,  2.65867797e+00, -8.67555399e-01,\n",
       "        -1.08916800e+00, -7.20063748e-01, -1.28037555e+00,\n",
       "         2.95729681e+00,  3.31028746e-01, -5.39487938e-01,\n",
       "        -5.84737509e-01,  1.13237250e+00,  6.20414100e-01,\n",
       "         7.74396424e-01,  8.57329247e-01, -1.33688261e+00,\n",
       "         9.66342190e-01,  5.23789162e-01, -5.18132995e-01,\n",
       "        -9.53198228e-01, -6.00035751e-01,  1.46109089e+00,\n",
       "         1.51818089e+00, -4.66677456e-01,  3.24488188e+00,\n",
       "        -6.30786644e-01,  1.26081012e+00, -4.31472446e-01,\n",
       "        -8.68620022e-01, -1.26833728e+00,  1.75726922e-01,\n",
       "         3.70327537e+00,  2.20962308e-01, -7.78530278e-02,\n",
       "        -1.24537128e+00, -1.24224618e-01, -7.34767470e-01,\n",
       "        -4.55985519e-01,  3.19408909e-01,  3.06424686e-01,\n",
       "        -7.44654287e-01,  1.25391775e-01, -9.56379504e-01,\n",
       "        -1.37908637e+00,  1.25509147e+00,  9.49554788e-01,\n",
       "        -5.45528872e-01, -7.36115155e-01, -1.48793779e+00,\n",
       "         4.61296842e-01,  1.41605724e+00, -7.46723553e-01,\n",
       "        -1.07858708e+00,  2.14796612e+00,  1.31593269e+00,\n",
       "         7.95745689e-01, -1.06015075e+00, -1.80309220e-01,\n",
       "        -1.48958870e+00, -6.62745091e-01, -1.34652853e+00,\n",
       "        -9.89309863e-01,  1.56626204e+00, -4.96228107e-01,\n",
       "         5.54088286e-01, -7.19324377e-01,  2.91465565e+00,\n",
       "         2.00614674e-01,  2.28538398e+00,  1.08141391e-01,\n",
       "         4.31755623e-01, -6.97996188e-01, -1.00805485e+00,\n",
       "        -1.26865907e+00, -6.65566293e-01, -1.10656488e+00,\n",
       "        -6.18833061e-01, -1.22966884e+00, -9.68550831e-01,\n",
       "         2.79109054e-01, -4.56245334e-01,  8.67312199e-02,\n",
       "         5.59030105e-01, -1.51049161e+00, -2.90343922e-01,\n",
       "         2.20056860e+00, -2.35029925e-01,  2.58312117e-02,\n",
       "        -4.97551058e-02,  4.36074415e-01, -5.90249632e-01,\n",
       "        -4.29863577e-01, -1.45342340e+00, -1.00181114e+00,\n",
       "         5.60777978e-01, -5.31243904e-01,  1.80280044e+00,\n",
       "        -3.95637160e-01,  9.47443846e-01, -1.43450927e+00,\n",
       "         7.06051728e-01,  1.01374673e+00, -5.63743004e-01,\n",
       "        -1.33243112e+00, -1.09541641e+00, -1.04097320e-01,\n",
       "         1.41285578e+00, -1.43638066e+00,  4.42521642e-01,\n",
       "        -1.03393497e+00, -9.08052518e-01, -2.47899326e-01,\n",
       "        -7.66683126e-01, -1.35473996e+00,  1.89306573e-01,\n",
       "         1.47423873e+00],\n",
       "       [-1.47882673e-01, -3.89989863e-01,  1.16072909e+00,\n",
       "         1.60006628e+00, -5.52864635e-01,  1.88571057e+00,\n",
       "        -5.59362769e-02,  8.72144744e-04,  6.39907822e-02,\n",
       "         7.89489425e-01, -6.72666985e-01,  6.15249284e-01,\n",
       "        -2.85964572e-01, -7.38172209e-01,  1.02941287e+00,\n",
       "         2.48190657e-01, -8.63513859e-01, -1.23167670e+00,\n",
       "        -3.33680351e-01,  1.90467968e-02, -7.68096434e-01,\n",
       "        -8.63194669e-03,  1.81443548e-01, -7.38591392e-01,\n",
       "        -5.17919877e-01,  2.29269841e-01, -8.21401089e-01,\n",
       "        -1.13831144e+00,  2.10283617e-01, -9.93484829e-01,\n",
       "        -1.34607915e+00, -6.25553803e-01,  4.36710119e-01,\n",
       "        -9.79220675e-02, -4.41808299e-01, -7.79096870e-01,\n",
       "         1.28038271e+00,  1.44960161e+00,  1.97246773e-02,\n",
       "        -7.01699147e-01, -6.29020903e-01, -8.27332963e-02,\n",
       "        -6.92308899e-01,  4.80172367e-01, -2.73887845e-01,\n",
       "         5.65673919e-03,  2.68729180e-01, -6.81151782e-01,\n",
       "         2.45434879e+00,  2.24680713e-01, -4.16904688e-01,\n",
       "        -5.62456567e-01, -1.02740002e-01, -1.15973672e-01,\n",
       "         1.11172637e+00, -6.82968709e-01,  5.16476565e-02,\n",
       "        -7.45143802e-02,  8.51773905e-01, -4.12633008e-01,\n",
       "        -9.03874901e-01, -4.03617419e-01,  6.72270326e-01,\n",
       "        -1.05723428e+00, -4.22455933e-01, -1.24315126e+00,\n",
       "        -3.88190659e-01,  5.95052628e-01, -7.91598529e-02,\n",
       "         8.85800248e-01,  1.16319554e+00,  1.14595522e+00,\n",
       "        -1.72530962e-01, -1.49595764e-01, -2.76921612e-01,\n",
       "         2.66391465e-01, -5.33848598e-01,  1.56269538e-01,\n",
       "         1.64273301e+00, -9.86348431e-01, -1.10633550e+00,\n",
       "         1.29120238e-01, -1.08594508e-01, -9.10735006e-01,\n",
       "        -7.60433682e-01, -1.01172023e+00, -6.38361895e-01,\n",
       "         1.22728373e+00, -4.36725694e-01, -6.96147887e-01,\n",
       "        -1.60474403e-01,  1.35297662e-01,  2.05652393e-01,\n",
       "        -4.94123125e-01, -8.28684034e-01,  1.85074507e-01,\n",
       "         1.19521307e+00, -7.31253341e-01, -6.92803549e-01,\n",
       "         2.76987315e-01,  3.92289303e+00, -6.58707154e-01,\n",
       "        -9.33879528e-01, -4.36344242e-01, -3.51334476e-01,\n",
       "        -7.37119795e-01,  7.17161794e-01,  2.31814318e-01,\n",
       "         1.18458289e-01, -1.03156287e+00,  1.70842110e+00,\n",
       "         1.21142862e-01, -4.64036152e-01, -2.25543320e-01,\n",
       "        -1.90667848e-01, -5.65270264e-01, -5.09009980e-01,\n",
       "        -4.59002732e-01, -3.99601331e-01,  1.00426578e+00,\n",
       "        -9.15337097e-01, -7.91410513e-01,  1.87093444e+00,\n",
       "        -9.96208768e-01, -1.70006941e-01, -1.27372803e+00,\n",
       "         6.71235433e-01, -5.37080739e-01, -5.68094225e-01,\n",
       "        -3.31992393e-01, -3.99555988e-01, -6.54069197e-02,\n",
       "        -3.80765568e-01,  1.93463485e+00, -4.32404665e-01,\n",
       "         1.30108570e+00,  3.06637149e-03,  1.26304874e-01,\n",
       "         4.15964264e-01, -1.03686550e-01, -3.68342841e-01,\n",
       "         2.29714814e+00, -1.21071777e+00, -5.77769506e-01,\n",
       "        -4.41991943e-01,  1.09463834e-01, -8.02370007e-01,\n",
       "         3.54161302e-02,  6.59523088e-01, -8.87146151e-02,\n",
       "        -1.62010264e-01,  9.52554294e-01, -8.48637207e-01,\n",
       "         5.08844222e+00,  4.59664260e-01,  1.87743714e+00,\n",
       "         4.21634146e-01],\n",
       "       [-1.37217384e-01,  1.03400050e-01, -5.55007112e-02,\n",
       "        -1.67392191e-01,  1.75427670e-01, -3.51925802e-01,\n",
       "         2.04350013e-01, -2.02146151e+00, -2.75699739e-01,\n",
       "         1.25366187e-01, -1.13678198e-01,  4.18280431e-01,\n",
       "         1.43304946e-01,  6.32725988e-02,  4.08909086e-01,\n",
       "         1.33522860e+00,  1.83121396e-01, -2.48916108e-01,\n",
       "         1.42772753e-01,  2.09372649e-03,  9.08943654e-02,\n",
       "         2.31023501e-01, -4.23913442e-01,  2.01792415e-01,\n",
       "        -2.33959030e-01, -2.03797677e-01,  1.65447773e-01,\n",
       "        -1.51195632e-01, -1.58799689e+00,  1.10323443e-01,\n",
       "        -3.55306654e-02, -3.59071661e-01, -1.79333819e-01,\n",
       "         9.51047093e-02, -1.71587529e-01, -1.71545430e-01,\n",
       "        -2.23804922e-01,  1.36979107e-01, -1.84332615e-01,\n",
       "        -1.05944851e-01, -6.17915196e-02,  5.37417027e-01,\n",
       "         5.05028949e-01, -5.74043109e-01, -1.09792207e-01,\n",
       "        -1.11614756e-01, -3.81487896e-02,  6.38630046e-02,\n",
       "         4.40079218e-01,  1.02982838e-02,  6.55717140e-01,\n",
       "         3.05852601e-01, -6.96755858e-01, -1.65533332e+00,\n",
       "        -2.10185206e-03, -2.86797946e-01,  1.74996224e-01,\n",
       "        -8.87973046e-01,  3.35177198e-02, -9.21279668e-01,\n",
       "         8.25278711e-02, -7.08960737e-02, -8.53637085e-02,\n",
       "        -9.84983975e-02,  2.98510011e-01,  4.05052584e-01,\n",
       "         7.52313530e-01, -1.84977040e-01,  1.46908847e-01,\n",
       "         1.19561807e-01, -4.66945371e-02, -1.86200002e-01,\n",
       "         2.90010781e+00, -6.76663093e-01, -1.20423421e+00,\n",
       "         1.51108471e-01, -2.16259789e+00, -6.24752960e-02,\n",
       "         1.06060125e-01, -4.98139904e-02,  7.06625898e-02,\n",
       "         1.65924263e-01,  1.11064710e-01,  3.35947382e-01,\n",
       "         6.96356188e-02,  3.71060014e-01, -1.03156208e-01,\n",
       "         1.72491708e-01,  4.96348440e-01,  2.07504236e-01,\n",
       "         1.16187278e-02,  1.16475557e-02,  5.29054477e-01,\n",
       "         3.16152134e-01, -4.06052511e-01,  3.07110636e+00,\n",
       "        -1.69966294e-01,  2.97783729e-01,  6.50515003e-02,\n",
       "         3.95257964e-01,  3.89926215e-01,  9.10050796e-02,\n",
       "         2.70190973e-02, -7.99907187e-02,  1.27255694e-01,\n",
       "         1.98855823e-01,  1.95539902e-01,  7.55387339e-01,\n",
       "        -1.10247857e+00, -4.88145837e-01,  2.06926235e-01,\n",
       "        -6.15584763e-02,  2.19820468e-01,  9.22866377e-02,\n",
       "        -1.10538867e-01,  5.83234474e-02,  1.14749268e-02,\n",
       "        -5.88312720e-01,  6.40948913e-02, -1.26330268e-03,\n",
       "        -9.86336358e-02, -1.29738582e-01, -2.01160849e-01,\n",
       "        -1.67404502e-01,  1.02268804e-01,  9.62980019e-01,\n",
       "        -1.19699341e-01,  7.27436394e-01,  4.31599421e-01,\n",
       "         1.32393166e-01,  1.17320646e-01,  1.33311518e-01,\n",
       "        -1.02433038e+00,  1.55231980e-01,  2.00772642e-01,\n",
       "        -1.58828901e-01,  1.05670489e-01, -5.51436051e-01,\n",
       "         3.43447479e-02, -1.14114272e-01,  2.88816799e-01,\n",
       "        -4.49962979e-01, -7.31291773e-02, -2.86886075e-02,\n",
       "         1.01055389e-01, -3.16709301e-01,  1.84719810e-01,\n",
       "        -1.77003534e-01,  3.47074522e-01, -1.15377561e+00,\n",
       "        -3.01531532e-01,  2.20552142e-01,  1.94799322e-01,\n",
       "        -6.49700071e-02,  2.75777561e-01, -7.29101026e-02,\n",
       "         1.49764525e-02]])"
      ]
     },
     "execution_count": 74,
     "metadata": {},
     "output_type": "execute_result"
    }
   ],
   "source": [
    "#take the transpose of the PC matrix so that we can create the new matrix\n",
    "\n",
    "pc = np.transpose(df_pca)\n",
    "pc"
   ]
  },
  {
   "cell_type": "markdown",
   "metadata": {},
   "source": [
    "#### Creating correlation matrix of the principal components - we expect very low  to zero correlation among them."
   ]
  },
  {
   "cell_type": "code",
   "execution_count": 75,
   "metadata": {},
   "outputs": [
    {
     "data": {
      "text/html": [
       "<div>\n",
       "<style scoped>\n",
       "    .dataframe tbody tr th:only-of-type {\n",
       "        vertical-align: middle;\n",
       "    }\n",
       "\n",
       "    .dataframe tbody tr th {\n",
       "        vertical-align: top;\n",
       "    }\n",
       "\n",
       "    .dataframe thead th {\n",
       "        text-align: right;\n",
       "    }\n",
       "</style>\n",
       "<table border=\"1\" class=\"dataframe\">\n",
       "  <thead>\n",
       "    <tr style=\"text-align: right;\">\n",
       "      <th></th>\n",
       "      <th>0</th>\n",
       "      <th>1</th>\n",
       "      <th>2</th>\n",
       "      <th>3</th>\n",
       "    </tr>\n",
       "  </thead>\n",
       "  <tbody>\n",
       "    <tr>\n",
       "      <td>0</td>\n",
       "      <td>1.000000e+00</td>\n",
       "      <td>-1.892078e-17</td>\n",
       "      <td>-8.845150e-17</td>\n",
       "      <td>-7.267327e-17</td>\n",
       "    </tr>\n",
       "    <tr>\n",
       "      <td>1</td>\n",
       "      <td>-1.892078e-17</td>\n",
       "      <td>1.000000e+00</td>\n",
       "      <td>-3.507076e-17</td>\n",
       "      <td>2.979621e-17</td>\n",
       "    </tr>\n",
       "    <tr>\n",
       "      <td>2</td>\n",
       "      <td>-8.845150e-17</td>\n",
       "      <td>-3.507076e-17</td>\n",
       "      <td>1.000000e+00</td>\n",
       "      <td>1.581222e-16</td>\n",
       "    </tr>\n",
       "    <tr>\n",
       "      <td>3</td>\n",
       "      <td>-7.267327e-17</td>\n",
       "      <td>2.979621e-17</td>\n",
       "      <td>1.581222e-16</td>\n",
       "      <td>1.000000e+00</td>\n",
       "    </tr>\n",
       "  </tbody>\n",
       "</table>\n",
       "</div>"
      ],
      "text/plain": [
       "              0             1             2             3\n",
       "0  1.000000e+00 -1.892078e-17 -8.845150e-17 -7.267327e-17\n",
       "1 -1.892078e-17  1.000000e+00 -3.507076e-17  2.979621e-17\n",
       "2 -8.845150e-17 -3.507076e-17  1.000000e+00  1.581222e-16\n",
       "3 -7.267327e-17  2.979621e-17  1.581222e-16  1.000000e+00"
      ]
     },
     "execution_count": 75,
     "metadata": {},
     "output_type": "execute_result"
    }
   ],
   "source": [
    "#creating correlation matrix for the principal components\n",
    "\n",
    "corrmat = np.corrcoef(df_pca.transpose())\n",
    "pd.DataFrame(corrmat)"
   ]
  },
  {
   "cell_type": "code",
   "execution_count": 76,
   "metadata": {},
   "outputs": [
    {
     "data": {
      "text/plain": [
       "<matplotlib.axes._subplots.AxesSubplot at 0x25336781988>"
      ]
     },
     "execution_count": 76,
     "metadata": {},
     "output_type": "execute_result"
    },
    {
     "data": {
      "image/png": "[encoded data removed]",
      "text/plain": [
       "<Figure size 360x360 with 2 Axes>"
      ]
     },
     "metadata": {
      "needs_background": "light"
     },
     "output_type": "display_data"
    }
   ],
   "source": [
    "#plotting the correlation matrix\n",
    "\n",
    "%matplotlib inline\n",
    "plt.figure(figsize = (5,5))\n",
    "sns.heatmap(corrmat,annot = True)"
   ]
  },
  {
   "cell_type": "code",
   "execution_count": 77,
   "metadata": {},
   "outputs": [
    {
     "name": "stdout",
     "output_type": "stream",
     "text": [
      "max corr: 1.581222382384818e-16 , min corr:  -8.845150155344934e-17\n"
     ]
    }
   ],
   "source": [
    "# 1s -> 0s in diagonals\n",
    "\n",
    "corrmat_nodiag = corrmat - np.diagflat(corrmat.diagonal())\n",
    "print(\"max corr:\",corrmat_nodiag.max(), \", min corr: \", corrmat_nodiag.min(),)"
   ]
  },
  {
   "cell_type": "markdown",
   "metadata": {},
   "source": [
    "#### Checking PCs  for Different Countries"
   ]
  },
  {
   "cell_type": "code",
   "execution_count": 78,
   "metadata": {},
   "outputs": [
    {
     "data": {
      "text/html": [
       "<div>\n",
       "<style scoped>\n",
       "    .dataframe tbody tr th:only-of-type {\n",
       "        vertical-align: middle;\n",
       "    }\n",
       "\n",
       "    .dataframe tbody tr th {\n",
       "        vertical-align: top;\n",
       "    }\n",
       "\n",
       "    .dataframe thead th {\n",
       "        text-align: right;\n",
       "    }\n",
       "</style>\n",
       "<table border=\"1\" class=\"dataframe\">\n",
       "  <thead>\n",
       "    <tr style=\"text-align: right;\">\n",
       "      <th></th>\n",
       "      <th>country</th>\n",
       "      <th>PC1</th>\n",
       "      <th>PC2</th>\n",
       "      <th>PC3</th>\n",
       "      <th>PC4</th>\n",
       "    </tr>\n",
       "  </thead>\n",
       "  <tbody>\n",
       "    <tr>\n",
       "      <td>0</td>\n",
       "      <td>Afghanistan</td>\n",
       "      <td>-2.787983</td>\n",
       "      <td>1.447327</td>\n",
       "      <td>-0.147883</td>\n",
       "      <td>-0.137217</td>\n",
       "    </tr>\n",
       "    <tr>\n",
       "      <td>1</td>\n",
       "      <td>Albania</td>\n",
       "      <td>-0.036631</td>\n",
       "      <td>-1.531361</td>\n",
       "      <td>-0.389990</td>\n",
       "      <td>0.103400</td>\n",
       "    </tr>\n",
       "    <tr>\n",
       "      <td>2</td>\n",
       "      <td>Algeria</td>\n",
       "      <td>-0.526379</td>\n",
       "      <td>-0.967487</td>\n",
       "      <td>1.160729</td>\n",
       "      <td>-0.055501</td>\n",
       "    </tr>\n",
       "    <tr>\n",
       "      <td>3</td>\n",
       "      <td>Angola</td>\n",
       "      <td>-2.816832</td>\n",
       "      <td>2.000886</td>\n",
       "      <td>1.600066</td>\n",
       "      <td>-0.167392</td>\n",
       "    </tr>\n",
       "    <tr>\n",
       "      <td>4</td>\n",
       "      <td>Antigua and Barbuda</td>\n",
       "      <td>1.097673</td>\n",
       "      <td>-0.798774</td>\n",
       "      <td>-0.552865</td>\n",
       "      <td>0.175428</td>\n",
       "    </tr>\n",
       "  </tbody>\n",
       "</table>\n",
       "</div>"
      ],
      "text/plain": [
       "               country       PC1       PC2       PC3       PC4\n",
       "0          Afghanistan -2.787983  1.447327 -0.147883 -0.137217\n",
       "1              Albania -0.036631 -1.531361 -0.389990  0.103400\n",
       "2              Algeria -0.526379 -0.967487  1.160729 -0.055501\n",
       "3               Angola -2.816832  2.000886  1.600066 -0.167392\n",
       "4  Antigua and Barbuda  1.097673 -0.798774 -0.552865  0.175428"
      ]
     },
     "execution_count": 78,
     "metadata": {},
     "output_type": "execute_result"
    }
   ],
   "source": [
    "#Let's create the newer matrix according to the given principal components\n",
    "\n",
    "rownames = list(help_df_new['country'])\n",
    "pcs_df2 = pd.DataFrame({'country':rownames,'PC1':pc[0],'PC2':pc[1],'PC3':pc[2],'PC4':pc[3]})\n",
    "pcs_df2.head()"
   ]
  },
  {
   "cell_type": "code",
   "execution_count": 79,
   "metadata": {},
   "outputs": [
    {
     "data": {
      "text/plain": [
       "(157, 5)"
      ]
     },
     "execution_count": 79,
     "metadata": {},
     "output_type": "execute_result"
    }
   ],
   "source": [
    "pcs_df2.shape"
   ]
  },
  {
   "cell_type": "markdown",
   "metadata": {},
   "source": [
    "#### Checking the Loadings : How PC1 & PC2 related with different countries"
   ]
  },
  {
   "cell_type": "code",
   "execution_count": 80,
   "metadata": {},
   "outputs": [
    {
     "data": {
      "image/png": "[encoded data removed]",
      "text/plain": [
       "<Figure size 576x432 with 1 Axes>"
      ]
     },
     "metadata": {
      "needs_background": "light"
     },
     "output_type": "display_data"
    }
   ],
   "source": [
    "%matplotlib inline\n",
    "fig = plt.figure(figsize = (8,6))\n",
    "plt.scatter(df_pca[:,0], df_pca[:,1])\n",
    "plt.xlabel('Principal Component 1')\n",
    "plt.ylabel('Principal Component 2')\n",
    "plt.tight_layout()\n",
    "plt.show()"
   ]
  },
  {
   "cell_type": "markdown",
   "metadata": {},
   "source": [
    "## Clustering"
   ]
  },
  {
   "cell_type": "markdown",
   "metadata": {},
   "source": [
    "#### Hopkins Statistics"
   ]
  },
  {
   "cell_type": "markdown",
   "metadata": {},
   "source": [
    " Let's proceed to calculating the Hopkins statistic to ensure that the data is good for clustering."
   ]
  },
  {
   "cell_type": "code",
   "execution_count": 81,
   "metadata": {},
   "outputs": [],
   "source": [
    "#Calculating the Hopkins statistic\n",
    "from sklearn.neighbors import NearestNeighbors\n",
    "from random import sample\n",
    "from numpy.random import uniform\n",
    "import numpy as np\n",
    "from math import isnan\n",
    " \n",
    "def hopkins(X):\n",
    "    d = X.shape[1]\n",
    "    #d = len(vars) # columns\n",
    "    n = len(X) # rows\n",
    "    m = int(0.1 * n) \n",
    "    nbrs = NearestNeighbors(n_neighbors=1).fit(X.values)\n",
    " \n",
    "    rand_X = sample(range(0, n, 1), m)\n",
    " \n",
    "    ujd = []\n",
    "    wjd = []\n",
    "    for j in range(0, m):\n",
    "        u_dist, _ = nbrs.kneighbors(uniform(np.amin(X,axis=0),np.amax(X,axis=0),d).reshape(1, -1), 2, return_distance=True)\n",
    "        ujd.append(u_dist[0][1])\n",
    "        w_dist, _ = nbrs.kneighbors(X.iloc[rand_X[j]].values.reshape(1, -1), 2, return_distance=True)\n",
    "        wjd.append(w_dist[0][1])\n",
    " \n",
    "    H = sum(ujd) / (sum(ujd) + sum(wjd))\n",
    "    if isnan(H):\n",
    "        print(ujd, wjd)\n",
    "        H = 0\n",
    " \n",
    "    return H"
   ]
  },
  {
   "cell_type": "code",
   "execution_count": 82,
   "metadata": {},
   "outputs": [
    {
     "data": {
      "text/plain": [
       "0.8531844341964137"
      ]
     },
     "execution_count": 82,
     "metadata": {},
     "output_type": "execute_result"
    }
   ],
   "source": [
    "#Let's check the Hopkins measure\n",
    "\n",
    "df1=pd.DataFrame(df_pca)\n",
    "hopkins(df1)"
   ]
  },
  {
   "cell_type": "markdown",
   "metadata": {},
   "source": [
    "####  Hopkins score(> .75)  is good. Hence the dataset is suitable for clustering.\n"
   ]
  },
  {
   "cell_type": "markdown",
   "metadata": {},
   "source": [
    "#### Sum of Squared Distances"
   ]
  },
  {
   "cell_type": "code",
   "execution_count": 83,
   "metadata": {},
   "outputs": [
    {
     "data": {
      "text/plain": [
       "[<matplotlib.lines.Line2D at 0x253366dcfc8>]"
      ]
     },
     "execution_count": 83,
     "metadata": {},
     "output_type": "execute_result"
    },
    {
     "data": {
      "image/png": "[encoded data removed]",
      "text/plain": [
       "<Figure size 432x288 with 1 Axes>"
      ]
     },
     "metadata": {
      "needs_background": "light"
     },
     "output_type": "display_data"
    }
   ],
   "source": [
    "# sum of squared distances\n",
    "ssd = []\n",
    "for num_clusters in list(range(1,20)):\n",
    "    model_clus = KMeans(n_clusters = num_clusters, max_iter=50)\n",
    "    model_clus.fit(df_pca)\n",
    "    ssd.append(model_clus.inertia_)\n",
    "\n",
    "plt.plot(ssd)"
   ]
  },
  {
   "cell_type": "markdown",
   "metadata": {},
   "source": [
    "### As per Elbow curve, optimum number of clusters can be chosen as 4 "
   ]
  },
  {
   "cell_type": "markdown",
   "metadata": {},
   "source": [
    "### Silhouette Analysis"
   ]
  },
  {
   "cell_type": "code",
   "execution_count": 84,
   "metadata": {},
   "outputs": [],
   "source": [
    "#Let's check the silhouette score first to identify the optimum number of clusters\n",
    "\n",
    "from sklearn.metrics import silhouette_score\n",
    "sse_ = []\n",
    "for k in range(2, 15):\n",
    "    kmeans = KMeans(n_clusters=k).fit(df_pca)\n",
    "    sse_.append([k, silhouette_score(df_pca, kmeans.labels_)])"
   ]
  },
  {
   "cell_type": "code",
   "execution_count": 85,
   "metadata": {},
   "outputs": [
    {
     "data": {
      "image/png": "[encoded data removed]",
      "text/plain": [
       "<Figure size 432x288 with 1 Axes>"
      ]
     },
     "metadata": {
      "needs_background": "light"
     },
     "output_type": "display_data"
    }
   ],
   "source": [
    "plt.plot(pd.DataFrame(sse_)[0], pd.DataFrame(sse_)[1]);"
   ]
  },
  {
   "cell_type": "markdown",
   "metadata": {},
   "source": [
    "### As per Silhouette Statistic also, number of clusters can be chosen as 4 or 5 \n",
    "### k=4 would be an optimum choice as per both Elbow Curve & Silhouette Score."
   ]
  },
  {
   "cell_type": "markdown",
   "metadata": {},
   "source": [
    "## K-means Clustering with k=4"
   ]
  },
  {
   "cell_type": "code",
   "execution_count": 86,
   "metadata": {},
   "outputs": [
    {
     "data": {
      "text/plain": [
       "KMeans(algorithm='auto', copy_x=True, init='k-means++', max_iter=50,\n",
       "       n_clusters=4, n_init=10, n_jobs=None, precompute_distances='auto',\n",
       "       random_state=50, tol=0.0001, verbose=0)"
      ]
     },
     "execution_count": 86,
     "metadata": {},
     "output_type": "execute_result"
    }
   ],
   "source": [
    "model_clus = KMeans(n_clusters = 4, max_iter=50, init='k-means++', n_init= 10, tol=0.0001, random_state=50, algorithm='auto')\n",
    "model_clus.fit(df_pca)"
   ]
  },
  {
   "cell_type": "code",
   "execution_count": 87,
   "metadata": {},
   "outputs": [
    {
     "data": {
      "text/plain": [
       "157"
      ]
     },
     "execution_count": 87,
     "metadata": {},
     "output_type": "execute_result"
    }
   ],
   "source": [
    "len(model_clus.labels_)"
   ]
  },
  {
   "cell_type": "code",
   "execution_count": 88,
   "metadata": {},
   "outputs": [
    {
     "data": {
      "text/html": [
       "<div>\n",
       "<style scoped>\n",
       "    .dataframe tbody tr th:only-of-type {\n",
       "        vertical-align: middle;\n",
       "    }\n",
       "\n",
       "    .dataframe tbody tr th {\n",
       "        vertical-align: top;\n",
       "    }\n",
       "\n",
       "    .dataframe thead th {\n",
       "        text-align: right;\n",
       "    }\n",
       "</style>\n",
       "<table border=\"1\" class=\"dataframe\">\n",
       "  <thead>\n",
       "    <tr style=\"text-align: right;\">\n",
       "      <th></th>\n",
       "      <th>PC1</th>\n",
       "      <th>PC2</th>\n",
       "      <th>PC3</th>\n",
       "      <th>PC4</th>\n",
       "      <th>Cluster_Id</th>\n",
       "    </tr>\n",
       "  </thead>\n",
       "  <tbody>\n",
       "    <tr>\n",
       "      <td>0</td>\n",
       "      <td>-2.787983</td>\n",
       "      <td>1.447327</td>\n",
       "      <td>-0.147883</td>\n",
       "      <td>-0.137217</td>\n",
       "      <td>3</td>\n",
       "    </tr>\n",
       "    <tr>\n",
       "      <td>1</td>\n",
       "      <td>-0.036631</td>\n",
       "      <td>-1.531361</td>\n",
       "      <td>-0.389990</td>\n",
       "      <td>0.103400</td>\n",
       "      <td>0</td>\n",
       "    </tr>\n",
       "    <tr>\n",
       "      <td>2</td>\n",
       "      <td>-0.526379</td>\n",
       "      <td>-0.967487</td>\n",
       "      <td>1.160729</td>\n",
       "      <td>-0.055501</td>\n",
       "      <td>0</td>\n",
       "    </tr>\n",
       "    <tr>\n",
       "      <td>3</td>\n",
       "      <td>-2.816832</td>\n",
       "      <td>2.000886</td>\n",
       "      <td>1.600066</td>\n",
       "      <td>-0.167392</td>\n",
       "      <td>3</td>\n",
       "    </tr>\n",
       "    <tr>\n",
       "      <td>4</td>\n",
       "      <td>1.097673</td>\n",
       "      <td>-0.798774</td>\n",
       "      <td>-0.552865</td>\n",
       "      <td>0.175428</td>\n",
       "      <td>0</td>\n",
       "    </tr>\n",
       "  </tbody>\n",
       "</table>\n",
       "</div>"
      ],
      "text/plain": [
       "        PC1       PC2       PC3       PC4  Cluster_Id\n",
       "0 -2.787983  1.447327 -0.147883 -0.137217           3\n",
       "1 -0.036631 -1.531361 -0.389990  0.103400           0\n",
       "2 -0.526379 -0.967487  1.160729 -0.055501           0\n",
       "3 -2.816832  2.000886  1.600066 -0.167392           3\n",
       "4  1.097673 -0.798774 -0.552865  0.175428           0"
      ]
     },
     "execution_count": 88,
     "metadata": {},
     "output_type": "execute_result"
    }
   ],
   "source": [
    "df_pca_cluster=pd.concat([df1,pd.Series(model_clus.labels_)], axis=1)\n",
    "df_pca_cluster.columns =['PC1','PC2','PC3','PC4','Cluster_Id']\n",
    "df_pca_cluster.head()"
   ]
  },
  {
   "cell_type": "code",
   "execution_count": 89,
   "metadata": {},
   "outputs": [
    {
     "data": {
      "text/plain": [
       "0    76\n",
       "3    44\n",
       "2    26\n",
       "1    11\n",
       "Name: Cluster_Id, dtype: int64"
      ]
     },
     "execution_count": 89,
     "metadata": {},
     "output_type": "execute_result"
    }
   ],
   "source": [
    "df_pca_cluster['Cluster_Id'].value_counts()"
   ]
  },
  {
   "cell_type": "code",
   "execution_count": 90,
   "metadata": {},
   "outputs": [
    {
     "data": {
      "text/html": [
       "<div>\n",
       "<style scoped>\n",
       "    .dataframe tbody tr th:only-of-type {\n",
       "        vertical-align: middle;\n",
       "    }\n",
       "\n",
       "    .dataframe tbody tr th {\n",
       "        vertical-align: top;\n",
       "    }\n",
       "\n",
       "    .dataframe thead th {\n",
       "        text-align: right;\n",
       "    }\n",
       "</style>\n",
       "<table border=\"1\" class=\"dataframe\">\n",
       "  <thead>\n",
       "    <tr style=\"text-align: right;\">\n",
       "      <th></th>\n",
       "      <th>PC1</th>\n",
       "      <th>PC2</th>\n",
       "      <th>PC3</th>\n",
       "      <th>PC4</th>\n",
       "      <th>Cluster_Id</th>\n",
       "      <th>country</th>\n",
       "    </tr>\n",
       "  </thead>\n",
       "  <tbody>\n",
       "    <tr>\n",
       "      <td>0</td>\n",
       "      <td>-2.787983</td>\n",
       "      <td>1.447327</td>\n",
       "      <td>-0.147883</td>\n",
       "      <td>-0.137217</td>\n",
       "      <td>3</td>\n",
       "      <td>Afghanistan</td>\n",
       "    </tr>\n",
       "    <tr>\n",
       "      <td>1</td>\n",
       "      <td>-0.036631</td>\n",
       "      <td>-1.531361</td>\n",
       "      <td>-0.389990</td>\n",
       "      <td>0.103400</td>\n",
       "      <td>0</td>\n",
       "      <td>Albania</td>\n",
       "    </tr>\n",
       "    <tr>\n",
       "      <td>2</td>\n",
       "      <td>-0.526379</td>\n",
       "      <td>-0.967487</td>\n",
       "      <td>1.160729</td>\n",
       "      <td>-0.055501</td>\n",
       "      <td>0</td>\n",
       "      <td>Algeria</td>\n",
       "    </tr>\n",
       "    <tr>\n",
       "      <td>3</td>\n",
       "      <td>-2.816832</td>\n",
       "      <td>2.000886</td>\n",
       "      <td>1.600066</td>\n",
       "      <td>-0.167392</td>\n",
       "      <td>3</td>\n",
       "      <td>Angola</td>\n",
       "    </tr>\n",
       "    <tr>\n",
       "      <td>4</td>\n",
       "      <td>1.097673</td>\n",
       "      <td>-0.798774</td>\n",
       "      <td>-0.552865</td>\n",
       "      <td>0.175428</td>\n",
       "      <td>0</td>\n",
       "      <td>Antigua and Barbuda</td>\n",
       "    </tr>\n",
       "  </tbody>\n",
       "</table>\n",
       "</div>"
      ],
      "text/plain": [
       "        PC1       PC2       PC3       PC4  Cluster_Id              country\n",
       "0 -2.787983  1.447327 -0.147883 -0.137217           3          Afghanistan\n",
       "1 -0.036631 -1.531361 -0.389990  0.103400           0              Albania\n",
       "2 -0.526379 -0.967487  1.160729 -0.055501           0              Algeria\n",
       "3 -2.816832  2.000886  1.600066 -0.167392           3               Angola\n",
       "4  1.097673 -0.798774 -0.552865  0.175428           0  Antigua and Barbuda"
      ]
     },
     "execution_count": 90,
     "metadata": {},
     "output_type": "execute_result"
    }
   ],
   "source": [
    "#adding country column\n",
    "\n",
    "df_pca_cluster=pd.concat([df_pca_cluster,pd.Series(df_country)],axis=1) \n",
    "df_pca_cluster.head()"
   ]
  },
  {
   "cell_type": "code",
   "execution_count": 91,
   "metadata": {},
   "outputs": [
    {
     "data": {
      "text/plain": [
       "<matplotlib.axes._subplots.AxesSubplot at 0x25336530048>"
      ]
     },
     "execution_count": 91,
     "metadata": {},
     "output_type": "execute_result"
    },
    {
     "data": {
      "image/png": "[encoded data removed]",
      "text/plain": [
       "<Figure size 432x288 with 1 Axes>"
      ]
     },
     "metadata": {
      "needs_background": "light"
     },
     "output_type": "display_data"
    }
   ],
   "source": [
    "sns.scatterplot(x= 'PC1', y='PC2', hue='Cluster_Id', legend= 'full', data= df_pca_cluster)"
   ]
  },
  {
   "cell_type": "code",
   "execution_count": 92,
   "metadata": {},
   "outputs": [
    {
     "data": {
      "text/plain": [
       "Index(['PC1', 'PC2', 'PC3', 'PC4', 'Cluster_Id', 'country'], dtype='object')"
      ]
     },
     "execution_count": 92,
     "metadata": {},
     "output_type": "execute_result"
    }
   ],
   "source": [
    "df_pca_cluster.columns"
   ]
  },
  {
   "cell_type": "code",
   "execution_count": 93,
   "metadata": {},
   "outputs": [
    {
     "data": {
      "text/plain": [
       "(157, 6)"
      ]
     },
     "execution_count": 93,
     "metadata": {},
     "output_type": "execute_result"
    }
   ],
   "source": [
    "df_pca_cluster.shape"
   ]
  },
  {
   "cell_type": "code",
   "execution_count": 94,
   "metadata": {},
   "outputs": [
    {
     "data": {
      "text/html": [
       "<div>\n",
       "<style scoped>\n",
       "    .dataframe tbody tr th:only-of-type {\n",
       "        vertical-align: middle;\n",
       "    }\n",
       "\n",
       "    .dataframe tbody tr th {\n",
       "        vertical-align: top;\n",
       "    }\n",
       "\n",
       "    .dataframe thead th {\n",
       "        text-align: right;\n",
       "    }\n",
       "</style>\n",
       "<table border=\"1\" class=\"dataframe\">\n",
       "  <thead>\n",
       "    <tr style=\"text-align: right;\">\n",
       "      <th></th>\n",
       "      <th>PC1</th>\n",
       "      <th>PC2</th>\n",
       "      <th>PC3</th>\n",
       "      <th>PC4</th>\n",
       "      <th>Cluster_Id</th>\n",
       "      <th>country</th>\n",
       "      <th>child_mort</th>\n",
       "      <th>exports</th>\n",
       "      <th>health</th>\n",
       "      <th>imports</th>\n",
       "      <th>income</th>\n",
       "      <th>inflation</th>\n",
       "      <th>life_expec</th>\n",
       "      <th>total_fer</th>\n",
       "      <th>gdpp</th>\n",
       "    </tr>\n",
       "  </thead>\n",
       "  <tbody>\n",
       "    <tr>\n",
       "      <td>0</td>\n",
       "      <td>-2.787983</td>\n",
       "      <td>1.447327</td>\n",
       "      <td>-0.147883</td>\n",
       "      <td>-0.137217</td>\n",
       "      <td>3</td>\n",
       "      <td>Afghanistan</td>\n",
       "      <td>90.2</td>\n",
       "      <td>55.30</td>\n",
       "      <td>41.9174</td>\n",
       "      <td>248.297</td>\n",
       "      <td>1610</td>\n",
       "      <td>9.44</td>\n",
       "      <td>56.2</td>\n",
       "      <td>5.82</td>\n",
       "      <td>553</td>\n",
       "    </tr>\n",
       "    <tr>\n",
       "      <td>1</td>\n",
       "      <td>-0.036631</td>\n",
       "      <td>-1.531361</td>\n",
       "      <td>-0.389990</td>\n",
       "      <td>0.103400</td>\n",
       "      <td>0</td>\n",
       "      <td>Albania</td>\n",
       "      <td>16.6</td>\n",
       "      <td>1145.20</td>\n",
       "      <td>267.8950</td>\n",
       "      <td>1987.740</td>\n",
       "      <td>9930</td>\n",
       "      <td>4.49</td>\n",
       "      <td>76.3</td>\n",
       "      <td>1.65</td>\n",
       "      <td>4090</td>\n",
       "    </tr>\n",
       "    <tr>\n",
       "      <td>2</td>\n",
       "      <td>-0.526379</td>\n",
       "      <td>-0.967487</td>\n",
       "      <td>1.160729</td>\n",
       "      <td>-0.055501</td>\n",
       "      <td>0</td>\n",
       "      <td>Algeria</td>\n",
       "      <td>27.3</td>\n",
       "      <td>1712.64</td>\n",
       "      <td>185.9820</td>\n",
       "      <td>1400.440</td>\n",
       "      <td>12900</td>\n",
       "      <td>16.10</td>\n",
       "      <td>76.5</td>\n",
       "      <td>2.89</td>\n",
       "      <td>4460</td>\n",
       "    </tr>\n",
       "    <tr>\n",
       "      <td>3</td>\n",
       "      <td>-2.816832</td>\n",
       "      <td>2.000886</td>\n",
       "      <td>1.600066</td>\n",
       "      <td>-0.167392</td>\n",
       "      <td>3</td>\n",
       "      <td>Angola</td>\n",
       "      <td>119.0</td>\n",
       "      <td>2199.19</td>\n",
       "      <td>100.6050</td>\n",
       "      <td>1514.370</td>\n",
       "      <td>5900</td>\n",
       "      <td>22.40</td>\n",
       "      <td>60.1</td>\n",
       "      <td>6.16</td>\n",
       "      <td>3530</td>\n",
       "    </tr>\n",
       "    <tr>\n",
       "      <td>4</td>\n",
       "      <td>1.097673</td>\n",
       "      <td>-0.798774</td>\n",
       "      <td>-0.552865</td>\n",
       "      <td>0.175428</td>\n",
       "      <td>0</td>\n",
       "      <td>Antigua and Barbuda</td>\n",
       "      <td>10.3</td>\n",
       "      <td>5551.00</td>\n",
       "      <td>735.6600</td>\n",
       "      <td>7185.800</td>\n",
       "      <td>19100</td>\n",
       "      <td>1.44</td>\n",
       "      <td>76.8</td>\n",
       "      <td>2.13</td>\n",
       "      <td>12200</td>\n",
       "    </tr>\n",
       "  </tbody>\n",
       "</table>\n",
       "</div>"
      ],
      "text/plain": [
       "        PC1       PC2       PC3       PC4  Cluster_Id              country  \\\n",
       "0 -2.787983  1.447327 -0.147883 -0.137217           3          Afghanistan   \n",
       "1 -0.036631 -1.531361 -0.389990  0.103400           0              Albania   \n",
       "2 -0.526379 -0.967487  1.160729 -0.055501           0              Algeria   \n",
       "3 -2.816832  2.000886  1.600066 -0.167392           3               Angola   \n",
       "4  1.097673 -0.798774 -0.552865  0.175428           0  Antigua and Barbuda   \n",
       "\n",
       "   child_mort  exports    health   imports  income  inflation  life_expec  \\\n",
       "0        90.2    55.30   41.9174   248.297    1610       9.44        56.2   \n",
       "1        16.6  1145.20  267.8950  1987.740    9930       4.49        76.3   \n",
       "2        27.3  1712.64  185.9820  1400.440   12900      16.10        76.5   \n",
       "3       119.0  2199.19  100.6050  1514.370    5900      22.40        60.1   \n",
       "4        10.3  5551.00  735.6600  7185.800   19100       1.44        76.8   \n",
       "\n",
       "   total_fer   gdpp  \n",
       "0       5.82    553  \n",
       "1       1.65   4090  \n",
       "2       2.89   4460  \n",
       "3       6.16   3530  \n",
       "4       2.13  12200  "
      ]
     },
     "execution_count": 94,
     "metadata": {},
     "output_type": "execute_result"
    }
   ],
   "source": [
    "final_df=df_pca_cluster.merge(help_df_new,how='left',left_on='country',right_on='country')\n",
    "final_df.head()"
   ]
  },
  {
   "cell_type": "code",
   "execution_count": 95,
   "metadata": {},
   "outputs": [
    {
     "data": {
      "text/plain": [
       "Index(['PC1', 'PC2', 'PC3', 'PC4', 'Cluster_Id', 'country', 'child_mort',\n",
       "       'exports', 'health', 'imports', 'income', 'inflation', 'life_expec',\n",
       "       'total_fer', 'gdpp'],\n",
       "      dtype='object')"
      ]
     },
     "execution_count": 95,
     "metadata": {},
     "output_type": "execute_result"
    }
   ],
   "source": [
    "final_df.columns"
   ]
  },
  {
   "cell_type": "code",
   "execution_count": 96,
   "metadata": {},
   "outputs": [
    {
     "data": {
      "text/plain": [
       "Index(['PC1', 'PC2', 'PC3', 'PC4', 'Cluster_Id', 'country', 'child_mort',\n",
       "       'exports', 'health', 'imports', 'income', 'inflation', 'life_expec',\n",
       "       'total_fer', 'gdpp'],\n",
       "      dtype='object')"
      ]
     },
     "execution_count": 96,
     "metadata": {},
     "output_type": "execute_result"
    }
   ],
   "source": [
    "final_df.columns"
   ]
  },
  {
   "cell_type": "code",
   "execution_count": 97,
   "metadata": {},
   "outputs": [
    {
     "data": {
      "text/html": [
       "<div>\n",
       "<style scoped>\n",
       "    .dataframe tbody tr th:only-of-type {\n",
       "        vertical-align: middle;\n",
       "    }\n",
       "\n",
       "    .dataframe tbody tr th {\n",
       "        vertical-align: top;\n",
       "    }\n",
       "\n",
       "    .dataframe thead th {\n",
       "        text-align: right;\n",
       "    }\n",
       "</style>\n",
       "<table border=\"1\" class=\"dataframe\">\n",
       "  <thead>\n",
       "    <tr style=\"text-align: right;\">\n",
       "      <th></th>\n",
       "      <th>ClusterID</th>\n",
       "      <th>exports_mean</th>\n",
       "      <th>child_mort_mean</th>\n",
       "      <th>health_mean</th>\n",
       "      <th>imports_mean</th>\n",
       "      <th>income_mean</th>\n",
       "      <th>inflation_mean</th>\n",
       "      <th>life_expec_mean</th>\n",
       "      <th>total_fer_mean</th>\n",
       "      <th>gdpp_mean</th>\n",
       "    </tr>\n",
       "  </thead>\n",
       "  <tbody>\n",
       "    <tr>\n",
       "      <td>0</td>\n",
       "      <td>0</td>\n",
       "      <td>2065.614191</td>\n",
       "      <td>24.460526</td>\n",
       "      <td>343.545953</td>\n",
       "      <td>2266.923567</td>\n",
       "      <td>10691.973684</td>\n",
       "      <td>8.237987</td>\n",
       "      <td>72.130263</td>\n",
       "      <td>2.375263</td>\n",
       "      <td>5296.078947</td>\n",
       "    </tr>\n",
       "    <tr>\n",
       "      <td>1</td>\n",
       "      <td>1</td>\n",
       "      <td>27430.027273</td>\n",
       "      <td>4.254545</td>\n",
       "      <td>4736.719091</td>\n",
       "      <td>24937.390909</td>\n",
       "      <td>40945.454545</td>\n",
       "      <td>1.624636</td>\n",
       "      <td>80.572727</td>\n",
       "      <td>1.767273</td>\n",
       "      <td>45345.454545</td>\n",
       "    </tr>\n",
       "    <tr>\n",
       "      <td>2</td>\n",
       "      <td>2</td>\n",
       "      <td>9959.200000</td>\n",
       "      <td>6.600000</td>\n",
       "      <td>2083.366538</td>\n",
       "      <td>9905.819231</td>\n",
       "      <td>30065.384615</td>\n",
       "      <td>2.203923</td>\n",
       "      <td>78.173077</td>\n",
       "      <td>1.791923</td>\n",
       "      <td>24950.000000</td>\n",
       "    </tr>\n",
       "    <tr>\n",
       "      <td>3</td>\n",
       "      <td>3</td>\n",
       "      <td>795.042705</td>\n",
       "      <td>93.731818</td>\n",
       "      <td>87.204130</td>\n",
       "      <td>738.754341</td>\n",
       "      <td>3270.977273</td>\n",
       "      <td>9.906023</td>\n",
       "      <td>59.190909</td>\n",
       "      <td>5.085227</td>\n",
       "      <td>1617.772727</td>\n",
       "    </tr>\n",
       "  </tbody>\n",
       "</table>\n",
       "</div>"
      ],
      "text/plain": [
       "   ClusterID  exports_mean  child_mort_mean  health_mean  imports_mean  \\\n",
       "0          0   2065.614191        24.460526   343.545953   2266.923567   \n",
       "1          1  27430.027273         4.254545  4736.719091  24937.390909   \n",
       "2          2   9959.200000         6.600000  2083.366538   9905.819231   \n",
       "3          3    795.042705        93.731818    87.204130    738.754341   \n",
       "\n",
       "    income_mean  inflation_mean  life_expec_mean  total_fer_mean     gdpp_mean  \n",
       "0  10691.973684        8.237987        72.130263        2.375263   5296.078947  \n",
       "1  40945.454545        1.624636        80.572727        1.767273  45345.454545  \n",
       "2  30065.384615        2.203923        78.173077        1.791923  24950.000000  \n",
       "3   3270.977273        9.906023        59.190909        5.085227   1617.772727  "
      ]
     },
     "execution_count": 97,
     "metadata": {},
     "output_type": "execute_result"
    }
   ],
   "source": [
    "# Analysis of clusters formed\n",
    "\n",
    "km_clusters_exports = pd.DataFrame(final_df.groupby([\"Cluster_Id\"]).exports.mean())\n",
    "km_clusters_child_mort = pd.DataFrame(final_df.groupby([\"Cluster_Id\"]).child_mort.mean())\n",
    "km_clusters_health = pd.DataFrame(final_df.groupby([\"Cluster_Id\"]).health.mean())\n",
    "km_clusters_imports = pd.DataFrame(final_df.groupby([\"Cluster_Id\"]).imports.mean())\n",
    "km_clusters_income = pd.DataFrame(final_df.groupby([\"Cluster_Id\"]).income.mean())\n",
    "km_clusters_inflation = pd.DataFrame(final_df.groupby([\"Cluster_Id\"]).inflation.mean())\n",
    "km_clusters_life_expec = pd.DataFrame(final_df.groupby([\"Cluster_Id\"]).life_expec.mean())\n",
    "km_clusters_total_fer = pd.DataFrame(final_df.groupby([\"Cluster_Id\"]).total_fer.mean())\n",
    "km_clusters_gdpp = pd.DataFrame(final_df.groupby([\"Cluster_Id\"]).gdpp.mean())\n",
    "dfa= pd.concat([pd.Series([0,1,2,3]), km_clusters_exports, km_clusters_child_mort, km_clusters_health,km_clusters_imports,km_clusters_income,km_clusters_inflation,km_clusters_life_expec,km_clusters_total_fer,km_clusters_gdpp], axis=1)\n",
    "dfa.columns = [\"ClusterID\", \"exports_mean\", \"child_mort_mean\", \"health_mean\",\"imports_mean\",\"income_mean\",\"inflation_mean\",\"life_expec_mean\",\"total_fer_mean\",\"gdpp_mean\"]\n",
    "dfa.head()"
   ]
  },
  {
   "cell_type": "markdown",
   "metadata": {},
   "source": [
    "### Binning on Original Dataset "
   ]
  },
  {
   "cell_type": "code",
   "execution_count": 98,
   "metadata": {},
   "outputs": [],
   "source": [
    "# Binning \n",
    "\n",
    "fin= df_help[df_help['income'] < 10454]\n",
    "\n",
    "fin= fin[fin['child_mort'] > 24]\n",
    "\n",
    "\n",
    "fin= fin[fin['health'] < 328]"
   ]
  },
  {
   "cell_type": "code",
   "execution_count": 99,
   "metadata": {},
   "outputs": [
    {
     "data": {
      "text/html": [
       "<div>\n",
       "<style scoped>\n",
       "    .dataframe tbody tr th:only-of-type {\n",
       "        vertical-align: middle;\n",
       "    }\n",
       "\n",
       "    .dataframe tbody tr th {\n",
       "        vertical-align: top;\n",
       "    }\n",
       "\n",
       "    .dataframe thead th {\n",
       "        text-align: right;\n",
       "    }\n",
       "</style>\n",
       "<table border=\"1\" class=\"dataframe\">\n",
       "  <thead>\n",
       "    <tr style=\"text-align: right;\">\n",
       "      <th></th>\n",
       "      <th>country</th>\n",
       "      <th>child_mort</th>\n",
       "      <th>exports</th>\n",
       "      <th>health</th>\n",
       "      <th>imports</th>\n",
       "      <th>income</th>\n",
       "      <th>inflation</th>\n",
       "      <th>life_expec</th>\n",
       "      <th>total_fer</th>\n",
       "      <th>gdpp</th>\n",
       "    </tr>\n",
       "  </thead>\n",
       "  <tbody>\n",
       "    <tr>\n",
       "      <td>0</td>\n",
       "      <td>Afghanistan</td>\n",
       "      <td>90.2</td>\n",
       "      <td>55.3000</td>\n",
       "      <td>41.9174</td>\n",
       "      <td>248.297</td>\n",
       "      <td>1610</td>\n",
       "      <td>9.440</td>\n",
       "      <td>56.2</td>\n",
       "      <td>5.82</td>\n",
       "      <td>553</td>\n",
       "    </tr>\n",
       "    <tr>\n",
       "      <td>3</td>\n",
       "      <td>Angola</td>\n",
       "      <td>119.0</td>\n",
       "      <td>2199.1900</td>\n",
       "      <td>100.6050</td>\n",
       "      <td>1514.370</td>\n",
       "      <td>5900</td>\n",
       "      <td>22.400</td>\n",
       "      <td>60.1</td>\n",
       "      <td>6.16</td>\n",
       "      <td>3530</td>\n",
       "    </tr>\n",
       "    <tr>\n",
       "      <td>12</td>\n",
       "      <td>Bangladesh</td>\n",
       "      <td>49.4</td>\n",
       "      <td>121.2800</td>\n",
       "      <td>26.6816</td>\n",
       "      <td>165.244</td>\n",
       "      <td>2440</td>\n",
       "      <td>7.140</td>\n",
       "      <td>70.4</td>\n",
       "      <td>2.33</td>\n",
       "      <td>758</td>\n",
       "    </tr>\n",
       "    <tr>\n",
       "      <td>17</td>\n",
       "      <td>Benin</td>\n",
       "      <td>111.0</td>\n",
       "      <td>180.4040</td>\n",
       "      <td>31.0780</td>\n",
       "      <td>281.976</td>\n",
       "      <td>1820</td>\n",
       "      <td>0.885</td>\n",
       "      <td>61.8</td>\n",
       "      <td>5.36</td>\n",
       "      <td>758</td>\n",
       "    </tr>\n",
       "    <tr>\n",
       "      <td>18</td>\n",
       "      <td>Bhutan</td>\n",
       "      <td>42.7</td>\n",
       "      <td>926.5000</td>\n",
       "      <td>113.3600</td>\n",
       "      <td>1541.260</td>\n",
       "      <td>6420</td>\n",
       "      <td>5.990</td>\n",
       "      <td>72.1</td>\n",
       "      <td>2.38</td>\n",
       "      <td>2180</td>\n",
       "    </tr>\n",
       "    <tr>\n",
       "      <td>19</td>\n",
       "      <td>Bolivia</td>\n",
       "      <td>46.6</td>\n",
       "      <td>815.7600</td>\n",
       "      <td>95.8320</td>\n",
       "      <td>679.140</td>\n",
       "      <td>5410</td>\n",
       "      <td>8.780</td>\n",
       "      <td>71.6</td>\n",
       "      <td>3.20</td>\n",
       "      <td>1980</td>\n",
       "    </tr>\n",
       "    <tr>\n",
       "      <td>25</td>\n",
       "      <td>Burkina Faso</td>\n",
       "      <td>116.0</td>\n",
       "      <td>110.4000</td>\n",
       "      <td>38.7550</td>\n",
       "      <td>170.200</td>\n",
       "      <td>1430</td>\n",
       "      <td>6.810</td>\n",
       "      <td>57.9</td>\n",
       "      <td>5.87</td>\n",
       "      <td>575</td>\n",
       "    </tr>\n",
       "    <tr>\n",
       "      <td>26</td>\n",
       "      <td>Burundi</td>\n",
       "      <td>93.6</td>\n",
       "      <td>20.6052</td>\n",
       "      <td>26.7960</td>\n",
       "      <td>90.552</td>\n",
       "      <td>764</td>\n",
       "      <td>12.300</td>\n",
       "      <td>57.7</td>\n",
       "      <td>6.26</td>\n",
       "      <td>231</td>\n",
       "    </tr>\n",
       "    <tr>\n",
       "      <td>27</td>\n",
       "      <td>Cambodia</td>\n",
       "      <td>44.4</td>\n",
       "      <td>425.2260</td>\n",
       "      <td>44.6448</td>\n",
       "      <td>467.670</td>\n",
       "      <td>2520</td>\n",
       "      <td>3.120</td>\n",
       "      <td>66.1</td>\n",
       "      <td>2.88</td>\n",
       "      <td>786</td>\n",
       "    </tr>\n",
       "    <tr>\n",
       "      <td>28</td>\n",
       "      <td>Cameroon</td>\n",
       "      <td>108.0</td>\n",
       "      <td>290.8200</td>\n",
       "      <td>67.2030</td>\n",
       "      <td>353.700</td>\n",
       "      <td>2660</td>\n",
       "      <td>1.910</td>\n",
       "      <td>57.3</td>\n",
       "      <td>5.11</td>\n",
       "      <td>1310</td>\n",
       "    </tr>\n",
       "    <tr>\n",
       "      <td>30</td>\n",
       "      <td>Cape Verde</td>\n",
       "      <td>26.5</td>\n",
       "      <td>1082.3700</td>\n",
       "      <td>135.3790</td>\n",
       "      <td>2045.580</td>\n",
       "      <td>5830</td>\n",
       "      <td>0.505</td>\n",
       "      <td>72.5</td>\n",
       "      <td>2.67</td>\n",
       "      <td>3310</td>\n",
       "    </tr>\n",
       "    <tr>\n",
       "      <td>31</td>\n",
       "      <td>Central African Republic</td>\n",
       "      <td>149.0</td>\n",
       "      <td>52.6280</td>\n",
       "      <td>17.7508</td>\n",
       "      <td>118.190</td>\n",
       "      <td>888</td>\n",
       "      <td>2.010</td>\n",
       "      <td>47.5</td>\n",
       "      <td>5.21</td>\n",
       "      <td>446</td>\n",
       "    </tr>\n",
       "    <tr>\n",
       "      <td>32</td>\n",
       "      <td>Chad</td>\n",
       "      <td>150.0</td>\n",
       "      <td>330.0960</td>\n",
       "      <td>40.6341</td>\n",
       "      <td>390.195</td>\n",
       "      <td>1930</td>\n",
       "      <td>6.390</td>\n",
       "      <td>56.5</td>\n",
       "      <td>6.59</td>\n",
       "      <td>897</td>\n",
       "    </tr>\n",
       "    <tr>\n",
       "      <td>36</td>\n",
       "      <td>Comoros</td>\n",
       "      <td>88.2</td>\n",
       "      <td>126.8850</td>\n",
       "      <td>34.6819</td>\n",
       "      <td>397.573</td>\n",
       "      <td>1410</td>\n",
       "      <td>3.870</td>\n",
       "      <td>65.9</td>\n",
       "      <td>4.75</td>\n",
       "      <td>769</td>\n",
       "    </tr>\n",
       "    <tr>\n",
       "      <td>37</td>\n",
       "      <td>Congo, Dem. Rep.</td>\n",
       "      <td>116.0</td>\n",
       "      <td>137.2740</td>\n",
       "      <td>26.4194</td>\n",
       "      <td>165.664</td>\n",
       "      <td>609</td>\n",
       "      <td>20.800</td>\n",
       "      <td>57.5</td>\n",
       "      <td>6.54</td>\n",
       "      <td>334</td>\n",
       "    </tr>\n",
       "    <tr>\n",
       "      <td>38</td>\n",
       "      <td>Congo, Rep.</td>\n",
       "      <td>63.9</td>\n",
       "      <td>2331.7400</td>\n",
       "      <td>67.4040</td>\n",
       "      <td>1498.780</td>\n",
       "      <td>5190</td>\n",
       "      <td>20.700</td>\n",
       "      <td>60.4</td>\n",
       "      <td>4.95</td>\n",
       "      <td>2740</td>\n",
       "    </tr>\n",
       "    <tr>\n",
       "      <td>40</td>\n",
       "      <td>Cote d'Ivoire</td>\n",
       "      <td>111.0</td>\n",
       "      <td>617.3200</td>\n",
       "      <td>64.6600</td>\n",
       "      <td>528.260</td>\n",
       "      <td>2690</td>\n",
       "      <td>5.390</td>\n",
       "      <td>56.3</td>\n",
       "      <td>5.27</td>\n",
       "      <td>1220</td>\n",
       "    </tr>\n",
       "    <tr>\n",
       "      <td>47</td>\n",
       "      <td>Egypt</td>\n",
       "      <td>29.1</td>\n",
       "      <td>553.8000</td>\n",
       "      <td>121.1600</td>\n",
       "      <td>691.600</td>\n",
       "      <td>9860</td>\n",
       "      <td>10.100</td>\n",
       "      <td>70.5</td>\n",
       "      <td>3.19</td>\n",
       "      <td>2600</td>\n",
       "    </tr>\n",
       "    <tr>\n",
       "      <td>50</td>\n",
       "      <td>Eritrea</td>\n",
       "      <td>55.2</td>\n",
       "      <td>23.0878</td>\n",
       "      <td>12.8212</td>\n",
       "      <td>112.306</td>\n",
       "      <td>1420</td>\n",
       "      <td>11.600</td>\n",
       "      <td>61.7</td>\n",
       "      <td>4.61</td>\n",
       "      <td>482</td>\n",
       "    </tr>\n",
       "    <tr>\n",
       "      <td>52</td>\n",
       "      <td>Fiji</td>\n",
       "      <td>24.1</td>\n",
       "      <td>2109.7000</td>\n",
       "      <td>177.3900</td>\n",
       "      <td>2332.350</td>\n",
       "      <td>7350</td>\n",
       "      <td>4.230</td>\n",
       "      <td>65.3</td>\n",
       "      <td>2.67</td>\n",
       "      <td>3650</td>\n",
       "    </tr>\n",
       "    <tr>\n",
       "      <td>56</td>\n",
       "      <td>Gambia</td>\n",
       "      <td>80.3</td>\n",
       "      <td>133.7560</td>\n",
       "      <td>31.9778</td>\n",
       "      <td>239.974</td>\n",
       "      <td>1660</td>\n",
       "      <td>4.300</td>\n",
       "      <td>65.5</td>\n",
       "      <td>5.71</td>\n",
       "      <td>562</td>\n",
       "    </tr>\n",
       "    <tr>\n",
       "      <td>59</td>\n",
       "      <td>Ghana</td>\n",
       "      <td>74.7</td>\n",
       "      <td>386.4500</td>\n",
       "      <td>68.3820</td>\n",
       "      <td>601.290</td>\n",
       "      <td>3060</td>\n",
       "      <td>16.600</td>\n",
       "      <td>62.2</td>\n",
       "      <td>4.27</td>\n",
       "      <td>1310</td>\n",
       "    </tr>\n",
       "    <tr>\n",
       "      <td>62</td>\n",
       "      <td>Guatemala</td>\n",
       "      <td>35.4</td>\n",
       "      <td>730.1400</td>\n",
       "      <td>193.8550</td>\n",
       "      <td>1027.290</td>\n",
       "      <td>6710</td>\n",
       "      <td>5.140</td>\n",
       "      <td>71.3</td>\n",
       "      <td>3.38</td>\n",
       "      <td>2830</td>\n",
       "    </tr>\n",
       "    <tr>\n",
       "      <td>63</td>\n",
       "      <td>Guinea</td>\n",
       "      <td>109.0</td>\n",
       "      <td>196.3440</td>\n",
       "      <td>31.9464</td>\n",
       "      <td>279.936</td>\n",
       "      <td>1190</td>\n",
       "      <td>16.100</td>\n",
       "      <td>58.0</td>\n",
       "      <td>5.34</td>\n",
       "      <td>648</td>\n",
       "    </tr>\n",
       "    <tr>\n",
       "      <td>64</td>\n",
       "      <td>Guinea-Bissau</td>\n",
       "      <td>114.0</td>\n",
       "      <td>81.5030</td>\n",
       "      <td>46.4950</td>\n",
       "      <td>192.544</td>\n",
       "      <td>1390</td>\n",
       "      <td>2.970</td>\n",
       "      <td>55.6</td>\n",
       "      <td>5.05</td>\n",
       "      <td>547</td>\n",
       "    </tr>\n",
       "    <tr>\n",
       "      <td>65</td>\n",
       "      <td>Guyana</td>\n",
       "      <td>37.6</td>\n",
       "      <td>1562.5600</td>\n",
       "      <td>163.5520</td>\n",
       "      <td>2404.640</td>\n",
       "      <td>5840</td>\n",
       "      <td>5.730</td>\n",
       "      <td>65.5</td>\n",
       "      <td>2.65</td>\n",
       "      <td>3040</td>\n",
       "    </tr>\n",
       "    <tr>\n",
       "      <td>66</td>\n",
       "      <td>Haiti</td>\n",
       "      <td>208.0</td>\n",
       "      <td>101.2860</td>\n",
       "      <td>45.7442</td>\n",
       "      <td>428.314</td>\n",
       "      <td>1500</td>\n",
       "      <td>5.450</td>\n",
       "      <td>32.1</td>\n",
       "      <td>3.33</td>\n",
       "      <td>662</td>\n",
       "    </tr>\n",
       "    <tr>\n",
       "      <td>69</td>\n",
       "      <td>India</td>\n",
       "      <td>58.8</td>\n",
       "      <td>305.1000</td>\n",
       "      <td>54.6750</td>\n",
       "      <td>365.850</td>\n",
       "      <td>4410</td>\n",
       "      <td>8.980</td>\n",
       "      <td>66.2</td>\n",
       "      <td>2.60</td>\n",
       "      <td>1350</td>\n",
       "    </tr>\n",
       "    <tr>\n",
       "      <td>70</td>\n",
       "      <td>Indonesia</td>\n",
       "      <td>33.3</td>\n",
       "      <td>755.7300</td>\n",
       "      <td>81.1710</td>\n",
       "      <td>696.640</td>\n",
       "      <td>8430</td>\n",
       "      <td>15.300</td>\n",
       "      <td>69.9</td>\n",
       "      <td>2.48</td>\n",
       "      <td>3110</td>\n",
       "    </tr>\n",
       "    <tr>\n",
       "      <td>80</td>\n",
       "      <td>Kenya</td>\n",
       "      <td>62.2</td>\n",
       "      <td>200.1690</td>\n",
       "      <td>45.9325</td>\n",
       "      <td>324.912</td>\n",
       "      <td>2480</td>\n",
       "      <td>2.090</td>\n",
       "      <td>62.8</td>\n",
       "      <td>4.37</td>\n",
       "      <td>967</td>\n",
       "    </tr>\n",
       "  </tbody>\n",
       "</table>\n",
       "</div>"
      ],
      "text/plain": [
       "                     country  child_mort    exports    health   imports  \\\n",
       "0                Afghanistan        90.2    55.3000   41.9174   248.297   \n",
       "3                     Angola       119.0  2199.1900  100.6050  1514.370   \n",
       "12                Bangladesh        49.4   121.2800   26.6816   165.244   \n",
       "17                     Benin       111.0   180.4040   31.0780   281.976   \n",
       "18                    Bhutan        42.7   926.5000  113.3600  1541.260   \n",
       "19                   Bolivia        46.6   815.7600   95.8320   679.140   \n",
       "25              Burkina Faso       116.0   110.4000   38.7550   170.200   \n",
       "26                   Burundi        93.6    20.6052   26.7960    90.552   \n",
       "27                  Cambodia        44.4   425.2260   44.6448   467.670   \n",
       "28                  Cameroon       108.0   290.8200   67.2030   353.700   \n",
       "30                Cape Verde        26.5  1082.3700  135.3790  2045.580   \n",
       "31  Central African Republic       149.0    52.6280   17.7508   118.190   \n",
       "32                      Chad       150.0   330.0960   40.6341   390.195   \n",
       "36                   Comoros        88.2   126.8850   34.6819   397.573   \n",
       "37          Congo, Dem. Rep.       116.0   137.2740   26.4194   165.664   \n",
       "38               Congo, Rep.        63.9  2331.7400   67.4040  1498.780   \n",
       "40             Cote d'Ivoire       111.0   617.3200   64.6600   528.260   \n",
       "47                     Egypt        29.1   553.8000  121.1600   691.600   \n",
       "50                   Eritrea        55.2    23.0878   12.8212   112.306   \n",
       "52                      Fiji        24.1  2109.7000  177.3900  2332.350   \n",
       "56                    Gambia        80.3   133.7560   31.9778   239.974   \n",
       "59                     Ghana        74.7   386.4500   68.3820   601.290   \n",
       "62                 Guatemala        35.4   730.1400  193.8550  1027.290   \n",
       "63                    Guinea       109.0   196.3440   31.9464   279.936   \n",
       "64             Guinea-Bissau       114.0    81.5030   46.4950   192.544   \n",
       "65                    Guyana        37.6  1562.5600  163.5520  2404.640   \n",
       "66                     Haiti       208.0   101.2860   45.7442   428.314   \n",
       "69                     India        58.8   305.1000   54.6750   365.850   \n",
       "70                 Indonesia        33.3   755.7300   81.1710   696.640   \n",
       "80                     Kenya        62.2   200.1690   45.9325   324.912   \n",
       "\n",
       "    income  inflation  life_expec  total_fer  gdpp  \n",
       "0     1610      9.440        56.2       5.82   553  \n",
       "3     5900     22.400        60.1       6.16  3530  \n",
       "12    2440      7.140        70.4       2.33   758  \n",
       "17    1820      0.885        61.8       5.36   758  \n",
       "18    6420      5.990        72.1       2.38  2180  \n",
       "19    5410      8.780        71.6       3.20  1980  \n",
       "25    1430      6.810        57.9       5.87   575  \n",
       "26     764     12.300        57.7       6.26   231  \n",
       "27    2520      3.120        66.1       2.88   786  \n",
       "28    2660      1.910        57.3       5.11  1310  \n",
       "30    5830      0.505        72.5       2.67  3310  \n",
       "31     888      2.010        47.5       5.21   446  \n",
       "32    1930      6.390        56.5       6.59   897  \n",
       "36    1410      3.870        65.9       4.75   769  \n",
       "37     609     20.800        57.5       6.54   334  \n",
       "38    5190     20.700        60.4       4.95  2740  \n",
       "40    2690      5.390        56.3       5.27  1220  \n",
       "47    9860     10.100        70.5       3.19  2600  \n",
       "50    1420     11.600        61.7       4.61   482  \n",
       "52    7350      4.230        65.3       2.67  3650  \n",
       "56    1660      4.300        65.5       5.71   562  \n",
       "59    3060     16.600        62.2       4.27  1310  \n",
       "62    6710      5.140        71.3       3.38  2830  \n",
       "63    1190     16.100        58.0       5.34   648  \n",
       "64    1390      2.970        55.6       5.05   547  \n",
       "65    5840      5.730        65.5       2.65  3040  \n",
       "66    1500      5.450        32.1       3.33   662  \n",
       "69    4410      8.980        66.2       2.60  1350  \n",
       "70    8430     15.300        69.9       2.48  3110  \n",
       "80    2480      2.090        62.8       4.37   967  "
      ]
     },
     "execution_count": 99,
     "metadata": {},
     "output_type": "execute_result"
    }
   ],
   "source": [
    "fin.head(30)"
   ]
  },
  {
   "cell_type": "markdown",
   "metadata": {},
   "source": [
    "#### Binning on Original Dataset based on the cluster's mean value for features where the variation is maximum from one cluster to other cluster based on objective of analysis. As we want to choose the countries which have very low income,high child_mort  & very low spenditure on health. This justifies the list of under developed countries which are dire need of help."
   ]
  },
  {
   "cell_type": "markdown",
   "metadata": {},
   "source": [
    "### Plotting the Barplots for different Cluster_Ids & original feature's Mean value"
   ]
  },
  {
   "cell_type": "code",
   "execution_count": 100,
   "metadata": {},
   "outputs": [
    {
     "data": {
      "text/plain": [
       "<matplotlib.axes._subplots.AxesSubplot at 0x25334d302c8>"
      ]
     },
     "execution_count": 100,
     "metadata": {},
     "output_type": "execute_result"
    },
    {
     "data": {
      "image/png": "[encoded data removed]",
      "text/plain": [
       "<Figure size 432x288 with 1 Axes>"
      ]
     },
     "metadata": {
      "needs_background": "light"
     },
     "output_type": "display_data"
    }
   ],
   "source": [
    "sns.barplot(x=dfa.ClusterID, y=dfa.exports_mean)"
   ]
  },
  {
   "cell_type": "code",
   "execution_count": 101,
   "metadata": {},
   "outputs": [
    {
     "data": {
      "text/plain": [
       "<matplotlib.axes._subplots.AxesSubplot at 0x253364bf908>"
      ]
     },
     "execution_count": 101,
     "metadata": {},
     "output_type": "execute_result"
    },
    {
     "data": {
      "image/png": "[encoded data removed]",
      "text/plain": [
       "<Figure size 432x288 with 1 Axes>"
      ]
     },
     "metadata": {
      "needs_background": "light"
     },
     "output_type": "display_data"
    }
   ],
   "source": [
    "sns.barplot(x=dfa.ClusterID, y=dfa.child_mort_mean)"
   ]
  },
  {
   "cell_type": "code",
   "execution_count": 102,
   "metadata": {},
   "outputs": [
    {
     "data": {
      "text/plain": [
       "<matplotlib.axes._subplots.AxesSubplot at 0x2533513bb08>"
      ]
     },
     "execution_count": 102,
     "metadata": {},
     "output_type": "execute_result"
    },
    {
     "data": {
      "image/png": "[encoded data removed]",
      "text/plain": [
       "<Figure size 432x288 with 1 Axes>"
      ]
     },
     "metadata": {
      "needs_background": "light"
     },
     "output_type": "display_data"
    }
   ],
   "source": [
    "sns.barplot(x=dfa.ClusterID, y=dfa.imports_mean)"
   ]
  },
  {
   "cell_type": "code",
   "execution_count": 103,
   "metadata": {},
   "outputs": [
    {
     "data": {
      "text/plain": [
       "<matplotlib.axes._subplots.AxesSubplot at 0x25334d608c8>"
      ]
     },
     "execution_count": 103,
     "metadata": {},
     "output_type": "execute_result"
    },
    {
     "data": {
      "image/png": "[encoded data removed]",
      "text/plain": [
       "<Figure size 432x288 with 1 Axes>"
      ]
     },
     "metadata": {
      "needs_background": "light"
     },
     "output_type": "display_data"
    }
   ],
   "source": [
    "sns.barplot(x=dfa.ClusterID, y=dfa.income_mean)"
   ]
  },
  {
   "cell_type": "code",
   "execution_count": 104,
   "metadata": {},
   "outputs": [
    {
     "data": {
      "text/plain": [
       "<matplotlib.axes._subplots.AxesSubplot at 0x2533647aac8>"
      ]
     },
     "execution_count": 104,
     "metadata": {},
     "output_type": "execute_result"
    },
    {
     "data": {
      "image/png": "[encoded data removed]",
      "text/plain": [
       "<Figure size 432x288 with 1 Axes>"
      ]
     },
     "metadata": {
      "needs_background": "light"
     },
     "output_type": "display_data"
    }
   ],
   "source": [
    "sns.barplot(x=dfa.ClusterID, y=dfa.inflation_mean)"
   ]
  },
  {
   "cell_type": "code",
   "execution_count": 105,
   "metadata": {},
   "outputs": [
    {
     "data": {
      "text/plain": [
       "<matplotlib.axes._subplots.AxesSubplot at 0x253350e78c8>"
      ]
     },
     "execution_count": 105,
     "metadata": {},
     "output_type": "execute_result"
    },
    {
     "data": {
      "image/png": "[encoded data removed]",
      "text/plain": [
       "<Figure size 432x288 with 1 Axes>"
      ]
     },
     "metadata": {
      "needs_background": "light"
     },
     "output_type": "display_data"
    }
   ],
   "source": [
    "sns.barplot(x=dfa.ClusterID, y=dfa.life_expec_mean)"
   ]
  },
  {
   "cell_type": "code",
   "execution_count": 106,
   "metadata": {},
   "outputs": [
    {
     "data": {
      "text/plain": [
       "<matplotlib.axes._subplots.AxesSubplot at 0x2533637d0c8>"
      ]
     },
     "execution_count": 106,
     "metadata": {},
     "output_type": "execute_result"
    },
    {
     "data": {
      "image/png": "[encoded data removed]",
      "text/plain": [
       "<Figure size 432x288 with 1 Axes>"
      ]
     },
     "metadata": {
      "needs_background": "light"
     },
     "output_type": "display_data"
    }
   ],
   "source": [
    "sns.barplot(x=dfa.ClusterID, y=dfa.total_fer_mean)"
   ]
  },
  {
   "cell_type": "code",
   "execution_count": 107,
   "metadata": {},
   "outputs": [
    {
     "data": {
      "text/plain": [
       "<matplotlib.axes._subplots.AxesSubplot at 0x253351973c8>"
      ]
     },
     "execution_count": 107,
     "metadata": {},
     "output_type": "execute_result"
    },
    {
     "data": {
      "image/png": "[encoded data removed]",
      "text/plain": [
       "<Figure size 432x288 with 1 Axes>"
      ]
     },
     "metadata": {
      "needs_background": "light"
     },
     "output_type": "display_data"
    }
   ],
   "source": [
    "sns.barplot(x=dfa.ClusterID, y=dfa.gdpp_mean)"
   ]
  },
  {
   "cell_type": "code",
   "execution_count": 108,
   "metadata": {},
   "outputs": [
    {
     "data": {
      "text/plain": [
       "<matplotlib.axes._subplots.AxesSubplot at 0x253351ea188>"
      ]
     },
     "execution_count": 108,
     "metadata": {},
     "output_type": "execute_result"
    },
    {
     "data": {
      "image/png": "[encoded data removed]",
      "text/plain": [
       "<Figure size 432x288 with 1 Axes>"
      ]
     },
     "metadata": {
      "needs_background": "light"
     },
     "output_type": "display_data"
    }
   ],
   "source": [
    "sns.barplot(x=dfa.ClusterID, y=dfa.health_mean)"
   ]
  },
  {
   "cell_type": "code",
   "execution_count": 109,
   "metadata": {},
   "outputs": [
    {
     "data": {
      "text/html": [
       "<div>\n",
       "<style scoped>\n",
       "    .dataframe tbody tr th:only-of-type {\n",
       "        vertical-align: middle;\n",
       "    }\n",
       "\n",
       "    .dataframe tbody tr th {\n",
       "        vertical-align: top;\n",
       "    }\n",
       "\n",
       "    .dataframe thead th {\n",
       "        text-align: right;\n",
       "    }\n",
       "</style>\n",
       "<table border=\"1\" class=\"dataframe\">\n",
       "  <thead>\n",
       "    <tr style=\"text-align: right;\">\n",
       "      <th></th>\n",
       "      <th>Cluster_Id</th>\n",
       "      <th>country</th>\n",
       "      <th>income</th>\n",
       "      <th>gdpp</th>\n",
       "      <th>child_mort</th>\n",
       "      <th>health</th>\n",
       "    </tr>\n",
       "  </thead>\n",
       "  <tbody>\n",
       "    <tr>\n",
       "      <td>1</td>\n",
       "      <td>0</td>\n",
       "      <td>Albania</td>\n",
       "      <td>9930</td>\n",
       "      <td>4090</td>\n",
       "      <td>16.6</td>\n",
       "      <td>267.895</td>\n",
       "    </tr>\n",
       "    <tr>\n",
       "      <td>2</td>\n",
       "      <td>0</td>\n",
       "      <td>Algeria</td>\n",
       "      <td>12900</td>\n",
       "      <td>4460</td>\n",
       "      <td>27.3</td>\n",
       "      <td>185.982</td>\n",
       "    </tr>\n",
       "    <tr>\n",
       "      <td>4</td>\n",
       "      <td>0</td>\n",
       "      <td>Antigua and Barbuda</td>\n",
       "      <td>19100</td>\n",
       "      <td>12200</td>\n",
       "      <td>10.3</td>\n",
       "      <td>735.660</td>\n",
       "    </tr>\n",
       "    <tr>\n",
       "      <td>5</td>\n",
       "      <td>0</td>\n",
       "      <td>Argentina</td>\n",
       "      <td>18700</td>\n",
       "      <td>10300</td>\n",
       "      <td>14.5</td>\n",
       "      <td>834.300</td>\n",
       "    </tr>\n",
       "    <tr>\n",
       "      <td>6</td>\n",
       "      <td>0</td>\n",
       "      <td>Armenia</td>\n",
       "      <td>6700</td>\n",
       "      <td>3220</td>\n",
       "      <td>18.1</td>\n",
       "      <td>141.680</td>\n",
       "    </tr>\n",
       "  </tbody>\n",
       "</table>\n",
       "</div>"
      ],
      "text/plain": [
       "   Cluster_Id              country  income   gdpp  child_mort   health\n",
       "1           0              Albania    9930   4090        16.6  267.895\n",
       "2           0              Algeria   12900   4460        27.3  185.982\n",
       "4           0  Antigua and Barbuda   19100  12200        10.3  735.660\n",
       "5           0            Argentina   18700  10300        14.5  834.300\n",
       "6           0              Armenia    6700   3220        18.1  141.680"
      ]
     },
     "execution_count": 109,
     "metadata": {},
     "output_type": "execute_result"
    }
   ],
   "source": [
    "dk1= df_pca_cluster.drop(['PC1', 'PC2', 'PC3', 'PC4'], axis=1)\n",
    "dk1= dk1[dk1['Cluster_Id'] == 0]\n",
    "dk1['income']= final_df['income']\n",
    "dk1['gdpp']= final_df['gdpp']\n",
    "dk1['child_mort']= final_df['child_mort']\n",
    "dk1['health']= final_df['health']\n",
    "dk1.head()\n"
   ]
  },
  {
   "cell_type": "code",
   "execution_count": 110,
   "metadata": {},
   "outputs": [
    {
     "data": {
      "text/plain": [
       "(76, 6)"
      ]
     },
     "execution_count": 110,
     "metadata": {},
     "output_type": "execute_result"
    }
   ],
   "source": [
    "dk1.shape"
   ]
  },
  {
   "cell_type": "code",
   "execution_count": 111,
   "metadata": {},
   "outputs": [
    {
     "data": {
      "text/html": [
       "<div>\n",
       "<style scoped>\n",
       "    .dataframe tbody tr th:only-of-type {\n",
       "        vertical-align: middle;\n",
       "    }\n",
       "\n",
       "    .dataframe tbody tr th {\n",
       "        vertical-align: top;\n",
       "    }\n",
       "\n",
       "    .dataframe thead th {\n",
       "        text-align: right;\n",
       "    }\n",
       "</style>\n",
       "<table border=\"1\" class=\"dataframe\">\n",
       "  <thead>\n",
       "    <tr style=\"text-align: right;\">\n",
       "      <th></th>\n",
       "      <th>Cluster_Id</th>\n",
       "      <th>country</th>\n",
       "      <th>income</th>\n",
       "      <th>gdpp</th>\n",
       "      <th>child_mort</th>\n",
       "    </tr>\n",
       "  </thead>\n",
       "  <tbody>\n",
       "    <tr>\n",
       "      <td>8</td>\n",
       "      <td>1</td>\n",
       "      <td>Austria</td>\n",
       "      <td>43200</td>\n",
       "      <td>46900</td>\n",
       "      <td>4.3</td>\n",
       "    </tr>\n",
       "    <tr>\n",
       "      <td>15</td>\n",
       "      <td>1</td>\n",
       "      <td>Belgium</td>\n",
       "      <td>41100</td>\n",
       "      <td>44400</td>\n",
       "      <td>4.5</td>\n",
       "    </tr>\n",
       "    <tr>\n",
       "      <td>28</td>\n",
       "      <td>1</td>\n",
       "      <td>Canada</td>\n",
       "      <td>40700</td>\n",
       "      <td>47400</td>\n",
       "      <td>5.6</td>\n",
       "    </tr>\n",
       "    <tr>\n",
       "      <td>43</td>\n",
       "      <td>1</td>\n",
       "      <td>Denmark</td>\n",
       "      <td>44000</td>\n",
       "      <td>58000</td>\n",
       "      <td>4.1</td>\n",
       "    </tr>\n",
       "    <tr>\n",
       "      <td>52</td>\n",
       "      <td>1</td>\n",
       "      <td>Finland</td>\n",
       "      <td>39800</td>\n",
       "      <td>46200</td>\n",
       "      <td>3.0</td>\n",
       "    </tr>\n",
       "  </tbody>\n",
       "</table>\n",
       "</div>"
      ],
      "text/plain": [
       "    Cluster_Id  country  income   gdpp  child_mort\n",
       "8            1  Austria   43200  46900         4.3\n",
       "15           1  Belgium   41100  44400         4.5\n",
       "28           1   Canada   40700  47400         5.6\n",
       "43           1  Denmark   44000  58000         4.1\n",
       "52           1  Finland   39800  46200         3.0"
      ]
     },
     "execution_count": 111,
     "metadata": {},
     "output_type": "execute_result"
    }
   ],
   "source": [
    "dk2= df_pca_cluster.drop(['PC1', 'PC2', 'PC3', 'PC4'], axis=1)\n",
    "dk2= dk2[dk2['Cluster_Id'] == 1]\n",
    "dk2['income']= final_df['income']\n",
    "dk2['gdpp']= final_df['gdpp']\n",
    "dk2['child_mort']= final_df['child_mort']\n",
    "dk2.head()"
   ]
  },
  {
   "cell_type": "code",
   "execution_count": 112,
   "metadata": {},
   "outputs": [
    {
     "data": {
      "text/plain": [
       "(11, 5)"
      ]
     },
     "execution_count": 112,
     "metadata": {},
     "output_type": "execute_result"
    }
   ],
   "source": [
    "dk2.shape"
   ]
  },
  {
   "cell_type": "code",
   "execution_count": 113,
   "metadata": {},
   "outputs": [
    {
     "data": {
      "text/html": [
       "<div>\n",
       "<style scoped>\n",
       "    .dataframe tbody tr th:only-of-type {\n",
       "        vertical-align: middle;\n",
       "    }\n",
       "\n",
       "    .dataframe tbody tr th {\n",
       "        vertical-align: top;\n",
       "    }\n",
       "\n",
       "    .dataframe thead th {\n",
       "        text-align: right;\n",
       "    }\n",
       "</style>\n",
       "<table border=\"1\" class=\"dataframe\">\n",
       "  <thead>\n",
       "    <tr style=\"text-align: right;\">\n",
       "      <th></th>\n",
       "      <th>Cluster_Id</th>\n",
       "      <th>country</th>\n",
       "      <th>income</th>\n",
       "      <th>gdpp</th>\n",
       "      <th>child_mort</th>\n",
       "      <th>health</th>\n",
       "    </tr>\n",
       "  </thead>\n",
       "  <tbody>\n",
       "    <tr>\n",
       "      <td>7</td>\n",
       "      <td>2</td>\n",
       "      <td>Australia</td>\n",
       "      <td>41400</td>\n",
       "      <td>51900</td>\n",
       "      <td>4.8</td>\n",
       "      <td>4530.87</td>\n",
       "    </tr>\n",
       "    <tr>\n",
       "      <td>10</td>\n",
       "      <td>2</td>\n",
       "      <td>Bahamas</td>\n",
       "      <td>22900</td>\n",
       "      <td>28000</td>\n",
       "      <td>13.8</td>\n",
       "      <td>2209.20</td>\n",
       "    </tr>\n",
       "    <tr>\n",
       "      <td>11</td>\n",
       "      <td>2</td>\n",
       "      <td>Bahrain</td>\n",
       "      <td>41100</td>\n",
       "      <td>20700</td>\n",
       "      <td>8.6</td>\n",
       "      <td>1028.79</td>\n",
       "    </tr>\n",
       "    <tr>\n",
       "      <td>13</td>\n",
       "      <td>2</td>\n",
       "      <td>Barbados</td>\n",
       "      <td>15300</td>\n",
       "      <td>16000</td>\n",
       "      <td>14.2</td>\n",
       "      <td>1275.20</td>\n",
       "    </tr>\n",
       "    <tr>\n",
       "      <td>40</td>\n",
       "      <td>2</td>\n",
       "      <td>Croatia</td>\n",
       "      <td>20100</td>\n",
       "      <td>13500</td>\n",
       "      <td>5.5</td>\n",
       "      <td>1047.60</td>\n",
       "    </tr>\n",
       "  </tbody>\n",
       "</table>\n",
       "</div>"
      ],
      "text/plain": [
       "    Cluster_Id    country  income   gdpp  child_mort   health\n",
       "7            2  Australia   41400  51900         4.8  4530.87\n",
       "10           2    Bahamas   22900  28000        13.8  2209.20\n",
       "11           2    Bahrain   41100  20700         8.6  1028.79\n",
       "13           2   Barbados   15300  16000        14.2  1275.20\n",
       "40           2    Croatia   20100  13500         5.5  1047.60"
      ]
     },
     "execution_count": 113,
     "metadata": {},
     "output_type": "execute_result"
    }
   ],
   "source": [
    "dk3= df_pca_cluster.drop(['PC1', 'PC2', 'PC3', 'PC4'], axis=1)\n",
    "dk3= dk3[dk3['Cluster_Id'] ==2]\n",
    "dk3['income']= final_df['income']\n",
    "\n",
    "dk3['gdpp']= final_df['gdpp']\n",
    "dk3['child_mort']= final_df['child_mort']\n",
    "dk3['health']= final_df['health']\n",
    "\n",
    "dk3.head()\n"
   ]
  },
  {
   "cell_type": "code",
   "execution_count": 114,
   "metadata": {},
   "outputs": [
    {
     "data": {
      "text/html": [
       "<div>\n",
       "<style scoped>\n",
       "    .dataframe tbody tr th:only-of-type {\n",
       "        vertical-align: middle;\n",
       "    }\n",
       "\n",
       "    .dataframe tbody tr th {\n",
       "        vertical-align: top;\n",
       "    }\n",
       "\n",
       "    .dataframe thead th {\n",
       "        text-align: right;\n",
       "    }\n",
       "</style>\n",
       "<table border=\"1\" class=\"dataframe\">\n",
       "  <thead>\n",
       "    <tr style=\"text-align: right;\">\n",
       "      <th></th>\n",
       "      <th>Cluster_Id</th>\n",
       "      <th>country</th>\n",
       "      <th>income</th>\n",
       "      <th>gdpp</th>\n",
       "      <th>child_mort</th>\n",
       "      <th>health</th>\n",
       "    </tr>\n",
       "  </thead>\n",
       "  <tbody>\n",
       "    <tr>\n",
       "      <td>122</td>\n",
       "      <td>2</td>\n",
       "      <td>Saudi Arabia</td>\n",
       "      <td>45400</td>\n",
       "      <td>19300</td>\n",
       "      <td>15.7</td>\n",
       "      <td>827.97</td>\n",
       "    </tr>\n",
       "    <tr>\n",
       "      <td>125</td>\n",
       "      <td>2</td>\n",
       "      <td>Seychelles</td>\n",
       "      <td>20400</td>\n",
       "      <td>10800</td>\n",
       "      <td>14.4</td>\n",
       "      <td>367.20</td>\n",
       "    </tr>\n",
       "    <tr>\n",
       "      <td>13</td>\n",
       "      <td>2</td>\n",
       "      <td>Barbados</td>\n",
       "      <td>15300</td>\n",
       "      <td>16000</td>\n",
       "      <td>14.2</td>\n",
       "      <td>1275.20</td>\n",
       "    </tr>\n",
       "    <tr>\n",
       "      <td>10</td>\n",
       "      <td>2</td>\n",
       "      <td>Bahamas</td>\n",
       "      <td>22900</td>\n",
       "      <td>28000</td>\n",
       "      <td>13.8</td>\n",
       "      <td>2209.20</td>\n",
       "    </tr>\n",
       "    <tr>\n",
       "      <td>110</td>\n",
       "      <td>2</td>\n",
       "      <td>Oman</td>\n",
       "      <td>45300</td>\n",
       "      <td>19300</td>\n",
       "      <td>11.7</td>\n",
       "      <td>534.61</td>\n",
       "    </tr>\n",
       "    <tr>\n",
       "      <td>11</td>\n",
       "      <td>2</td>\n",
       "      <td>Bahrain</td>\n",
       "      <td>41100</td>\n",
       "      <td>20700</td>\n",
       "      <td>8.6</td>\n",
       "      <td>1028.79</td>\n",
       "    </tr>\n",
       "    <tr>\n",
       "      <td>127</td>\n",
       "      <td>2</td>\n",
       "      <td>Slovak Republic</td>\n",
       "      <td>25200</td>\n",
       "      <td>16600</td>\n",
       "      <td>7.0</td>\n",
       "      <td>1459.14</td>\n",
       "    </tr>\n",
       "    <tr>\n",
       "      <td>108</td>\n",
       "      <td>2</td>\n",
       "      <td>New Zealand</td>\n",
       "      <td>32300</td>\n",
       "      <td>33700</td>\n",
       "      <td>6.2</td>\n",
       "      <td>3403.70</td>\n",
       "    </tr>\n",
       "    <tr>\n",
       "      <td>88</td>\n",
       "      <td>2</td>\n",
       "      <td>Lithuania</td>\n",
       "      <td>21100</td>\n",
       "      <td>12000</td>\n",
       "      <td>6.1</td>\n",
       "      <td>844.80</td>\n",
       "    </tr>\n",
       "    <tr>\n",
       "      <td>116</td>\n",
       "      <td>2</td>\n",
       "      <td>Poland</td>\n",
       "      <td>21800</td>\n",
       "      <td>12600</td>\n",
       "      <td>6.0</td>\n",
       "      <td>939.96</td>\n",
       "    </tr>\n",
       "    <tr>\n",
       "      <td>66</td>\n",
       "      <td>2</td>\n",
       "      <td>Hungary</td>\n",
       "      <td>22300</td>\n",
       "      <td>13100</td>\n",
       "      <td>6.0</td>\n",
       "      <td>960.23</td>\n",
       "    </tr>\n",
       "    <tr>\n",
       "      <td>40</td>\n",
       "      <td>2</td>\n",
       "      <td>Croatia</td>\n",
       "      <td>20100</td>\n",
       "      <td>13500</td>\n",
       "      <td>5.5</td>\n",
       "      <td>1047.60</td>\n",
       "    </tr>\n",
       "    <tr>\n",
       "      <td>149</td>\n",
       "      <td>2</td>\n",
       "      <td>United Kingdom</td>\n",
       "      <td>36200</td>\n",
       "      <td>38900</td>\n",
       "      <td>5.2</td>\n",
       "      <td>3749.96</td>\n",
       "    </tr>\n",
       "    <tr>\n",
       "      <td>7</td>\n",
       "      <td>2</td>\n",
       "      <td>Australia</td>\n",
       "      <td>41400</td>\n",
       "      <td>51900</td>\n",
       "      <td>4.8</td>\n",
       "      <td>4530.87</td>\n",
       "    </tr>\n",
       "    <tr>\n",
       "      <td>73</td>\n",
       "      <td>2</td>\n",
       "      <td>Israel</td>\n",
       "      <td>29600</td>\n",
       "      <td>30600</td>\n",
       "      <td>4.6</td>\n",
       "      <td>2334.78</td>\n",
       "    </tr>\n",
       "  </tbody>\n",
       "</table>\n",
       "</div>"
      ],
      "text/plain": [
       "     Cluster_Id          country  income   gdpp  child_mort   health\n",
       "122           2     Saudi Arabia   45400  19300        15.7   827.97\n",
       "125           2       Seychelles   20400  10800        14.4   367.20\n",
       "13            2         Barbados   15300  16000        14.2  1275.20\n",
       "10            2          Bahamas   22900  28000        13.8  2209.20\n",
       "110           2             Oman   45300  19300        11.7   534.61\n",
       "11            2          Bahrain   41100  20700         8.6  1028.79\n",
       "127           2  Slovak Republic   25200  16600         7.0  1459.14\n",
       "108           2      New Zealand   32300  33700         6.2  3403.70\n",
       "88            2        Lithuania   21100  12000         6.1   844.80\n",
       "116           2           Poland   21800  12600         6.0   939.96\n",
       "66            2          Hungary   22300  13100         6.0   960.23\n",
       "40            2          Croatia   20100  13500         5.5  1047.60\n",
       "149           2   United Kingdom   36200  38900         5.2  3749.96\n",
       "7             2        Australia   41400  51900         4.8  4530.87\n",
       "73            2           Israel   29600  30600         4.6  2334.78"
      ]
     },
     "execution_count": 114,
     "metadata": {},
     "output_type": "execute_result"
    }
   ],
   "source": [
    "dk3= dk3.sort_values(by='child_mort', ascending=False)\n",
    "dk3.head(15)"
   ]
  },
  {
   "cell_type": "code",
   "execution_count": 115,
   "metadata": {},
   "outputs": [
    {
     "data": {
      "text/html": [
       "<div>\n",
       "<style scoped>\n",
       "    .dataframe tbody tr th:only-of-type {\n",
       "        vertical-align: middle;\n",
       "    }\n",
       "\n",
       "    .dataframe tbody tr th {\n",
       "        vertical-align: top;\n",
       "    }\n",
       "\n",
       "    .dataframe thead th {\n",
       "        text-align: right;\n",
       "    }\n",
       "</style>\n",
       "<table border=\"1\" class=\"dataframe\">\n",
       "  <thead>\n",
       "    <tr style=\"text-align: right;\">\n",
       "      <th></th>\n",
       "      <th>Cluster_Id</th>\n",
       "      <th>country</th>\n",
       "      <th>income</th>\n",
       "      <th>gdpp</th>\n",
       "      <th>child_mort</th>\n",
       "      <th>health</th>\n",
       "    </tr>\n",
       "  </thead>\n",
       "  <tbody>\n",
       "    <tr>\n",
       "      <td>13</td>\n",
       "      <td>2</td>\n",
       "      <td>Barbados</td>\n",
       "      <td>15300</td>\n",
       "      <td>16000</td>\n",
       "      <td>14.2</td>\n",
       "      <td>1275.20</td>\n",
       "    </tr>\n",
       "    <tr>\n",
       "      <td>40</td>\n",
       "      <td>2</td>\n",
       "      <td>Croatia</td>\n",
       "      <td>20100</td>\n",
       "      <td>13500</td>\n",
       "      <td>5.5</td>\n",
       "      <td>1047.60</td>\n",
       "    </tr>\n",
       "    <tr>\n",
       "      <td>125</td>\n",
       "      <td>2</td>\n",
       "      <td>Seychelles</td>\n",
       "      <td>20400</td>\n",
       "      <td>10800</td>\n",
       "      <td>14.4</td>\n",
       "      <td>367.20</td>\n",
       "    </tr>\n",
       "    <tr>\n",
       "      <td>88</td>\n",
       "      <td>2</td>\n",
       "      <td>Lithuania</td>\n",
       "      <td>21100</td>\n",
       "      <td>12000</td>\n",
       "      <td>6.1</td>\n",
       "      <td>844.80</td>\n",
       "    </tr>\n",
       "    <tr>\n",
       "      <td>116</td>\n",
       "      <td>2</td>\n",
       "      <td>Poland</td>\n",
       "      <td>21800</td>\n",
       "      <td>12600</td>\n",
       "      <td>6.0</td>\n",
       "      <td>939.96</td>\n",
       "    </tr>\n",
       "    <tr>\n",
       "      <td>66</td>\n",
       "      <td>2</td>\n",
       "      <td>Hungary</td>\n",
       "      <td>22300</td>\n",
       "      <td>13100</td>\n",
       "      <td>6.0</td>\n",
       "      <td>960.23</td>\n",
       "    </tr>\n",
       "    <tr>\n",
       "      <td>50</td>\n",
       "      <td>2</td>\n",
       "      <td>Estonia</td>\n",
       "      <td>22700</td>\n",
       "      <td>14600</td>\n",
       "      <td>4.5</td>\n",
       "      <td>880.38</td>\n",
       "    </tr>\n",
       "    <tr>\n",
       "      <td>10</td>\n",
       "      <td>2</td>\n",
       "      <td>Bahamas</td>\n",
       "      <td>22900</td>\n",
       "      <td>28000</td>\n",
       "      <td>13.8</td>\n",
       "      <td>2209.20</td>\n",
       "    </tr>\n",
       "    <tr>\n",
       "      <td>127</td>\n",
       "      <td>2</td>\n",
       "      <td>Slovak Republic</td>\n",
       "      <td>25200</td>\n",
       "      <td>16600</td>\n",
       "      <td>7.0</td>\n",
       "      <td>1459.14</td>\n",
       "    </tr>\n",
       "    <tr>\n",
       "      <td>117</td>\n",
       "      <td>2</td>\n",
       "      <td>Portugal</td>\n",
       "      <td>27200</td>\n",
       "      <td>22500</td>\n",
       "      <td>3.9</td>\n",
       "      <td>2475.00</td>\n",
       "    </tr>\n",
       "    <tr>\n",
       "      <td>42</td>\n",
       "      <td>2</td>\n",
       "      <td>Czech Republic</td>\n",
       "      <td>28300</td>\n",
       "      <td>19800</td>\n",
       "      <td>3.4</td>\n",
       "      <td>1560.24</td>\n",
       "    </tr>\n",
       "    <tr>\n",
       "      <td>128</td>\n",
       "      <td>2</td>\n",
       "      <td>Slovenia</td>\n",
       "      <td>28700</td>\n",
       "      <td>23400</td>\n",
       "      <td>3.2</td>\n",
       "      <td>2201.94</td>\n",
       "    </tr>\n",
       "    <tr>\n",
       "      <td>59</td>\n",
       "      <td>2</td>\n",
       "      <td>Greece</td>\n",
       "      <td>28700</td>\n",
       "      <td>26900</td>\n",
       "      <td>3.9</td>\n",
       "      <td>2770.70</td>\n",
       "    </tr>\n",
       "    <tr>\n",
       "      <td>73</td>\n",
       "      <td>2</td>\n",
       "      <td>Israel</td>\n",
       "      <td>29600</td>\n",
       "      <td>30600</td>\n",
       "      <td>4.6</td>\n",
       "      <td>2334.78</td>\n",
       "    </tr>\n",
       "    <tr>\n",
       "      <td>131</td>\n",
       "      <td>2</td>\n",
       "      <td>South Korea</td>\n",
       "      <td>30400</td>\n",
       "      <td>22100</td>\n",
       "      <td>4.1</td>\n",
       "      <td>1531.53</td>\n",
       "    </tr>\n",
       "  </tbody>\n",
       "</table>\n",
       "</div>"
      ],
      "text/plain": [
       "     Cluster_Id          country  income   gdpp  child_mort   health\n",
       "13            2         Barbados   15300  16000        14.2  1275.20\n",
       "40            2          Croatia   20100  13500         5.5  1047.60\n",
       "125           2       Seychelles   20400  10800        14.4   367.20\n",
       "88            2        Lithuania   21100  12000         6.1   844.80\n",
       "116           2           Poland   21800  12600         6.0   939.96\n",
       "66            2          Hungary   22300  13100         6.0   960.23\n",
       "50            2          Estonia   22700  14600         4.5   880.38\n",
       "10            2          Bahamas   22900  28000        13.8  2209.20\n",
       "127           2  Slovak Republic   25200  16600         7.0  1459.14\n",
       "117           2         Portugal   27200  22500         3.9  2475.00\n",
       "42            2   Czech Republic   28300  19800         3.4  1560.24\n",
       "128           2         Slovenia   28700  23400         3.2  2201.94\n",
       "59            2           Greece   28700  26900         3.9  2770.70\n",
       "73            2           Israel   29600  30600         4.6  2334.78\n",
       "131           2      South Korea   30400  22100         4.1  1531.53"
      ]
     },
     "execution_count": 115,
     "metadata": {},
     "output_type": "execute_result"
    }
   ],
   "source": [
    "dk3= dk3.sort_values(by='income', ascending=True)\n",
    "dk3.head(15)"
   ]
  },
  {
   "cell_type": "code",
   "execution_count": 116,
   "metadata": {},
   "outputs": [
    {
     "data": {
      "text/html": [
       "<div>\n",
       "<style scoped>\n",
       "    .dataframe tbody tr th:only-of-type {\n",
       "        vertical-align: middle;\n",
       "    }\n",
       "\n",
       "    .dataframe tbody tr th {\n",
       "        vertical-align: top;\n",
       "    }\n",
       "\n",
       "    .dataframe thead th {\n",
       "        text-align: right;\n",
       "    }\n",
       "</style>\n",
       "<table border=\"1\" class=\"dataframe\">\n",
       "  <thead>\n",
       "    <tr style=\"text-align: right;\">\n",
       "      <th></th>\n",
       "      <th>Cluster_Id</th>\n",
       "      <th>country</th>\n",
       "      <th>income</th>\n",
       "      <th>gdpp</th>\n",
       "      <th>child_mort</th>\n",
       "      <th>health</th>\n",
       "    </tr>\n",
       "  </thead>\n",
       "  <tbody>\n",
       "    <tr>\n",
       "      <td>125</td>\n",
       "      <td>2</td>\n",
       "      <td>Seychelles</td>\n",
       "      <td>20400</td>\n",
       "      <td>10800</td>\n",
       "      <td>14.4</td>\n",
       "      <td>367.20</td>\n",
       "    </tr>\n",
       "    <tr>\n",
       "      <td>110</td>\n",
       "      <td>2</td>\n",
       "      <td>Oman</td>\n",
       "      <td>45300</td>\n",
       "      <td>19300</td>\n",
       "      <td>11.7</td>\n",
       "      <td>534.61</td>\n",
       "    </tr>\n",
       "    <tr>\n",
       "      <td>122</td>\n",
       "      <td>2</td>\n",
       "      <td>Saudi Arabia</td>\n",
       "      <td>45400</td>\n",
       "      <td>19300</td>\n",
       "      <td>15.7</td>\n",
       "      <td>827.97</td>\n",
       "    </tr>\n",
       "    <tr>\n",
       "      <td>88</td>\n",
       "      <td>2</td>\n",
       "      <td>Lithuania</td>\n",
       "      <td>21100</td>\n",
       "      <td>12000</td>\n",
       "      <td>6.1</td>\n",
       "      <td>844.80</td>\n",
       "    </tr>\n",
       "    <tr>\n",
       "      <td>50</td>\n",
       "      <td>2</td>\n",
       "      <td>Estonia</td>\n",
       "      <td>22700</td>\n",
       "      <td>14600</td>\n",
       "      <td>4.5</td>\n",
       "      <td>880.38</td>\n",
       "    </tr>\n",
       "    <tr>\n",
       "      <td>116</td>\n",
       "      <td>2</td>\n",
       "      <td>Poland</td>\n",
       "      <td>21800</td>\n",
       "      <td>12600</td>\n",
       "      <td>6.0</td>\n",
       "      <td>939.96</td>\n",
       "    </tr>\n",
       "    <tr>\n",
       "      <td>66</td>\n",
       "      <td>2</td>\n",
       "      <td>Hungary</td>\n",
       "      <td>22300</td>\n",
       "      <td>13100</td>\n",
       "      <td>6.0</td>\n",
       "      <td>960.23</td>\n",
       "    </tr>\n",
       "    <tr>\n",
       "      <td>11</td>\n",
       "      <td>2</td>\n",
       "      <td>Bahrain</td>\n",
       "      <td>41100</td>\n",
       "      <td>20700</td>\n",
       "      <td>8.6</td>\n",
       "      <td>1028.79</td>\n",
       "    </tr>\n",
       "    <tr>\n",
       "      <td>40</td>\n",
       "      <td>2</td>\n",
       "      <td>Croatia</td>\n",
       "      <td>20100</td>\n",
       "      <td>13500</td>\n",
       "      <td>5.5</td>\n",
       "      <td>1047.60</td>\n",
       "    </tr>\n",
       "    <tr>\n",
       "      <td>13</td>\n",
       "      <td>2</td>\n",
       "      <td>Barbados</td>\n",
       "      <td>15300</td>\n",
       "      <td>16000</td>\n",
       "      <td>14.2</td>\n",
       "      <td>1275.20</td>\n",
       "    </tr>\n",
       "    <tr>\n",
       "      <td>127</td>\n",
       "      <td>2</td>\n",
       "      <td>Slovak Republic</td>\n",
       "      <td>25200</td>\n",
       "      <td>16600</td>\n",
       "      <td>7.0</td>\n",
       "      <td>1459.14</td>\n",
       "    </tr>\n",
       "    <tr>\n",
       "      <td>131</td>\n",
       "      <td>2</td>\n",
       "      <td>South Korea</td>\n",
       "      <td>30400</td>\n",
       "      <td>22100</td>\n",
       "      <td>4.1</td>\n",
       "      <td>1531.53</td>\n",
       "    </tr>\n",
       "    <tr>\n",
       "      <td>42</td>\n",
       "      <td>2</td>\n",
       "      <td>Czech Republic</td>\n",
       "      <td>28300</td>\n",
       "      <td>19800</td>\n",
       "      <td>3.4</td>\n",
       "      <td>1560.24</td>\n",
       "    </tr>\n",
       "    <tr>\n",
       "      <td>41</td>\n",
       "      <td>2</td>\n",
       "      <td>Cyprus</td>\n",
       "      <td>33900</td>\n",
       "      <td>30800</td>\n",
       "      <td>3.6</td>\n",
       "      <td>1838.76</td>\n",
       "    </tr>\n",
       "    <tr>\n",
       "      <td>128</td>\n",
       "      <td>2</td>\n",
       "      <td>Slovenia</td>\n",
       "      <td>28700</td>\n",
       "      <td>23400</td>\n",
       "      <td>3.2</td>\n",
       "      <td>2201.94</td>\n",
       "    </tr>\n",
       "  </tbody>\n",
       "</table>\n",
       "</div>"
      ],
      "text/plain": [
       "     Cluster_Id          country  income   gdpp  child_mort   health\n",
       "125           2       Seychelles   20400  10800        14.4   367.20\n",
       "110           2             Oman   45300  19300        11.7   534.61\n",
       "122           2     Saudi Arabia   45400  19300        15.7   827.97\n",
       "88            2        Lithuania   21100  12000         6.1   844.80\n",
       "50            2          Estonia   22700  14600         4.5   880.38\n",
       "116           2           Poland   21800  12600         6.0   939.96\n",
       "66            2          Hungary   22300  13100         6.0   960.23\n",
       "11            2          Bahrain   41100  20700         8.6  1028.79\n",
       "40            2          Croatia   20100  13500         5.5  1047.60\n",
       "13            2         Barbados   15300  16000        14.2  1275.20\n",
       "127           2  Slovak Republic   25200  16600         7.0  1459.14\n",
       "131           2      South Korea   30400  22100         4.1  1531.53\n",
       "42            2   Czech Republic   28300  19800         3.4  1560.24\n",
       "41            2           Cyprus   33900  30800         3.6  1838.76\n",
       "128           2         Slovenia   28700  23400         3.2  2201.94"
      ]
     },
     "execution_count": 116,
     "metadata": {},
     "output_type": "execute_result"
    }
   ],
   "source": [
    "dk3= dk3.sort_values(by='health', ascending=True)\n",
    "dk3.head(15)"
   ]
  },
  {
   "cell_type": "code",
   "execution_count": 117,
   "metadata": {},
   "outputs": [
    {
     "data": {
      "text/plain": [
       "(26, 6)"
      ]
     },
     "execution_count": 117,
     "metadata": {},
     "output_type": "execute_result"
    }
   ],
   "source": [
    "dk3.shape"
   ]
  },
  {
   "cell_type": "code",
   "execution_count": 118,
   "metadata": {},
   "outputs": [
    {
     "data": {
      "text/html": [
       "<div>\n",
       "<style scoped>\n",
       "    .dataframe tbody tr th:only-of-type {\n",
       "        vertical-align: middle;\n",
       "    }\n",
       "\n",
       "    .dataframe tbody tr th {\n",
       "        vertical-align: top;\n",
       "    }\n",
       "\n",
       "    .dataframe thead th {\n",
       "        text-align: right;\n",
       "    }\n",
       "</style>\n",
       "<table border=\"1\" class=\"dataframe\">\n",
       "  <thead>\n",
       "    <tr style=\"text-align: right;\">\n",
       "      <th></th>\n",
       "      <th>Cluster_Id</th>\n",
       "      <th>country</th>\n",
       "      <th>income</th>\n",
       "      <th>gdpp</th>\n",
       "      <th>child_mort</th>\n",
       "    </tr>\n",
       "  </thead>\n",
       "  <tbody>\n",
       "    <tr>\n",
       "      <td>0</td>\n",
       "      <td>3</td>\n",
       "      <td>Afghanistan</td>\n",
       "      <td>1610</td>\n",
       "      <td>553</td>\n",
       "      <td>90.2</td>\n",
       "    </tr>\n",
       "    <tr>\n",
       "      <td>3</td>\n",
       "      <td>3</td>\n",
       "      <td>Angola</td>\n",
       "      <td>5900</td>\n",
       "      <td>3530</td>\n",
       "      <td>119.0</td>\n",
       "    </tr>\n",
       "    <tr>\n",
       "      <td>17</td>\n",
       "      <td>3</td>\n",
       "      <td>Benin</td>\n",
       "      <td>1820</td>\n",
       "      <td>758</td>\n",
       "      <td>111.0</td>\n",
       "    </tr>\n",
       "    <tr>\n",
       "      <td>24</td>\n",
       "      <td>3</td>\n",
       "      <td>Burkina Faso</td>\n",
       "      <td>1430</td>\n",
       "      <td>575</td>\n",
       "      <td>116.0</td>\n",
       "    </tr>\n",
       "    <tr>\n",
       "      <td>25</td>\n",
       "      <td>3</td>\n",
       "      <td>Burundi</td>\n",
       "      <td>764</td>\n",
       "      <td>231</td>\n",
       "      <td>93.6</td>\n",
       "    </tr>\n",
       "  </tbody>\n",
       "</table>\n",
       "</div>"
      ],
      "text/plain": [
       "    Cluster_Id       country  income  gdpp  child_mort\n",
       "0            3   Afghanistan    1610   553        90.2\n",
       "3            3        Angola    5900  3530       119.0\n",
       "17           3         Benin    1820   758       111.0\n",
       "24           3  Burkina Faso    1430   575       116.0\n",
       "25           3       Burundi     764   231        93.6"
      ]
     },
     "execution_count": 118,
     "metadata": {},
     "output_type": "execute_result"
    }
   ],
   "source": [
    "dk4= df_pca_cluster.drop(['PC1', 'PC2', 'PC3', 'PC4'], axis=1)\n",
    "dk4= dk4[dk4['Cluster_Id'] == 3]\n",
    "dk4['income']= final_df['income']\n",
    "dk4['gdpp']= final_df['gdpp']\n",
    "dk4['child_mort']= final_df['child_mort']\n",
    "dk4.head()"
   ]
  },
  {
   "cell_type": "code",
   "execution_count": 119,
   "metadata": {},
   "outputs": [
    {
     "data": {
      "text/plain": [
       "(44, 5)"
      ]
     },
     "execution_count": 119,
     "metadata": {},
     "output_type": "execute_result"
    }
   ],
   "source": [
    "dk4.shape"
   ]
  },
  {
   "cell_type": "markdown",
   "metadata": {},
   "source": [
    "### Inferences:\n",
    "\n",
    "#### Cluster 4 with Cluster_Id:3 has on an average highest income, highest gdpp, lowest child_mort, highest spenditure on health, lowest inflation. \n",
    "#### Then Cluster 1 with Cluster_Id:0. These are the clusters of the developed countries. Cluster 2 with Cluster_Id:1 includes developing countries. & Cluster3 with Id:2 includes under developed countries.\n",
    "\n",
    "### As its evident that in k-means clustering with k=4 clusters have been formed properly having similar socio-economic and health conditions.\n",
    "\n",
    "#### Cluster 3 with Cluster_Id : 2  has on an average very  low income,very low gdpp, low health spenditure  with life_expec comaparatively low,  very high total_fer,  high inflation  and high child_mort. \n",
    "\n",
    "\n",
    "\n",
    "\n"
   ]
  },
  {
   "cell_type": "markdown",
   "metadata": {},
   "source": [
    "#### Thus as listed above,  bottom 20 countries of Cluster 3 with Cluster_ Id: 2  could be focused on.\n",
    "\n",
    "#### Congo, Dem. Rep., Niger , Burundi, Liberia, Sierra Leone ,Central African Republic, Mozambique,  Haiti &  Guinea-Bissau , Chad, Eritrea  etc. with respect to very low income, low gdpp, very high child_mort and less spenditure on health could be the best choice for  Help NGO to provide aid.\n",
    "\n",
    "#### Congo, Dem. Rep, ., Liberia, Burundi, Niger , Central African Republic have very low income.\n",
    "\n",
    "#### Haiti , Sierra Leone, Niger, Chad, Central African Republic etc. have very high child_mort.\n",
    "\n",
    "#### Eritrea, Madagascar,  Niger , Central African Republic, Mozambique, Congo, Dem. Rep, etc. have very low spenditure on health.\n",
    "\n",
    "### Thus the under developed countries like Congo, Dem. Rep., Niger , Central African Republic, Haiti , Sierra Leone,Mozambique, Liberia, Burundi, Eritrea, Madagascar etc. could be the best choice for  Help NGO to provide aid.\n",
    "\n",
    "\n"
   ]
  },
  {
   "cell_type": "markdown",
   "metadata": {},
   "source": [
    "##  Hierarchical Clustering with k=4"
   ]
  },
  {
   "cell_type": "code",
   "execution_count": 91,
   "metadata": {},
   "outputs": [
    {
     "data": {
      "image/png": "[encoded data removed]",
      "text/plain": [
       "<Figure size 432x288 with 1 Axes>"
      ]
     },
     "metadata": {
      "needs_background": "light"
     },
     "output_type": "display_data"
    }
   ],
   "source": [
    "#Let's try hierarchical clustering to see if it works well\n",
    "#First we'll try the single linkage procedure\n",
    "\n",
    "mergings_s = linkage(df1, method = \"single\", metric='euclidean')\n",
    "dendrogram(mergings_s)\n",
    "plt.show()\n"
   ]
  },
  {
   "cell_type": "code",
   "execution_count": 92,
   "metadata": {},
   "outputs": [
    {
     "data": {
      "image/png": "[encoded data removed]",
      "text/plain": [
       "<Figure size 432x288 with 1 Axes>"
      ]
     },
     "metadata": {
      "needs_background": "light"
     },
     "output_type": "display_data"
    }
   ],
   "source": [
    "mergings = linkage(df1, method = \"complete\", metric='euclidean')\n",
    "dendrogram(mergings)\n",
    "plt.show()"
   ]
  },
  {
   "cell_type": "markdown",
   "metadata": {},
   "source": [
    "#### complete linkage gives better dendrogram and clusters."
   ]
  },
  {
   "cell_type": "code",
   "execution_count": 93,
   "metadata": {},
   "outputs": [
    {
     "data": {
      "text/plain": [
       "Index(['PC1', 'PC2', 'PC3', 'PC4', 'Cluster_Id', 'country', 'child_mort',\n",
       "       'exports', 'health', 'imports', 'income', 'inflation', 'life_expec',\n",
       "       'total_fer', 'gdpp'],\n",
       "      dtype='object')"
      ]
     },
     "execution_count": 93,
     "metadata": {},
     "output_type": "execute_result"
    }
   ],
   "source": [
    "final_df.columns"
   ]
  },
  {
   "cell_type": "code",
   "execution_count": 94,
   "metadata": {},
   "outputs": [],
   "source": [
    "drop_clus = final_df.drop([\"Cluster_Id\"] ,axis=1, inplace = True)\n",
    "drop_clus"
   ]
  },
  {
   "cell_type": "code",
   "execution_count": 95,
   "metadata": {},
   "outputs": [],
   "source": [
    "clusterCut = pd.Series(cut_tree(mergings, n_clusters = 4).reshape(-1,))\n",
    "hc = pd.concat([final_df, clusterCut], axis=1)\n",
    "hc.columns = ['PC1', 'PC2', 'PC3','PC4','Country', 'child_mort', 'exports',\n",
    "     'health', 'imports', 'income', 'inflation', 'life_expec', 'total_fer',\n",
    "     'gdpp','ClusterID']\n"
   ]
  },
  {
   "cell_type": "code",
   "execution_count": 96,
   "metadata": {},
   "outputs": [
    {
     "data": {
      "text/html": [
       "<div>\n",
       "<style scoped>\n",
       "    .dataframe tbody tr th:only-of-type {\n",
       "        vertical-align: middle;\n",
       "    }\n",
       "\n",
       "    .dataframe tbody tr th {\n",
       "        vertical-align: top;\n",
       "    }\n",
       "\n",
       "    .dataframe thead th {\n",
       "        text-align: right;\n",
       "    }\n",
       "</style>\n",
       "<table border=\"1\" class=\"dataframe\">\n",
       "  <thead>\n",
       "    <tr style=\"text-align: right;\">\n",
       "      <th></th>\n",
       "      <th>PC1</th>\n",
       "      <th>PC2</th>\n",
       "      <th>PC3</th>\n",
       "      <th>PC4</th>\n",
       "      <th>Country</th>\n",
       "      <th>child_mort</th>\n",
       "      <th>exports</th>\n",
       "      <th>health</th>\n",
       "      <th>imports</th>\n",
       "      <th>income</th>\n",
       "      <th>inflation</th>\n",
       "      <th>life_expec</th>\n",
       "      <th>total_fer</th>\n",
       "      <th>gdpp</th>\n",
       "      <th>ClusterID</th>\n",
       "    </tr>\n",
       "  </thead>\n",
       "  <tbody>\n",
       "    <tr>\n",
       "      <td>0</td>\n",
       "      <td>-2.787815</td>\n",
       "      <td>1.445550</td>\n",
       "      <td>-0.144171</td>\n",
       "      <td>-0.124123</td>\n",
       "      <td>Afghanistan</td>\n",
       "      <td>90.2</td>\n",
       "      <td>55.30</td>\n",
       "      <td>41.9174</td>\n",
       "      <td>248.297</td>\n",
       "      <td>1610</td>\n",
       "      <td>9.44</td>\n",
       "      <td>56.2</td>\n",
       "      <td>5.82</td>\n",
       "      <td>553</td>\n",
       "      <td>0</td>\n",
       "    </tr>\n",
       "    <tr>\n",
       "      <td>1</td>\n",
       "      <td>-0.036685</td>\n",
       "      <td>-1.531550</td>\n",
       "      <td>-0.389670</td>\n",
       "      <td>0.100797</td>\n",
       "      <td>Albania</td>\n",
       "      <td>16.6</td>\n",
       "      <td>1145.20</td>\n",
       "      <td>267.8950</td>\n",
       "      <td>1987.740</td>\n",
       "      <td>9930</td>\n",
       "      <td>4.49</td>\n",
       "      <td>76.3</td>\n",
       "      <td>1.65</td>\n",
       "      <td>4090</td>\n",
       "      <td>1</td>\n",
       "    </tr>\n",
       "    <tr>\n",
       "      <td>2</td>\n",
       "      <td>-0.526434</td>\n",
       "      <td>-0.967650</td>\n",
       "      <td>1.166996</td>\n",
       "      <td>-0.037223</td>\n",
       "      <td>Algeria</td>\n",
       "      <td>27.3</td>\n",
       "      <td>1712.64</td>\n",
       "      <td>185.9820</td>\n",
       "      <td>1400.440</td>\n",
       "      <td>12900</td>\n",
       "      <td>16.10</td>\n",
       "      <td>76.5</td>\n",
       "      <td>2.89</td>\n",
       "      <td>4460</td>\n",
       "      <td>1</td>\n",
       "    </tr>\n",
       "    <tr>\n",
       "      <td>3</td>\n",
       "      <td>-2.816842</td>\n",
       "      <td>2.001465</td>\n",
       "      <td>1.602102</td>\n",
       "      <td>-0.150577</td>\n",
       "      <td>Angola</td>\n",
       "      <td>119.0</td>\n",
       "      <td>2199.19</td>\n",
       "      <td>100.6050</td>\n",
       "      <td>1514.370</td>\n",
       "      <td>5900</td>\n",
       "      <td>22.40</td>\n",
       "      <td>60.1</td>\n",
       "      <td>6.16</td>\n",
       "      <td>3530</td>\n",
       "      <td>0</td>\n",
       "    </tr>\n",
       "    <tr>\n",
       "      <td>4</td>\n",
       "      <td>1.097652</td>\n",
       "      <td>-0.800706</td>\n",
       "      <td>-0.546978</td>\n",
       "      <td>0.190385</td>\n",
       "      <td>Antigua and Barbuda</td>\n",
       "      <td>10.3</td>\n",
       "      <td>5551.00</td>\n",
       "      <td>735.6600</td>\n",
       "      <td>7185.800</td>\n",
       "      <td>19100</td>\n",
       "      <td>1.44</td>\n",
       "      <td>76.8</td>\n",
       "      <td>2.13</td>\n",
       "      <td>12200</td>\n",
       "      <td>1</td>\n",
       "    </tr>\n",
       "  </tbody>\n",
       "</table>\n",
       "</div>"
      ],
      "text/plain": [
       "        PC1       PC2       PC3       PC4              Country  child_mort  \\\n",
       "0 -2.787815  1.445550 -0.144171 -0.124123          Afghanistan        90.2   \n",
       "1 -0.036685 -1.531550 -0.389670  0.100797              Albania        16.6   \n",
       "2 -0.526434 -0.967650  1.166996 -0.037223              Algeria        27.3   \n",
       "3 -2.816842  2.001465  1.602102 -0.150577               Angola       119.0   \n",
       "4  1.097652 -0.800706 -0.546978  0.190385  Antigua and Barbuda        10.3   \n",
       "\n",
       "   exports    health   imports  income  inflation  life_expec  total_fer  \\\n",
       "0    55.30   41.9174   248.297    1610       9.44        56.2       5.82   \n",
       "1  1145.20  267.8950  1987.740    9930       4.49        76.3       1.65   \n",
       "2  1712.64  185.9820  1400.440   12900      16.10        76.5       2.89   \n",
       "3  2199.19  100.6050  1514.370    5900      22.40        60.1       6.16   \n",
       "4  5551.00  735.6600  7185.800   19100       1.44        76.8       2.13   \n",
       "\n",
       "    gdpp  ClusterID  \n",
       "0    553          0  \n",
       "1   4090          1  \n",
       "2   4460          1  \n",
       "3   3530          0  \n",
       "4  12200          1  "
      ]
     },
     "execution_count": 96,
     "metadata": {},
     "output_type": "execute_result"
    }
   ],
   "source": [
    "hc.head()"
   ]
  },
  {
   "cell_type": "code",
   "execution_count": 97,
   "metadata": {},
   "outputs": [
    {
     "data": {
      "text/plain": [
       "<matplotlib.axes._subplots.AxesSubplot at 0x163f715ab88>"
      ]
     },
     "execution_count": 97,
     "metadata": {},
     "output_type": "execute_result"
    },
    {
     "data": {
      "image/png": "[encoded data removed]",
      "text/plain": [
       "<Figure size 432x288 with 1 Axes>"
      ]
     },
     "metadata": {
      "needs_background": "light"
     },
     "output_type": "display_data"
    }
   ],
   "source": [
    "sns.scatterplot(x= 'PC1', y='PC2', hue='ClusterID', legend= 'full', data= hc)"
   ]
  },
  {
   "cell_type": "code",
   "execution_count": 98,
   "metadata": {},
   "outputs": [
    {
     "data": {
      "text/html": [
       "<div>\n",
       "<style scoped>\n",
       "    .dataframe tbody tr th:only-of-type {\n",
       "        vertical-align: middle;\n",
       "    }\n",
       "\n",
       "    .dataframe tbody tr th {\n",
       "        vertical-align: top;\n",
       "    }\n",
       "\n",
       "    .dataframe thead th {\n",
       "        text-align: right;\n",
       "    }\n",
       "</style>\n",
       "<table border=\"1\" class=\"dataframe\">\n",
       "  <thead>\n",
       "    <tr style=\"text-align: right;\">\n",
       "      <th></th>\n",
       "      <th>Country</th>\n",
       "      <th>child_mort</th>\n",
       "      <th>exports</th>\n",
       "      <th>health</th>\n",
       "      <th>imports</th>\n",
       "      <th>income</th>\n",
       "      <th>inflation</th>\n",
       "      <th>life_expec</th>\n",
       "      <th>total_fer</th>\n",
       "      <th>gdpp</th>\n",
       "      <th>ClusterID</th>\n",
       "    </tr>\n",
       "  </thead>\n",
       "  <tbody>\n",
       "    <tr>\n",
       "      <td>0</td>\n",
       "      <td>Afghanistan</td>\n",
       "      <td>90.2</td>\n",
       "      <td>55.3000</td>\n",
       "      <td>41.9174</td>\n",
       "      <td>248.297</td>\n",
       "      <td>1610</td>\n",
       "      <td>9.440</td>\n",
       "      <td>56.2</td>\n",
       "      <td>5.82</td>\n",
       "      <td>553</td>\n",
       "      <td>0</td>\n",
       "    </tr>\n",
       "    <tr>\n",
       "      <td>3</td>\n",
       "      <td>Angola</td>\n",
       "      <td>119.0</td>\n",
       "      <td>2199.1900</td>\n",
       "      <td>100.6050</td>\n",
       "      <td>1514.370</td>\n",
       "      <td>5900</td>\n",
       "      <td>22.400</td>\n",
       "      <td>60.1</td>\n",
       "      <td>6.16</td>\n",
       "      <td>3530</td>\n",
       "      <td>0</td>\n",
       "    </tr>\n",
       "    <tr>\n",
       "      <td>17</td>\n",
       "      <td>Benin</td>\n",
       "      <td>111.0</td>\n",
       "      <td>180.4040</td>\n",
       "      <td>31.0780</td>\n",
       "      <td>281.976</td>\n",
       "      <td>1820</td>\n",
       "      <td>0.885</td>\n",
       "      <td>61.8</td>\n",
       "      <td>5.36</td>\n",
       "      <td>758</td>\n",
       "      <td>0</td>\n",
       "    </tr>\n",
       "    <tr>\n",
       "      <td>24</td>\n",
       "      <td>Burkina Faso</td>\n",
       "      <td>116.0</td>\n",
       "      <td>110.4000</td>\n",
       "      <td>38.7550</td>\n",
       "      <td>170.200</td>\n",
       "      <td>1430</td>\n",
       "      <td>6.810</td>\n",
       "      <td>57.9</td>\n",
       "      <td>5.87</td>\n",
       "      <td>575</td>\n",
       "      <td>0</td>\n",
       "    </tr>\n",
       "    <tr>\n",
       "      <td>25</td>\n",
       "      <td>Burundi</td>\n",
       "      <td>93.6</td>\n",
       "      <td>20.6052</td>\n",
       "      <td>26.7960</td>\n",
       "      <td>90.552</td>\n",
       "      <td>764</td>\n",
       "      <td>12.300</td>\n",
       "      <td>57.7</td>\n",
       "      <td>6.26</td>\n",
       "      <td>231</td>\n",
       "      <td>0</td>\n",
       "    </tr>\n",
       "    <tr>\n",
       "      <td>27</td>\n",
       "      <td>Cameroon</td>\n",
       "      <td>108.0</td>\n",
       "      <td>290.8200</td>\n",
       "      <td>67.2030</td>\n",
       "      <td>353.700</td>\n",
       "      <td>2660</td>\n",
       "      <td>1.910</td>\n",
       "      <td>57.3</td>\n",
       "      <td>5.11</td>\n",
       "      <td>1310</td>\n",
       "      <td>0</td>\n",
       "    </tr>\n",
       "    <tr>\n",
       "      <td>30</td>\n",
       "      <td>Central African Republic</td>\n",
       "      <td>149.0</td>\n",
       "      <td>52.6280</td>\n",
       "      <td>17.7508</td>\n",
       "      <td>118.190</td>\n",
       "      <td>888</td>\n",
       "      <td>2.010</td>\n",
       "      <td>47.5</td>\n",
       "      <td>5.21</td>\n",
       "      <td>446</td>\n",
       "      <td>0</td>\n",
       "    </tr>\n",
       "    <tr>\n",
       "      <td>31</td>\n",
       "      <td>Chad</td>\n",
       "      <td>150.0</td>\n",
       "      <td>330.0960</td>\n",
       "      <td>40.6341</td>\n",
       "      <td>390.195</td>\n",
       "      <td>1930</td>\n",
       "      <td>6.390</td>\n",
       "      <td>56.5</td>\n",
       "      <td>6.59</td>\n",
       "      <td>897</td>\n",
       "      <td>0</td>\n",
       "    </tr>\n",
       "    <tr>\n",
       "      <td>36</td>\n",
       "      <td>Congo, Dem. Rep.</td>\n",
       "      <td>116.0</td>\n",
       "      <td>137.2740</td>\n",
       "      <td>26.4194</td>\n",
       "      <td>165.664</td>\n",
       "      <td>609</td>\n",
       "      <td>20.800</td>\n",
       "      <td>57.5</td>\n",
       "      <td>6.54</td>\n",
       "      <td>334</td>\n",
       "      <td>0</td>\n",
       "    </tr>\n",
       "    <tr>\n",
       "      <td>39</td>\n",
       "      <td>Cote d'Ivoire</td>\n",
       "      <td>111.0</td>\n",
       "      <td>617.3200</td>\n",
       "      <td>64.6600</td>\n",
       "      <td>528.260</td>\n",
       "      <td>2690</td>\n",
       "      <td>5.390</td>\n",
       "      <td>56.3</td>\n",
       "      <td>5.27</td>\n",
       "      <td>1220</td>\n",
       "      <td>0</td>\n",
       "    </tr>\n",
       "    <tr>\n",
       "      <td>55</td>\n",
       "      <td>Gambia</td>\n",
       "      <td>80.3</td>\n",
       "      <td>133.7560</td>\n",
       "      <td>31.9778</td>\n",
       "      <td>239.974</td>\n",
       "      <td>1660</td>\n",
       "      <td>4.300</td>\n",
       "      <td>65.5</td>\n",
       "      <td>5.71</td>\n",
       "      <td>562</td>\n",
       "      <td>0</td>\n",
       "    </tr>\n",
       "    <tr>\n",
       "      <td>62</td>\n",
       "      <td>Guinea</td>\n",
       "      <td>109.0</td>\n",
       "      <td>196.3440</td>\n",
       "      <td>31.9464</td>\n",
       "      <td>279.936</td>\n",
       "      <td>1190</td>\n",
       "      <td>16.100</td>\n",
       "      <td>58.0</td>\n",
       "      <td>5.34</td>\n",
       "      <td>648</td>\n",
       "      <td>0</td>\n",
       "    </tr>\n",
       "    <tr>\n",
       "      <td>63</td>\n",
       "      <td>Guinea-Bissau</td>\n",
       "      <td>114.0</td>\n",
       "      <td>81.5030</td>\n",
       "      <td>46.4950</td>\n",
       "      <td>192.544</td>\n",
       "      <td>1390</td>\n",
       "      <td>2.970</td>\n",
       "      <td>55.6</td>\n",
       "      <td>5.05</td>\n",
       "      <td>547</td>\n",
       "      <td>0</td>\n",
       "    </tr>\n",
       "    <tr>\n",
       "      <td>65</td>\n",
       "      <td>Haiti</td>\n",
       "      <td>208.0</td>\n",
       "      <td>101.2860</td>\n",
       "      <td>45.7442</td>\n",
       "      <td>428.314</td>\n",
       "      <td>1500</td>\n",
       "      <td>5.450</td>\n",
       "      <td>32.1</td>\n",
       "      <td>3.33</td>\n",
       "      <td>662</td>\n",
       "      <td>0</td>\n",
       "    </tr>\n",
       "    <tr>\n",
       "      <td>85</td>\n",
       "      <td>Lesotho</td>\n",
       "      <td>99.7</td>\n",
       "      <td>460.9800</td>\n",
       "      <td>129.8700</td>\n",
       "      <td>1181.700</td>\n",
       "      <td>2380</td>\n",
       "      <td>4.150</td>\n",
       "      <td>46.5</td>\n",
       "      <td>3.30</td>\n",
       "      <td>1170</td>\n",
       "      <td>0</td>\n",
       "    </tr>\n",
       "    <tr>\n",
       "      <td>86</td>\n",
       "      <td>Liberia</td>\n",
       "      <td>89.3</td>\n",
       "      <td>62.4570</td>\n",
       "      <td>38.5860</td>\n",
       "      <td>302.802</td>\n",
       "      <td>700</td>\n",
       "      <td>5.470</td>\n",
       "      <td>60.8</td>\n",
       "      <td>5.02</td>\n",
       "      <td>327</td>\n",
       "      <td>0</td>\n",
       "    </tr>\n",
       "    <tr>\n",
       "      <td>91</td>\n",
       "      <td>Malawi</td>\n",
       "      <td>90.5</td>\n",
       "      <td>104.6520</td>\n",
       "      <td>30.2481</td>\n",
       "      <td>160.191</td>\n",
       "      <td>1030</td>\n",
       "      <td>12.100</td>\n",
       "      <td>53.1</td>\n",
       "      <td>5.31</td>\n",
       "      <td>459</td>\n",
       "      <td>0</td>\n",
       "    </tr>\n",
       "    <tr>\n",
       "      <td>94</td>\n",
       "      <td>Mali</td>\n",
       "      <td>137.0</td>\n",
       "      <td>161.4240</td>\n",
       "      <td>35.2584</td>\n",
       "      <td>248.508</td>\n",
       "      <td>1870</td>\n",
       "      <td>4.370</td>\n",
       "      <td>59.5</td>\n",
       "      <td>6.55</td>\n",
       "      <td>708</td>\n",
       "      <td>0</td>\n",
       "    </tr>\n",
       "    <tr>\n",
       "      <td>103</td>\n",
       "      <td>Mozambique</td>\n",
       "      <td>101.0</td>\n",
       "      <td>131.9850</td>\n",
       "      <td>21.8299</td>\n",
       "      <td>193.578</td>\n",
       "      <td>918</td>\n",
       "      <td>7.640</td>\n",
       "      <td>54.5</td>\n",
       "      <td>5.56</td>\n",
       "      <td>419</td>\n",
       "      <td>0</td>\n",
       "    </tr>\n",
       "    <tr>\n",
       "      <td>109</td>\n",
       "      <td>Niger</td>\n",
       "      <td>123.0</td>\n",
       "      <td>77.2560</td>\n",
       "      <td>17.9568</td>\n",
       "      <td>170.868</td>\n",
       "      <td>814</td>\n",
       "      <td>2.550</td>\n",
       "      <td>58.8</td>\n",
       "      <td>7.49</td>\n",
       "      <td>348</td>\n",
       "      <td>0</td>\n",
       "    </tr>\n",
       "    <tr>\n",
       "      <td>126</td>\n",
       "      <td>Sierra Leone</td>\n",
       "      <td>160.0</td>\n",
       "      <td>67.0320</td>\n",
       "      <td>52.2690</td>\n",
       "      <td>137.655</td>\n",
       "      <td>1220</td>\n",
       "      <td>17.200</td>\n",
       "      <td>55.0</td>\n",
       "      <td>5.20</td>\n",
       "      <td>399</td>\n",
       "      <td>0</td>\n",
       "    </tr>\n",
       "    <tr>\n",
       "      <td>139</td>\n",
       "      <td>Tanzania</td>\n",
       "      <td>71.9</td>\n",
       "      <td>131.2740</td>\n",
       "      <td>42.1902</td>\n",
       "      <td>204.282</td>\n",
       "      <td>2090</td>\n",
       "      <td>9.250</td>\n",
       "      <td>59.3</td>\n",
       "      <td>5.43</td>\n",
       "      <td>702</td>\n",
       "      <td>0</td>\n",
       "    </tr>\n",
       "    <tr>\n",
       "      <td>142</td>\n",
       "      <td>Togo</td>\n",
       "      <td>90.3</td>\n",
       "      <td>196.1760</td>\n",
       "      <td>37.3320</td>\n",
       "      <td>279.624</td>\n",
       "      <td>1210</td>\n",
       "      <td>1.180</td>\n",
       "      <td>58.7</td>\n",
       "      <td>4.87</td>\n",
       "      <td>488</td>\n",
       "      <td>0</td>\n",
       "    </tr>\n",
       "    <tr>\n",
       "      <td>147</td>\n",
       "      <td>Uganda</td>\n",
       "      <td>81.0</td>\n",
       "      <td>101.7450</td>\n",
       "      <td>53.6095</td>\n",
       "      <td>170.170</td>\n",
       "      <td>1540</td>\n",
       "      <td>10.600</td>\n",
       "      <td>56.8</td>\n",
       "      <td>6.15</td>\n",
       "      <td>595</td>\n",
       "      <td>0</td>\n",
       "    </tr>\n",
       "    <tr>\n",
       "      <td>156</td>\n",
       "      <td>Zambia</td>\n",
       "      <td>83.1</td>\n",
       "      <td>540.2000</td>\n",
       "      <td>85.9940</td>\n",
       "      <td>451.140</td>\n",
       "      <td>3280</td>\n",
       "      <td>14.000</td>\n",
       "      <td>52.0</td>\n",
       "      <td>5.40</td>\n",
       "      <td>1460</td>\n",
       "      <td>0</td>\n",
       "    </tr>\n",
       "  </tbody>\n",
       "</table>\n",
       "</div>"
      ],
      "text/plain": [
       "                      Country  child_mort    exports    health   imports  \\\n",
       "0                 Afghanistan        90.2    55.3000   41.9174   248.297   \n",
       "3                      Angola       119.0  2199.1900  100.6050  1514.370   \n",
       "17                      Benin       111.0   180.4040   31.0780   281.976   \n",
       "24               Burkina Faso       116.0   110.4000   38.7550   170.200   \n",
       "25                    Burundi        93.6    20.6052   26.7960    90.552   \n",
       "27                   Cameroon       108.0   290.8200   67.2030   353.700   \n",
       "30   Central African Republic       149.0    52.6280   17.7508   118.190   \n",
       "31                       Chad       150.0   330.0960   40.6341   390.195   \n",
       "36           Congo, Dem. Rep.       116.0   137.2740   26.4194   165.664   \n",
       "39              Cote d'Ivoire       111.0   617.3200   64.6600   528.260   \n",
       "55                     Gambia        80.3   133.7560   31.9778   239.974   \n",
       "62                     Guinea       109.0   196.3440   31.9464   279.936   \n",
       "63              Guinea-Bissau       114.0    81.5030   46.4950   192.544   \n",
       "65                      Haiti       208.0   101.2860   45.7442   428.314   \n",
       "85                    Lesotho        99.7   460.9800  129.8700  1181.700   \n",
       "86                    Liberia        89.3    62.4570   38.5860   302.802   \n",
       "91                     Malawi        90.5   104.6520   30.2481   160.191   \n",
       "94                       Mali       137.0   161.4240   35.2584   248.508   \n",
       "103                Mozambique       101.0   131.9850   21.8299   193.578   \n",
       "109                     Niger       123.0    77.2560   17.9568   170.868   \n",
       "126              Sierra Leone       160.0    67.0320   52.2690   137.655   \n",
       "139                  Tanzania        71.9   131.2740   42.1902   204.282   \n",
       "142                      Togo        90.3   196.1760   37.3320   279.624   \n",
       "147                    Uganda        81.0   101.7450   53.6095   170.170   \n",
       "156                    Zambia        83.1   540.2000   85.9940   451.140   \n",
       "\n",
       "     income  inflation  life_expec  total_fer  gdpp  ClusterID  \n",
       "0      1610      9.440        56.2       5.82   553          0  \n",
       "3      5900     22.400        60.1       6.16  3530          0  \n",
       "17     1820      0.885        61.8       5.36   758          0  \n",
       "24     1430      6.810        57.9       5.87   575          0  \n",
       "25      764     12.300        57.7       6.26   231          0  \n",
       "27     2660      1.910        57.3       5.11  1310          0  \n",
       "30      888      2.010        47.5       5.21   446          0  \n",
       "31     1930      6.390        56.5       6.59   897          0  \n",
       "36      609     20.800        57.5       6.54   334          0  \n",
       "39     2690      5.390        56.3       5.27  1220          0  \n",
       "55     1660      4.300        65.5       5.71   562          0  \n",
       "62     1190     16.100        58.0       5.34   648          0  \n",
       "63     1390      2.970        55.6       5.05   547          0  \n",
       "65     1500      5.450        32.1       3.33   662          0  \n",
       "85     2380      4.150        46.5       3.30  1170          0  \n",
       "86      700      5.470        60.8       5.02   327          0  \n",
       "91     1030     12.100        53.1       5.31   459          0  \n",
       "94     1870      4.370        59.5       6.55   708          0  \n",
       "103     918      7.640        54.5       5.56   419          0  \n",
       "109     814      2.550        58.8       7.49   348          0  \n",
       "126    1220     17.200        55.0       5.20   399          0  \n",
       "139    2090      9.250        59.3       5.43   702          0  \n",
       "142    1210      1.180        58.7       4.87   488          0  \n",
       "147    1540     10.600        56.8       6.15   595          0  \n",
       "156    3280     14.000        52.0       5.40  1460          0  "
      ]
     },
     "execution_count": 98,
     "metadata": {},
     "output_type": "execute_result"
    }
   ],
   "source": [
    "dh1= hc.drop(['PC1', 'PC2', 'PC3', 'PC4'], axis=1)\n",
    "dh1= dh1[dh1['ClusterID'] == 0]\n",
    "dh1.head(25)"
   ]
  },
  {
   "cell_type": "code",
   "execution_count": 99,
   "metadata": {},
   "outputs": [
    {
     "data": {
      "text/plain": [
       "(25, 11)"
      ]
     },
     "execution_count": 99,
     "metadata": {},
     "output_type": "execute_result"
    }
   ],
   "source": [
    "dh1.shape"
   ]
  },
  {
   "cell_type": "code",
   "execution_count": 100,
   "metadata": {},
   "outputs": [
    {
     "data": {
      "text/html": [
       "<div>\n",
       "<style scoped>\n",
       "    .dataframe tbody tr th:only-of-type {\n",
       "        vertical-align: middle;\n",
       "    }\n",
       "\n",
       "    .dataframe tbody tr th {\n",
       "        vertical-align: top;\n",
       "    }\n",
       "\n",
       "    .dataframe thead th {\n",
       "        text-align: right;\n",
       "    }\n",
       "</style>\n",
       "<table border=\"1\" class=\"dataframe\">\n",
       "  <thead>\n",
       "    <tr style=\"text-align: right;\">\n",
       "      <th></th>\n",
       "      <th>Country</th>\n",
       "      <th>child_mort</th>\n",
       "      <th>exports</th>\n",
       "      <th>health</th>\n",
       "      <th>imports</th>\n",
       "      <th>income</th>\n",
       "      <th>inflation</th>\n",
       "      <th>life_expec</th>\n",
       "      <th>total_fer</th>\n",
       "      <th>gdpp</th>\n",
       "      <th>ClusterID</th>\n",
       "    </tr>\n",
       "  </thead>\n",
       "  <tbody>\n",
       "    <tr>\n",
       "      <td>1</td>\n",
       "      <td>Albania</td>\n",
       "      <td>16.6</td>\n",
       "      <td>1145.20</td>\n",
       "      <td>267.895</td>\n",
       "      <td>1987.74</td>\n",
       "      <td>9930</td>\n",
       "      <td>4.49</td>\n",
       "      <td>76.3</td>\n",
       "      <td>1.65</td>\n",
       "      <td>4090</td>\n",
       "      <td>1</td>\n",
       "    </tr>\n",
       "    <tr>\n",
       "      <td>2</td>\n",
       "      <td>Algeria</td>\n",
       "      <td>27.3</td>\n",
       "      <td>1712.64</td>\n",
       "      <td>185.982</td>\n",
       "      <td>1400.44</td>\n",
       "      <td>12900</td>\n",
       "      <td>16.10</td>\n",
       "      <td>76.5</td>\n",
       "      <td>2.89</td>\n",
       "      <td>4460</td>\n",
       "      <td>1</td>\n",
       "    </tr>\n",
       "    <tr>\n",
       "      <td>4</td>\n",
       "      <td>Antigua and Barbuda</td>\n",
       "      <td>10.3</td>\n",
       "      <td>5551.00</td>\n",
       "      <td>735.660</td>\n",
       "      <td>7185.80</td>\n",
       "      <td>19100</td>\n",
       "      <td>1.44</td>\n",
       "      <td>76.8</td>\n",
       "      <td>2.13</td>\n",
       "      <td>12200</td>\n",
       "      <td>1</td>\n",
       "    </tr>\n",
       "    <tr>\n",
       "      <td>5</td>\n",
       "      <td>Argentina</td>\n",
       "      <td>14.5</td>\n",
       "      <td>1946.70</td>\n",
       "      <td>834.300</td>\n",
       "      <td>1648.00</td>\n",
       "      <td>18700</td>\n",
       "      <td>20.90</td>\n",
       "      <td>75.8</td>\n",
       "      <td>2.37</td>\n",
       "      <td>10300</td>\n",
       "      <td>1</td>\n",
       "    </tr>\n",
       "    <tr>\n",
       "      <td>6</td>\n",
       "      <td>Armenia</td>\n",
       "      <td>18.1</td>\n",
       "      <td>669.76</td>\n",
       "      <td>141.680</td>\n",
       "      <td>1458.66</td>\n",
       "      <td>6700</td>\n",
       "      <td>7.77</td>\n",
       "      <td>73.3</td>\n",
       "      <td>1.69</td>\n",
       "      <td>3220</td>\n",
       "      <td>1</td>\n",
       "    </tr>\n",
       "  </tbody>\n",
       "</table>\n",
       "</div>"
      ],
      "text/plain": [
       "               Country  child_mort  exports   health  imports  income  \\\n",
       "1              Albania        16.6  1145.20  267.895  1987.74    9930   \n",
       "2              Algeria        27.3  1712.64  185.982  1400.44   12900   \n",
       "4  Antigua and Barbuda        10.3  5551.00  735.660  7185.80   19100   \n",
       "5            Argentina        14.5  1946.70  834.300  1648.00   18700   \n",
       "6              Armenia        18.1   669.76  141.680  1458.66    6700   \n",
       "\n",
       "   inflation  life_expec  total_fer   gdpp  ClusterID  \n",
       "1       4.49        76.3       1.65   4090          1  \n",
       "2      16.10        76.5       2.89   4460          1  \n",
       "4       1.44        76.8       2.13  12200          1  \n",
       "5      20.90        75.8       2.37  10300          1  \n",
       "6       7.77        73.3       1.69   3220          1  "
      ]
     },
     "execution_count": 100,
     "metadata": {},
     "output_type": "execute_result"
    }
   ],
   "source": [
    "dh2= hc.drop(['PC1', 'PC2', 'PC3', 'PC4'], axis=1)\n",
    "dh2= dh2[dh2['ClusterID'] == 1]\n",
    "dh2.head()"
   ]
  },
  {
   "cell_type": "code",
   "execution_count": 101,
   "metadata": {},
   "outputs": [
    {
     "data": {
      "text/plain": [
       "(115, 11)"
      ]
     },
     "execution_count": 101,
     "metadata": {},
     "output_type": "execute_result"
    }
   ],
   "source": [
    "dh2.shape"
   ]
  },
  {
   "cell_type": "code",
   "execution_count": 102,
   "metadata": {},
   "outputs": [
    {
     "data": {
      "text/html": [
       "<div>\n",
       "<style scoped>\n",
       "    .dataframe tbody tr th:only-of-type {\n",
       "        vertical-align: middle;\n",
       "    }\n",
       "\n",
       "    .dataframe tbody tr th {\n",
       "        vertical-align: top;\n",
       "    }\n",
       "\n",
       "    .dataframe thead th {\n",
       "        text-align: right;\n",
       "    }\n",
       "</style>\n",
       "<table border=\"1\" class=\"dataframe\">\n",
       "  <thead>\n",
       "    <tr style=\"text-align: right;\">\n",
       "      <th></th>\n",
       "      <th>Country</th>\n",
       "      <th>child_mort</th>\n",
       "      <th>exports</th>\n",
       "      <th>health</th>\n",
       "      <th>imports</th>\n",
       "      <th>income</th>\n",
       "      <th>inflation</th>\n",
       "      <th>life_expec</th>\n",
       "      <th>total_fer</th>\n",
       "      <th>gdpp</th>\n",
       "      <th>ClusterID</th>\n",
       "    </tr>\n",
       "  </thead>\n",
       "  <tbody>\n",
       "    <tr>\n",
       "      <td>7</td>\n",
       "      <td>Australia</td>\n",
       "      <td>4.8</td>\n",
       "      <td>10276.2</td>\n",
       "      <td>4530.87</td>\n",
       "      <td>10847.1</td>\n",
       "      <td>41400</td>\n",
       "      <td>1.160</td>\n",
       "      <td>82.0</td>\n",
       "      <td>1.93</td>\n",
       "      <td>51900</td>\n",
       "      <td>2</td>\n",
       "    </tr>\n",
       "    <tr>\n",
       "      <td>8</td>\n",
       "      <td>Austria</td>\n",
       "      <td>4.3</td>\n",
       "      <td>24059.7</td>\n",
       "      <td>5159.00</td>\n",
       "      <td>22418.2</td>\n",
       "      <td>43200</td>\n",
       "      <td>0.873</td>\n",
       "      <td>80.5</td>\n",
       "      <td>1.44</td>\n",
       "      <td>46900</td>\n",
       "      <td>2</td>\n",
       "    </tr>\n",
       "    <tr>\n",
       "      <td>28</td>\n",
       "      <td>Canada</td>\n",
       "      <td>5.6</td>\n",
       "      <td>13793.4</td>\n",
       "      <td>5356.20</td>\n",
       "      <td>14694.0</td>\n",
       "      <td>40700</td>\n",
       "      <td>2.870</td>\n",
       "      <td>81.3</td>\n",
       "      <td>1.63</td>\n",
       "      <td>47400</td>\n",
       "      <td>2</td>\n",
       "    </tr>\n",
       "    <tr>\n",
       "      <td>52</td>\n",
       "      <td>Finland</td>\n",
       "      <td>3.0</td>\n",
       "      <td>17879.4</td>\n",
       "      <td>4134.90</td>\n",
       "      <td>17278.8</td>\n",
       "      <td>39800</td>\n",
       "      <td>0.351</td>\n",
       "      <td>80.0</td>\n",
       "      <td>1.87</td>\n",
       "      <td>46200</td>\n",
       "      <td>2</td>\n",
       "    </tr>\n",
       "    <tr>\n",
       "      <td>53</td>\n",
       "      <td>France</td>\n",
       "      <td>4.2</td>\n",
       "      <td>10880.8</td>\n",
       "      <td>4831.40</td>\n",
       "      <td>11408.6</td>\n",
       "      <td>36900</td>\n",
       "      <td>1.050</td>\n",
       "      <td>81.4</td>\n",
       "      <td>2.03</td>\n",
       "      <td>40600</td>\n",
       "      <td>2</td>\n",
       "    </tr>\n",
       "  </tbody>\n",
       "</table>\n",
       "</div>"
      ],
      "text/plain": [
       "      Country  child_mort  exports   health  imports  income  inflation  \\\n",
       "7   Australia         4.8  10276.2  4530.87  10847.1   41400      1.160   \n",
       "8     Austria         4.3  24059.7  5159.00  22418.2   43200      0.873   \n",
       "28     Canada         5.6  13793.4  5356.20  14694.0   40700      2.870   \n",
       "52    Finland         3.0  17879.4  4134.90  17278.8   39800      0.351   \n",
       "53     France         4.2  10880.8  4831.40  11408.6   36900      1.050   \n",
       "\n",
       "    life_expec  total_fer   gdpp  ClusterID  \n",
       "7         82.0       1.93  51900          2  \n",
       "8         80.5       1.44  46900          2  \n",
       "28        81.3       1.63  47400          2  \n",
       "52        80.0       1.87  46200          2  \n",
       "53        81.4       2.03  40600          2  "
      ]
     },
     "execution_count": 102,
     "metadata": {},
     "output_type": "execute_result"
    }
   ],
   "source": [
    "dh3= hc.drop(['PC1', 'PC2', 'PC3', 'PC4'], axis=1)\n",
    "dh3= dh3[dh3['ClusterID'] == 2]\n",
    "dh3.head()"
   ]
  },
  {
   "cell_type": "code",
   "execution_count": 103,
   "metadata": {},
   "outputs": [
    {
     "data": {
      "text/plain": [
       "(12, 11)"
      ]
     },
     "execution_count": 103,
     "metadata": {},
     "output_type": "execute_result"
    }
   ],
   "source": [
    "dh3.shape"
   ]
  },
  {
   "cell_type": "code",
   "execution_count": 104,
   "metadata": {},
   "outputs": [
    {
     "data": {
      "text/html": [
       "<div>\n",
       "<style scoped>\n",
       "    .dataframe tbody tr th:only-of-type {\n",
       "        vertical-align: middle;\n",
       "    }\n",
       "\n",
       "    .dataframe tbody tr th {\n",
       "        vertical-align: top;\n",
       "    }\n",
       "\n",
       "    .dataframe thead th {\n",
       "        text-align: right;\n",
       "    }\n",
       "</style>\n",
       "<table border=\"1\" class=\"dataframe\">\n",
       "  <thead>\n",
       "    <tr style=\"text-align: right;\">\n",
       "      <th></th>\n",
       "      <th>Country</th>\n",
       "      <th>child_mort</th>\n",
       "      <th>exports</th>\n",
       "      <th>health</th>\n",
       "      <th>imports</th>\n",
       "      <th>income</th>\n",
       "      <th>inflation</th>\n",
       "      <th>life_expec</th>\n",
       "      <th>total_fer</th>\n",
       "      <th>gdpp</th>\n",
       "      <th>ClusterID</th>\n",
       "    </tr>\n",
       "  </thead>\n",
       "  <tbody>\n",
       "    <tr>\n",
       "      <td>15</td>\n",
       "      <td>Belgium</td>\n",
       "      <td>4.5</td>\n",
       "      <td>33921.6</td>\n",
       "      <td>4750.80</td>\n",
       "      <td>33166.8</td>\n",
       "      <td>41100</td>\n",
       "      <td>1.880</td>\n",
       "      <td>80.0</td>\n",
       "      <td>1.86</td>\n",
       "      <td>44400</td>\n",
       "      <td>3</td>\n",
       "    </tr>\n",
       "    <tr>\n",
       "      <td>43</td>\n",
       "      <td>Denmark</td>\n",
       "      <td>4.1</td>\n",
       "      <td>29290.0</td>\n",
       "      <td>6612.00</td>\n",
       "      <td>25288.0</td>\n",
       "      <td>44000</td>\n",
       "      <td>3.220</td>\n",
       "      <td>79.5</td>\n",
       "      <td>1.87</td>\n",
       "      <td>58000</td>\n",
       "      <td>3</td>\n",
       "    </tr>\n",
       "    <tr>\n",
       "      <td>72</td>\n",
       "      <td>Ireland</td>\n",
       "      <td>4.2</td>\n",
       "      <td>50161.0</td>\n",
       "      <td>4475.53</td>\n",
       "      <td>42125.5</td>\n",
       "      <td>45700</td>\n",
       "      <td>-3.220</td>\n",
       "      <td>80.4</td>\n",
       "      <td>2.05</td>\n",
       "      <td>48700</td>\n",
       "      <td>3</td>\n",
       "    </tr>\n",
       "    <tr>\n",
       "      <td>95</td>\n",
       "      <td>Malta</td>\n",
       "      <td>6.8</td>\n",
       "      <td>32283.0</td>\n",
       "      <td>1825.15</td>\n",
       "      <td>32494.0</td>\n",
       "      <td>28300</td>\n",
       "      <td>3.830</td>\n",
       "      <td>80.3</td>\n",
       "      <td>1.36</td>\n",
       "      <td>21100</td>\n",
       "      <td>3</td>\n",
       "    </tr>\n",
       "    <tr>\n",
       "      <td>107</td>\n",
       "      <td>Netherlands</td>\n",
       "      <td>4.5</td>\n",
       "      <td>36216.0</td>\n",
       "      <td>5985.70</td>\n",
       "      <td>31990.8</td>\n",
       "      <td>45500</td>\n",
       "      <td>0.848</td>\n",
       "      <td>80.7</td>\n",
       "      <td>1.79</td>\n",
       "      <td>50300</td>\n",
       "      <td>3</td>\n",
       "    </tr>\n",
       "  </tbody>\n",
       "</table>\n",
       "</div>"
      ],
      "text/plain": [
       "         Country  child_mort  exports   health  imports  income  inflation  \\\n",
       "15       Belgium         4.5  33921.6  4750.80  33166.8   41100      1.880   \n",
       "43       Denmark         4.1  29290.0  6612.00  25288.0   44000      3.220   \n",
       "72       Ireland         4.2  50161.0  4475.53  42125.5   45700     -3.220   \n",
       "95         Malta         6.8  32283.0  1825.15  32494.0   28300      3.830   \n",
       "107  Netherlands         4.5  36216.0  5985.70  31990.8   45500      0.848   \n",
       "\n",
       "     life_expec  total_fer   gdpp  ClusterID  \n",
       "15         80.0       1.86  44400          3  \n",
       "43         79.5       1.87  58000          3  \n",
       "72         80.4       2.05  48700          3  \n",
       "95         80.3       1.36  21100          3  \n",
       "107        80.7       1.79  50300          3  "
      ]
     },
     "execution_count": 104,
     "metadata": {},
     "output_type": "execute_result"
    }
   ],
   "source": [
    "dh4= hc.drop(['PC1', 'PC2', 'PC3', 'PC4'], axis=1)\n",
    "dh4= dh4[dh4['ClusterID'] == 3]\n",
    "dh4.head()"
   ]
  },
  {
   "cell_type": "code",
   "execution_count": 105,
   "metadata": {},
   "outputs": [
    {
     "data": {
      "text/plain": [
       "(5, 11)"
      ]
     },
     "execution_count": 105,
     "metadata": {},
     "output_type": "execute_result"
    }
   ],
   "source": [
    "dh4.shape"
   ]
  },
  {
   "cell_type": "code",
   "execution_count": 106,
   "metadata": {},
   "outputs": [
    {
     "data": {
      "text/html": [
       "<div>\n",
       "<style scoped>\n",
       "    .dataframe tbody tr th:only-of-type {\n",
       "        vertical-align: middle;\n",
       "    }\n",
       "\n",
       "    .dataframe tbody tr th {\n",
       "        vertical-align: top;\n",
       "    }\n",
       "\n",
       "    .dataframe thead th {\n",
       "        text-align: right;\n",
       "    }\n",
       "</style>\n",
       "<table border=\"1\" class=\"dataframe\">\n",
       "  <thead>\n",
       "    <tr style=\"text-align: right;\">\n",
       "      <th></th>\n",
       "      <th>ClusterID</th>\n",
       "      <th>exports2</th>\n",
       "      <th>child_mort2</th>\n",
       "      <th>health2</th>\n",
       "      <th>imports2</th>\n",
       "      <th>income2</th>\n",
       "      <th>inflation2</th>\n",
       "      <th>life_expec2</th>\n",
       "      <th>total_fer2</th>\n",
       "      <th>gdpp2</th>\n",
       "    </tr>\n",
       "  </thead>\n",
       "  <tbody>\n",
       "    <tr>\n",
       "      <td>0</td>\n",
       "      <td>0</td>\n",
       "      <td>261.684288</td>\n",
       "      <td>112.076000</td>\n",
       "      <td>46.285040</td>\n",
       "      <td>340.107600</td>\n",
       "      <td>1723.720000</td>\n",
       "      <td>8.226600</td>\n",
       "      <td>55.800000</td>\n",
       "      <td>5.516000</td>\n",
       "      <td>773.920000</td>\n",
       "    </tr>\n",
       "    <tr>\n",
       "      <td>1</td>\n",
       "      <td>1</td>\n",
       "      <td>3359.401307</td>\n",
       "      <td>28.915652</td>\n",
       "      <td>511.357897</td>\n",
       "      <td>3429.369496</td>\n",
       "      <td>12837.565217</td>\n",
       "      <td>7.892696</td>\n",
       "      <td>71.606087</td>\n",
       "      <td>2.626609</td>\n",
       "      <td>7457.704348</td>\n",
       "    </tr>\n",
       "    <tr>\n",
       "      <td>2</td>\n",
       "      <td>2</td>\n",
       "      <td>14824.433333</td>\n",
       "      <td>4.191667</td>\n",
       "      <td>4383.787500</td>\n",
       "      <td>14059.058333</td>\n",
       "      <td>38716.666667</td>\n",
       "      <td>1.436833</td>\n",
       "      <td>81.208333</td>\n",
       "      <td>1.784167</td>\n",
       "      <td>43475.000000</td>\n",
       "    </tr>\n",
       "    <tr>\n",
       "      <td>3</td>\n",
       "      <td>3</td>\n",
       "      <td>36374.320000</td>\n",
       "      <td>4.820000</td>\n",
       "      <td>4729.836000</td>\n",
       "      <td>33013.020000</td>\n",
       "      <td>40920.000000</td>\n",
       "      <td>1.311600</td>\n",
       "      <td>80.180000</td>\n",
       "      <td>1.786000</td>\n",
       "      <td>44500.000000</td>\n",
       "    </tr>\n",
       "  </tbody>\n",
       "</table>\n",
       "</div>"
      ],
      "text/plain": [
       "   ClusterID      exports2  child_mort2      health2      imports2  \\\n",
       "0          0    261.684288   112.076000    46.285040    340.107600   \n",
       "1          1   3359.401307    28.915652   511.357897   3429.369496   \n",
       "2          2  14824.433333     4.191667  4383.787500  14059.058333   \n",
       "3          3  36374.320000     4.820000  4729.836000  33013.020000   \n",
       "\n",
       "        income2  inflation2  life_expec2  total_fer2         gdpp2  \n",
       "0   1723.720000    8.226600    55.800000    5.516000    773.920000  \n",
       "1  12837.565217    7.892696    71.606087    2.626609   7457.704348  \n",
       "2  38716.666667    1.436833    81.208333    1.784167  43475.000000  \n",
       "3  40920.000000    1.311600    80.180000    1.786000  44500.000000  "
      ]
     },
     "execution_count": 106,
     "metadata": {},
     "output_type": "execute_result"
    }
   ],
   "source": [
    "km_clusters_exports = pd.DataFrame(hc.groupby([\"ClusterID\"]).exports.mean())\n",
    "km_clusters_child_mort = pd.DataFrame(hc.groupby([\"ClusterID\"]).child_mort.mean())\n",
    "km_clusters_health = pd.DataFrame(hc.groupby([\"ClusterID\"]).health.mean())\n",
    "km_clusters_imports = pd.DataFrame(hc.groupby([\"ClusterID\"]).imports.mean())\n",
    "km_clusters_income = pd.DataFrame(hc.groupby([\"ClusterID\"]).income.mean())\n",
    "km_clusters_inflation = pd.DataFrame(hc.groupby([\"ClusterID\"]).inflation.mean())\n",
    "km_clusters_life_expec = pd.DataFrame(hc.groupby([\"ClusterID\"]).life_expec.mean())\n",
    "km_clusters_total_fer = pd.DataFrame(hc.groupby([\"ClusterID\"]).total_fer.mean())\n",
    "km_clusters_gdpp = pd.DataFrame(hc.groupby([\"ClusterID\"]).gdpp.mean())\n",
    "dfa1= pd.concat([pd.Series([0,1,2,3]), km_clusters_exports, km_clusters_child_mort, km_clusters_health,km_clusters_imports,km_clusters_income,km_clusters_inflation,km_clusters_life_expec,km_clusters_total_fer,km_clusters_gdpp], axis=1)\n",
    "dfa1.columns = [\"ClusterID\", \"exports2\", \"child_mort2\", \"health2\",\"imports2\",\"income2\",\"inflation2\",\"life_expec2\",\"total_fer2\",\"gdpp2\"]\n",
    "dfa1.head()"
   ]
  },
  {
   "cell_type": "code",
   "execution_count": 107,
   "metadata": {},
   "outputs": [
    {
     "data": {
      "text/plain": [
       "<Figure size 1080x1080 with 0 Axes>"
      ]
     },
     "execution_count": 107,
     "metadata": {},
     "output_type": "execute_result"
    },
    {
     "data": {
      "image/png": "[encoded data removed]",
      "text/plain": [
       "<Figure size 1440x1440 with 9 Axes>"
      ]
     },
     "metadata": {
      "needs_background": "light"
     },
     "output_type": "display_data"
    },
    {
     "data": {
      "text/plain": [
       "<Figure size 1080x1080 with 0 Axes>"
      ]
     },
     "metadata": {},
     "output_type": "display_data"
    }
   ],
   "source": [
    "plt.figure(figsize=(20,20))\n",
    "plt.figure(1)\n",
    "plt.subplot(331)\n",
    "sns.barplot(x=dfa1.ClusterID,y=dfa1.exports2)\n",
    "plt.subplot(332)\n",
    "sns.barplot(x=dfa1.ClusterID,y=dfa1.child_mort2)\n",
    "plt.subplot(333)\n",
    "sns.barplot(x=dfa1.ClusterID,y=dfa1.health2)\n",
    "plt.subplot(334)\n",
    "sns.barplot(x=dfa1.ClusterID,y=dfa1.imports2)\n",
    "plt.subplot(335)\n",
    "sns.barplot(x=dfa1.ClusterID,y=dfa1.income2)\n",
    "plt.subplot(336)\n",
    "sns.barplot(x=dfa1.ClusterID,y=dfa1.inflation2)\n",
    "plt.subplot(337)\n",
    "sns.barplot(x=dfa1.ClusterID,y=dfa1.life_expec2)\n",
    "plt.subplot(338)\n",
    "sns.barplot(x=dfa1.ClusterID,y=dfa1.total_fer2)\n",
    "plt.subplot(339)\n",
    "sns.barplot(x=dfa1.ClusterID,y=dfa1.gdpp2)\n",
    "plt.figure(figsize=(15,15))\n"
   ]
  },
  {
   "cell_type": "markdown",
   "metadata": {},
   "source": [
    "#### Checking the Loadings : How PC1 & PC2 related with different countries"
   ]
  },
  {
   "cell_type": "code",
   "execution_count": 108,
   "metadata": {},
   "outputs": [
    {
     "data": {
      "text/plain": [
       "<matplotlib.collections.PathCollection at 0x163f70eb5c8>"
      ]
     },
     "execution_count": 108,
     "metadata": {},
     "output_type": "execute_result"
    },
    {
     "data": {
      "image/png": "[encoded data removed]",
      "text/plain": [
       "<Figure size 1080x720 with 1 Axes>"
      ]
     },
     "metadata": {
      "needs_background": "light"
     },
     "output_type": "display_data"
    }
   ],
   "source": [
    "plt.figure(figsize=(15,10))\n",
    "plt.scatter(hc.PC1,hc.PC2,c=hc.ClusterID)"
   ]
  },
  {
   "cell_type": "markdown",
   "metadata": {},
   "source": [
    "#### In Hierarchical Clustering with k=4,  its evident that clustering is not done well as the clusters with similar socio economic & health factors are not exactly  falling under same cluster as compare to k-means clustering.\n",
    "\n",
    "#### Cluster2  with Id:1  contains 115 countries which has a wide range of income, gdpp, health, inflation falling under same cluster.\n",
    "\n",
    "#### Though can still be a good choice. In case of hierarchical clustering with k=4, as listed above, Cluster 1 with Cluster_id: 0 includes set of under developed countries with very low income & gdpp, low health & very high child_mort.  \n",
    "\n",
    "#### The under developed countries like Congo, Dem. Rep., Niger , Central African Republic, Haiti , Sierra Leone,Mozambique, Liberia, Burundi etc. could be the best choice for  Help NGO to provide aid.\n",
    "\n",
    "\n"
   ]
  },
  {
   "cell_type": "markdown",
   "metadata": {},
   "source": [
    "## Hierarchical Clustering with k=5"
   ]
  },
  {
   "cell_type": "code",
   "execution_count": 109,
   "metadata": {},
   "outputs": [
    {
     "data": {
      "image/png": "[encoded data removed]",
      "text/plain": [
       "<Figure size 432x288 with 1 Axes>"
      ]
     },
     "metadata": {
      "needs_background": "light"
     },
     "output_type": "display_data"
    }
   ],
   "source": [
    "#Let's try hierarchical clustering to see if it works well\n",
    "#First we'll try the single linkage procedure\n",
    "\n",
    "mergings = linkage(df1, method = \"single\", metric='euclidean')\n",
    "dendrogram(mergings)\n",
    "plt.show()\n"
   ]
  },
  {
   "cell_type": "code",
   "execution_count": 110,
   "metadata": {},
   "outputs": [
    {
     "data": {
      "image/png": "[encoded data removed]",
      "text/plain": [
       "<Figure size 432x288 with 1 Axes>"
      ]
     },
     "metadata": {
      "needs_background": "light"
     },
     "output_type": "display_data"
    }
   ],
   "source": [
    "mergings = linkage(df1, method = \"complete\", metric='euclidean')\n",
    "dendrogram(mergings)\n",
    "plt.show()"
   ]
  },
  {
   "cell_type": "markdown",
   "metadata": {},
   "source": [
    "### Complete linkage gives better dendrogram and clusters."
   ]
  },
  {
   "cell_type": "code",
   "execution_count": 111,
   "metadata": {},
   "outputs": [
    {
     "data": {
      "text/html": [
       "<div>\n",
       "<style scoped>\n",
       "    .dataframe tbody tr th:only-of-type {\n",
       "        vertical-align: middle;\n",
       "    }\n",
       "\n",
       "    .dataframe tbody tr th {\n",
       "        vertical-align: top;\n",
       "    }\n",
       "\n",
       "    .dataframe thead th {\n",
       "        text-align: right;\n",
       "    }\n",
       "</style>\n",
       "<table border=\"1\" class=\"dataframe\">\n",
       "  <thead>\n",
       "    <tr style=\"text-align: right;\">\n",
       "      <th></th>\n",
       "      <th>PC1</th>\n",
       "      <th>PC2</th>\n",
       "      <th>PC3</th>\n",
       "      <th>PC4</th>\n",
       "      <th>Country</th>\n",
       "      <th>child_mort</th>\n",
       "      <th>exports</th>\n",
       "      <th>health</th>\n",
       "      <th>imports</th>\n",
       "      <th>income</th>\n",
       "      <th>inflation</th>\n",
       "      <th>life_expec</th>\n",
       "      <th>total_fer</th>\n",
       "      <th>gdpp</th>\n",
       "      <th>ClusterID</th>\n",
       "    </tr>\n",
       "  </thead>\n",
       "  <tbody>\n",
       "    <tr>\n",
       "      <td>0</td>\n",
       "      <td>-2.787815</td>\n",
       "      <td>1.445550</td>\n",
       "      <td>-0.144171</td>\n",
       "      <td>-0.124123</td>\n",
       "      <td>Afghanistan</td>\n",
       "      <td>90.2</td>\n",
       "      <td>55.30</td>\n",
       "      <td>41.9174</td>\n",
       "      <td>248.297</td>\n",
       "      <td>1610</td>\n",
       "      <td>9.44</td>\n",
       "      <td>56.2</td>\n",
       "      <td>5.82</td>\n",
       "      <td>553</td>\n",
       "      <td>0</td>\n",
       "    </tr>\n",
       "    <tr>\n",
       "      <td>1</td>\n",
       "      <td>-0.036685</td>\n",
       "      <td>-1.531550</td>\n",
       "      <td>-0.389670</td>\n",
       "      <td>0.100797</td>\n",
       "      <td>Albania</td>\n",
       "      <td>16.6</td>\n",
       "      <td>1145.20</td>\n",
       "      <td>267.8950</td>\n",
       "      <td>1987.740</td>\n",
       "      <td>9930</td>\n",
       "      <td>4.49</td>\n",
       "      <td>76.3</td>\n",
       "      <td>1.65</td>\n",
       "      <td>4090</td>\n",
       "      <td>1</td>\n",
       "    </tr>\n",
       "    <tr>\n",
       "      <td>2</td>\n",
       "      <td>-0.526434</td>\n",
       "      <td>-0.967650</td>\n",
       "      <td>1.166996</td>\n",
       "      <td>-0.037223</td>\n",
       "      <td>Algeria</td>\n",
       "      <td>27.3</td>\n",
       "      <td>1712.64</td>\n",
       "      <td>185.9820</td>\n",
       "      <td>1400.440</td>\n",
       "      <td>12900</td>\n",
       "      <td>16.10</td>\n",
       "      <td>76.5</td>\n",
       "      <td>2.89</td>\n",
       "      <td>4460</td>\n",
       "      <td>1</td>\n",
       "    </tr>\n",
       "    <tr>\n",
       "      <td>3</td>\n",
       "      <td>-2.816842</td>\n",
       "      <td>2.001465</td>\n",
       "      <td>1.602102</td>\n",
       "      <td>-0.150577</td>\n",
       "      <td>Angola</td>\n",
       "      <td>119.0</td>\n",
       "      <td>2199.19</td>\n",
       "      <td>100.6050</td>\n",
       "      <td>1514.370</td>\n",
       "      <td>5900</td>\n",
       "      <td>22.40</td>\n",
       "      <td>60.1</td>\n",
       "      <td>6.16</td>\n",
       "      <td>3530</td>\n",
       "      <td>0</td>\n",
       "    </tr>\n",
       "    <tr>\n",
       "      <td>4</td>\n",
       "      <td>1.097652</td>\n",
       "      <td>-0.800706</td>\n",
       "      <td>-0.546978</td>\n",
       "      <td>0.190385</td>\n",
       "      <td>Antigua and Barbuda</td>\n",
       "      <td>10.3</td>\n",
       "      <td>5551.00</td>\n",
       "      <td>735.6600</td>\n",
       "      <td>7185.800</td>\n",
       "      <td>19100</td>\n",
       "      <td>1.44</td>\n",
       "      <td>76.8</td>\n",
       "      <td>2.13</td>\n",
       "      <td>12200</td>\n",
       "      <td>1</td>\n",
       "    </tr>\n",
       "  </tbody>\n",
       "</table>\n",
       "</div>"
      ],
      "text/plain": [
       "        PC1       PC2       PC3       PC4              Country  child_mort  \\\n",
       "0 -2.787815  1.445550 -0.144171 -0.124123          Afghanistan        90.2   \n",
       "1 -0.036685 -1.531550 -0.389670  0.100797              Albania        16.6   \n",
       "2 -0.526434 -0.967650  1.166996 -0.037223              Algeria        27.3   \n",
       "3 -2.816842  2.001465  1.602102 -0.150577               Angola       119.0   \n",
       "4  1.097652 -0.800706 -0.546978  0.190385  Antigua and Barbuda        10.3   \n",
       "\n",
       "   exports    health   imports  income  inflation  life_expec  total_fer  \\\n",
       "0    55.30   41.9174   248.297    1610       9.44        56.2       5.82   \n",
       "1  1145.20  267.8950  1987.740    9930       4.49        76.3       1.65   \n",
       "2  1712.64  185.9820  1400.440   12900      16.10        76.5       2.89   \n",
       "3  2199.19  100.6050  1514.370    5900      22.40        60.1       6.16   \n",
       "4  5551.00  735.6600  7185.800   19100       1.44        76.8       2.13   \n",
       "\n",
       "    gdpp  ClusterID  \n",
       "0    553          0  \n",
       "1   4090          1  \n",
       "2   4460          1  \n",
       "3   3530          0  \n",
       "4  12200          1  "
      ]
     },
     "execution_count": 111,
     "metadata": {},
     "output_type": "execute_result"
    }
   ],
   "source": [
    "clusterCut = pd.Series(cut_tree(mergings, n_clusters = 5).reshape(-1,))\n",
    "hc1 = pd.concat([final_df, clusterCut], axis=1)\n",
    "hc1.columns = ['PC1', 'PC2', 'PC3','PC4','Country', 'child_mort', 'exports',\n",
    "     'health', 'imports', 'income', 'inflation', 'life_expec', 'total_fer',\n",
    "     'gdpp','ClusterID']\n",
    "hc1.head()"
   ]
  },
  {
   "cell_type": "code",
   "execution_count": 112,
   "metadata": {},
   "outputs": [
    {
     "data": {
      "text/plain": [
       "<matplotlib.axes._subplots.AxesSubplot at 0x163f50597c8>"
      ]
     },
     "execution_count": 112,
     "metadata": {},
     "output_type": "execute_result"
    },
    {
     "data": {
      "image/png": "[encoded data removed]",
      "text/plain": [
       "<Figure size 432x288 with 1 Axes>"
      ]
     },
     "metadata": {
      "needs_background": "light"
     },
     "output_type": "display_data"
    }
   ],
   "source": [
    "sns.scatterplot(x= 'PC1', y='PC2', hue='ClusterID', legend= 'full', data= hc1)"
   ]
  },
  {
   "cell_type": "code",
   "execution_count": 113,
   "metadata": {},
   "outputs": [
    {
     "data": {
      "text/html": [
       "<div>\n",
       "<style scoped>\n",
       "    .dataframe tbody tr th:only-of-type {\n",
       "        vertical-align: middle;\n",
       "    }\n",
       "\n",
       "    .dataframe tbody tr th {\n",
       "        vertical-align: top;\n",
       "    }\n",
       "\n",
       "    .dataframe thead th {\n",
       "        text-align: right;\n",
       "    }\n",
       "</style>\n",
       "<table border=\"1\" class=\"dataframe\">\n",
       "  <thead>\n",
       "    <tr style=\"text-align: right;\">\n",
       "      <th></th>\n",
       "      <th>ClusterID</th>\n",
       "      <th>exports2</th>\n",
       "      <th>child_mort2</th>\n",
       "      <th>health2</th>\n",
       "      <th>imports2</th>\n",
       "      <th>income2</th>\n",
       "      <th>inflation2</th>\n",
       "      <th>life_expec2</th>\n",
       "      <th>total_fer2</th>\n",
       "      <th>gdpp2</th>\n",
       "    </tr>\n",
       "  </thead>\n",
       "  <tbody>\n",
       "    <tr>\n",
       "      <td>0</td>\n",
       "      <td>0</td>\n",
       "      <td>261.684288</td>\n",
       "      <td>112.076000</td>\n",
       "      <td>46.285040</td>\n",
       "      <td>340.107600</td>\n",
       "      <td>1723.720000</td>\n",
       "      <td>8.226600</td>\n",
       "      <td>55.800000</td>\n",
       "      <td>5.516000</td>\n",
       "      <td>773.920000</td>\n",
       "    </tr>\n",
       "    <tr>\n",
       "      <td>1</td>\n",
       "      <td>1</td>\n",
       "      <td>3419.828849</td>\n",
       "      <td>25.374038</td>\n",
       "      <td>537.211039</td>\n",
       "      <td>3583.637712</td>\n",
       "      <td>13163.846154</td>\n",
       "      <td>6.140000</td>\n",
       "      <td>72.176923</td>\n",
       "      <td>2.433846</td>\n",
       "      <td>7687.461538</td>\n",
       "    </tr>\n",
       "    <tr>\n",
       "      <td>2</td>\n",
       "      <td>2</td>\n",
       "      <td>14824.433333</td>\n",
       "      <td>4.191667</td>\n",
       "      <td>4383.787500</td>\n",
       "      <td>14059.058333</td>\n",
       "      <td>38716.666667</td>\n",
       "      <td>1.436833</td>\n",
       "      <td>81.208333</td>\n",
       "      <td>1.784167</td>\n",
       "      <td>43475.000000</td>\n",
       "    </tr>\n",
       "    <tr>\n",
       "      <td>3</td>\n",
       "      <td>3</td>\n",
       "      <td>36374.320000</td>\n",
       "      <td>4.820000</td>\n",
       "      <td>4729.836000</td>\n",
       "      <td>33013.020000</td>\n",
       "      <td>40920.000000</td>\n",
       "      <td>1.311600</td>\n",
       "      <td>80.180000</td>\n",
       "      <td>1.786000</td>\n",
       "      <td>44500.000000</td>\n",
       "    </tr>\n",
       "    <tr>\n",
       "      <td>4</td>\n",
       "      <td>4</td>\n",
       "      <td>2788.086364</td>\n",
       "      <td>62.400000</td>\n",
       "      <td>266.928182</td>\n",
       "      <td>1970.833636</td>\n",
       "      <td>9752.727273</td>\n",
       "      <td>24.463636</td>\n",
       "      <td>66.209091</td>\n",
       "      <td>4.449091</td>\n",
       "      <td>5285.454545</td>\n",
       "    </tr>\n",
       "  </tbody>\n",
       "</table>\n",
       "</div>"
      ],
      "text/plain": [
       "   ClusterID      exports2  child_mort2      health2      imports2  \\\n",
       "0          0    261.684288   112.076000    46.285040    340.107600   \n",
       "1          1   3419.828849    25.374038   537.211039   3583.637712   \n",
       "2          2  14824.433333     4.191667  4383.787500  14059.058333   \n",
       "3          3  36374.320000     4.820000  4729.836000  33013.020000   \n",
       "4          4   2788.086364    62.400000   266.928182   1970.833636   \n",
       "\n",
       "        income2  inflation2  life_expec2  total_fer2         gdpp2  \n",
       "0   1723.720000    8.226600    55.800000    5.516000    773.920000  \n",
       "1  13163.846154    6.140000    72.176923    2.433846   7687.461538  \n",
       "2  38716.666667    1.436833    81.208333    1.784167  43475.000000  \n",
       "3  40920.000000    1.311600    80.180000    1.786000  44500.000000  \n",
       "4   9752.727273   24.463636    66.209091    4.449091   5285.454545  "
      ]
     },
     "execution_count": 113,
     "metadata": {},
     "output_type": "execute_result"
    }
   ],
   "source": [
    "km_clusters_exports = pd.DataFrame(hc1.groupby([\"ClusterID\"]).exports.mean())\n",
    "km_clusters_child_mort = pd.DataFrame(hc1.groupby([\"ClusterID\"]).child_mort.mean())\n",
    "km_clusters_health = pd.DataFrame(hc1.groupby([\"ClusterID\"]).health.mean())\n",
    "km_clusters_imports = pd.DataFrame(hc1.groupby([\"ClusterID\"]).imports.mean())\n",
    "km_clusters_income = pd.DataFrame(hc1.groupby([\"ClusterID\"]).income.mean())\n",
    "km_clusters_inflation = pd.DataFrame(hc1.groupby([\"ClusterID\"]).inflation.mean())\n",
    "km_clusters_life_expec = pd.DataFrame(hc1.groupby([\"ClusterID\"]).life_expec.mean())\n",
    "km_clusters_total_fer = pd.DataFrame(hc1.groupby([\"ClusterID\"]).total_fer.mean())\n",
    "km_clusters_gdpp = pd.DataFrame(hc1.groupby([\"ClusterID\"]).gdpp.mean())\n",
    "dfa1= pd.concat([pd.Series([0,1,2,3,4]), km_clusters_exports, km_clusters_child_mort, km_clusters_health,km_clusters_imports,km_clusters_income,km_clusters_inflation,km_clusters_life_expec,km_clusters_total_fer,km_clusters_gdpp], axis=1)\n",
    "dfa1.columns = [\"ClusterID\", \"exports2\", \"child_mort2\", \"health2\",\"imports2\",\"income2\",\"inflation2\",\"life_expec2\",\"total_fer2\",\"gdpp2\"]\n",
    "dfa1.head()"
   ]
  },
  {
   "cell_type": "code",
   "execution_count": 114,
   "metadata": {},
   "outputs": [
    {
     "data": {
      "text/plain": [
       "<Figure size 1080x1080 with 0 Axes>"
      ]
     },
     "execution_count": 114,
     "metadata": {},
     "output_type": "execute_result"
    },
    {
     "data": {
      "image/png": "[encoded data removed]",
      "text/plain": [
       "<Figure size 1440x1440 with 9 Axes>"
      ]
     },
     "metadata": {
      "needs_background": "light"
     },
     "output_type": "display_data"
    },
    {
     "data": {
      "text/plain": [
       "<Figure size 1080x1080 with 0 Axes>"
      ]
     },
     "metadata": {},
     "output_type": "display_data"
    }
   ],
   "source": [
    "plt.figure(figsize=(20,20))\n",
    "plt.figure(1)\n",
    "plt.subplot(331)\n",
    "sns.barplot(x=dfa1.ClusterID,y=dfa1.exports2)\n",
    "plt.subplot(332)\n",
    "sns.barplot(x=dfa1.ClusterID,y=dfa1.child_mort2)\n",
    "plt.subplot(333)\n",
    "sns.barplot(x=dfa1.ClusterID,y=dfa1.health2)\n",
    "plt.subplot(334)\n",
    "sns.barplot(x=dfa1.ClusterID,y=dfa1.imports2)\n",
    "plt.subplot(335)\n",
    "sns.barplot(x=dfa1.ClusterID,y=dfa1.income2)\n",
    "plt.subplot(336)\n",
    "sns.barplot(x=dfa1.ClusterID,y=dfa1.inflation2)\n",
    "plt.subplot(337)\n",
    "sns.barplot(x=dfa1.ClusterID,y=dfa1.life_expec2)\n",
    "plt.subplot(338)\n",
    "sns.barplot(x=dfa1.ClusterID,y=dfa1.total_fer2)\n",
    "plt.subplot(339)\n",
    "sns.barplot(x=dfa1.ClusterID,y=dfa1.gdpp2)\n",
    "plt.figure(figsize=(15,15))"
   ]
  },
  {
   "cell_type": "code",
   "execution_count": 115,
   "metadata": {},
   "outputs": [
    {
     "data": {
      "text/html": [
       "<div>\n",
       "<style scoped>\n",
       "    .dataframe tbody tr th:only-of-type {\n",
       "        vertical-align: middle;\n",
       "    }\n",
       "\n",
       "    .dataframe tbody tr th {\n",
       "        vertical-align: top;\n",
       "    }\n",
       "\n",
       "    .dataframe thead th {\n",
       "        text-align: right;\n",
       "    }\n",
       "</style>\n",
       "<table border=\"1\" class=\"dataframe\">\n",
       "  <thead>\n",
       "    <tr style=\"text-align: right;\">\n",
       "      <th></th>\n",
       "      <th>Country</th>\n",
       "      <th>child_mort</th>\n",
       "      <th>exports</th>\n",
       "      <th>health</th>\n",
       "      <th>imports</th>\n",
       "      <th>income</th>\n",
       "      <th>inflation</th>\n",
       "      <th>life_expec</th>\n",
       "      <th>total_fer</th>\n",
       "      <th>gdpp</th>\n",
       "      <th>ClusterID</th>\n",
       "    </tr>\n",
       "  </thead>\n",
       "  <tbody>\n",
       "    <tr>\n",
       "      <td>0</td>\n",
       "      <td>Afghanistan</td>\n",
       "      <td>90.2</td>\n",
       "      <td>55.3000</td>\n",
       "      <td>41.9174</td>\n",
       "      <td>248.297</td>\n",
       "      <td>1610</td>\n",
       "      <td>9.440</td>\n",
       "      <td>56.2</td>\n",
       "      <td>5.82</td>\n",
       "      <td>553</td>\n",
       "      <td>0</td>\n",
       "    </tr>\n",
       "    <tr>\n",
       "      <td>3</td>\n",
       "      <td>Angola</td>\n",
       "      <td>119.0</td>\n",
       "      <td>2199.1900</td>\n",
       "      <td>100.6050</td>\n",
       "      <td>1514.370</td>\n",
       "      <td>5900</td>\n",
       "      <td>22.400</td>\n",
       "      <td>60.1</td>\n",
       "      <td>6.16</td>\n",
       "      <td>3530</td>\n",
       "      <td>0</td>\n",
       "    </tr>\n",
       "    <tr>\n",
       "      <td>17</td>\n",
       "      <td>Benin</td>\n",
       "      <td>111.0</td>\n",
       "      <td>180.4040</td>\n",
       "      <td>31.0780</td>\n",
       "      <td>281.976</td>\n",
       "      <td>1820</td>\n",
       "      <td>0.885</td>\n",
       "      <td>61.8</td>\n",
       "      <td>5.36</td>\n",
       "      <td>758</td>\n",
       "      <td>0</td>\n",
       "    </tr>\n",
       "    <tr>\n",
       "      <td>24</td>\n",
       "      <td>Burkina Faso</td>\n",
       "      <td>116.0</td>\n",
       "      <td>110.4000</td>\n",
       "      <td>38.7550</td>\n",
       "      <td>170.200</td>\n",
       "      <td>1430</td>\n",
       "      <td>6.810</td>\n",
       "      <td>57.9</td>\n",
       "      <td>5.87</td>\n",
       "      <td>575</td>\n",
       "      <td>0</td>\n",
       "    </tr>\n",
       "    <tr>\n",
       "      <td>25</td>\n",
       "      <td>Burundi</td>\n",
       "      <td>93.6</td>\n",
       "      <td>20.6052</td>\n",
       "      <td>26.7960</td>\n",
       "      <td>90.552</td>\n",
       "      <td>764</td>\n",
       "      <td>12.300</td>\n",
       "      <td>57.7</td>\n",
       "      <td>6.26</td>\n",
       "      <td>231</td>\n",
       "      <td>0</td>\n",
       "    </tr>\n",
       "    <tr>\n",
       "      <td>27</td>\n",
       "      <td>Cameroon</td>\n",
       "      <td>108.0</td>\n",
       "      <td>290.8200</td>\n",
       "      <td>67.2030</td>\n",
       "      <td>353.700</td>\n",
       "      <td>2660</td>\n",
       "      <td>1.910</td>\n",
       "      <td>57.3</td>\n",
       "      <td>5.11</td>\n",
       "      <td>1310</td>\n",
       "      <td>0</td>\n",
       "    </tr>\n",
       "    <tr>\n",
       "      <td>30</td>\n",
       "      <td>Central African Republic</td>\n",
       "      <td>149.0</td>\n",
       "      <td>52.6280</td>\n",
       "      <td>17.7508</td>\n",
       "      <td>118.190</td>\n",
       "      <td>888</td>\n",
       "      <td>2.010</td>\n",
       "      <td>47.5</td>\n",
       "      <td>5.21</td>\n",
       "      <td>446</td>\n",
       "      <td>0</td>\n",
       "    </tr>\n",
       "    <tr>\n",
       "      <td>31</td>\n",
       "      <td>Chad</td>\n",
       "      <td>150.0</td>\n",
       "      <td>330.0960</td>\n",
       "      <td>40.6341</td>\n",
       "      <td>390.195</td>\n",
       "      <td>1930</td>\n",
       "      <td>6.390</td>\n",
       "      <td>56.5</td>\n",
       "      <td>6.59</td>\n",
       "      <td>897</td>\n",
       "      <td>0</td>\n",
       "    </tr>\n",
       "    <tr>\n",
       "      <td>36</td>\n",
       "      <td>Congo, Dem. Rep.</td>\n",
       "      <td>116.0</td>\n",
       "      <td>137.2740</td>\n",
       "      <td>26.4194</td>\n",
       "      <td>165.664</td>\n",
       "      <td>609</td>\n",
       "      <td>20.800</td>\n",
       "      <td>57.5</td>\n",
       "      <td>6.54</td>\n",
       "      <td>334</td>\n",
       "      <td>0</td>\n",
       "    </tr>\n",
       "    <tr>\n",
       "      <td>39</td>\n",
       "      <td>Cote d'Ivoire</td>\n",
       "      <td>111.0</td>\n",
       "      <td>617.3200</td>\n",
       "      <td>64.6600</td>\n",
       "      <td>528.260</td>\n",
       "      <td>2690</td>\n",
       "      <td>5.390</td>\n",
       "      <td>56.3</td>\n",
       "      <td>5.27</td>\n",
       "      <td>1220</td>\n",
       "      <td>0</td>\n",
       "    </tr>\n",
       "    <tr>\n",
       "      <td>55</td>\n",
       "      <td>Gambia</td>\n",
       "      <td>80.3</td>\n",
       "      <td>133.7560</td>\n",
       "      <td>31.9778</td>\n",
       "      <td>239.974</td>\n",
       "      <td>1660</td>\n",
       "      <td>4.300</td>\n",
       "      <td>65.5</td>\n",
       "      <td>5.71</td>\n",
       "      <td>562</td>\n",
       "      <td>0</td>\n",
       "    </tr>\n",
       "    <tr>\n",
       "      <td>62</td>\n",
       "      <td>Guinea</td>\n",
       "      <td>109.0</td>\n",
       "      <td>196.3440</td>\n",
       "      <td>31.9464</td>\n",
       "      <td>279.936</td>\n",
       "      <td>1190</td>\n",
       "      <td>16.100</td>\n",
       "      <td>58.0</td>\n",
       "      <td>5.34</td>\n",
       "      <td>648</td>\n",
       "      <td>0</td>\n",
       "    </tr>\n",
       "    <tr>\n",
       "      <td>63</td>\n",
       "      <td>Guinea-Bissau</td>\n",
       "      <td>114.0</td>\n",
       "      <td>81.5030</td>\n",
       "      <td>46.4950</td>\n",
       "      <td>192.544</td>\n",
       "      <td>1390</td>\n",
       "      <td>2.970</td>\n",
       "      <td>55.6</td>\n",
       "      <td>5.05</td>\n",
       "      <td>547</td>\n",
       "      <td>0</td>\n",
       "    </tr>\n",
       "    <tr>\n",
       "      <td>65</td>\n",
       "      <td>Haiti</td>\n",
       "      <td>208.0</td>\n",
       "      <td>101.2860</td>\n",
       "      <td>45.7442</td>\n",
       "      <td>428.314</td>\n",
       "      <td>1500</td>\n",
       "      <td>5.450</td>\n",
       "      <td>32.1</td>\n",
       "      <td>3.33</td>\n",
       "      <td>662</td>\n",
       "      <td>0</td>\n",
       "    </tr>\n",
       "    <tr>\n",
       "      <td>85</td>\n",
       "      <td>Lesotho</td>\n",
       "      <td>99.7</td>\n",
       "      <td>460.9800</td>\n",
       "      <td>129.8700</td>\n",
       "      <td>1181.700</td>\n",
       "      <td>2380</td>\n",
       "      <td>4.150</td>\n",
       "      <td>46.5</td>\n",
       "      <td>3.30</td>\n",
       "      <td>1170</td>\n",
       "      <td>0</td>\n",
       "    </tr>\n",
       "    <tr>\n",
       "      <td>86</td>\n",
       "      <td>Liberia</td>\n",
       "      <td>89.3</td>\n",
       "      <td>62.4570</td>\n",
       "      <td>38.5860</td>\n",
       "      <td>302.802</td>\n",
       "      <td>700</td>\n",
       "      <td>5.470</td>\n",
       "      <td>60.8</td>\n",
       "      <td>5.02</td>\n",
       "      <td>327</td>\n",
       "      <td>0</td>\n",
       "    </tr>\n",
       "    <tr>\n",
       "      <td>91</td>\n",
       "      <td>Malawi</td>\n",
       "      <td>90.5</td>\n",
       "      <td>104.6520</td>\n",
       "      <td>30.2481</td>\n",
       "      <td>160.191</td>\n",
       "      <td>1030</td>\n",
       "      <td>12.100</td>\n",
       "      <td>53.1</td>\n",
       "      <td>5.31</td>\n",
       "      <td>459</td>\n",
       "      <td>0</td>\n",
       "    </tr>\n",
       "    <tr>\n",
       "      <td>94</td>\n",
       "      <td>Mali</td>\n",
       "      <td>137.0</td>\n",
       "      <td>161.4240</td>\n",
       "      <td>35.2584</td>\n",
       "      <td>248.508</td>\n",
       "      <td>1870</td>\n",
       "      <td>4.370</td>\n",
       "      <td>59.5</td>\n",
       "      <td>6.55</td>\n",
       "      <td>708</td>\n",
       "      <td>0</td>\n",
       "    </tr>\n",
       "    <tr>\n",
       "      <td>103</td>\n",
       "      <td>Mozambique</td>\n",
       "      <td>101.0</td>\n",
       "      <td>131.9850</td>\n",
       "      <td>21.8299</td>\n",
       "      <td>193.578</td>\n",
       "      <td>918</td>\n",
       "      <td>7.640</td>\n",
       "      <td>54.5</td>\n",
       "      <td>5.56</td>\n",
       "      <td>419</td>\n",
       "      <td>0</td>\n",
       "    </tr>\n",
       "    <tr>\n",
       "      <td>109</td>\n",
       "      <td>Niger</td>\n",
       "      <td>123.0</td>\n",
       "      <td>77.2560</td>\n",
       "      <td>17.9568</td>\n",
       "      <td>170.868</td>\n",
       "      <td>814</td>\n",
       "      <td>2.550</td>\n",
       "      <td>58.8</td>\n",
       "      <td>7.49</td>\n",
       "      <td>348</td>\n",
       "      <td>0</td>\n",
       "    </tr>\n",
       "    <tr>\n",
       "      <td>126</td>\n",
       "      <td>Sierra Leone</td>\n",
       "      <td>160.0</td>\n",
       "      <td>67.0320</td>\n",
       "      <td>52.2690</td>\n",
       "      <td>137.655</td>\n",
       "      <td>1220</td>\n",
       "      <td>17.200</td>\n",
       "      <td>55.0</td>\n",
       "      <td>5.20</td>\n",
       "      <td>399</td>\n",
       "      <td>0</td>\n",
       "    </tr>\n",
       "    <tr>\n",
       "      <td>139</td>\n",
       "      <td>Tanzania</td>\n",
       "      <td>71.9</td>\n",
       "      <td>131.2740</td>\n",
       "      <td>42.1902</td>\n",
       "      <td>204.282</td>\n",
       "      <td>2090</td>\n",
       "      <td>9.250</td>\n",
       "      <td>59.3</td>\n",
       "      <td>5.43</td>\n",
       "      <td>702</td>\n",
       "      <td>0</td>\n",
       "    </tr>\n",
       "    <tr>\n",
       "      <td>142</td>\n",
       "      <td>Togo</td>\n",
       "      <td>90.3</td>\n",
       "      <td>196.1760</td>\n",
       "      <td>37.3320</td>\n",
       "      <td>279.624</td>\n",
       "      <td>1210</td>\n",
       "      <td>1.180</td>\n",
       "      <td>58.7</td>\n",
       "      <td>4.87</td>\n",
       "      <td>488</td>\n",
       "      <td>0</td>\n",
       "    </tr>\n",
       "    <tr>\n",
       "      <td>147</td>\n",
       "      <td>Uganda</td>\n",
       "      <td>81.0</td>\n",
       "      <td>101.7450</td>\n",
       "      <td>53.6095</td>\n",
       "      <td>170.170</td>\n",
       "      <td>1540</td>\n",
       "      <td>10.600</td>\n",
       "      <td>56.8</td>\n",
       "      <td>6.15</td>\n",
       "      <td>595</td>\n",
       "      <td>0</td>\n",
       "    </tr>\n",
       "    <tr>\n",
       "      <td>156</td>\n",
       "      <td>Zambia</td>\n",
       "      <td>83.1</td>\n",
       "      <td>540.2000</td>\n",
       "      <td>85.9940</td>\n",
       "      <td>451.140</td>\n",
       "      <td>3280</td>\n",
       "      <td>14.000</td>\n",
       "      <td>52.0</td>\n",
       "      <td>5.40</td>\n",
       "      <td>1460</td>\n",
       "      <td>0</td>\n",
       "    </tr>\n",
       "  </tbody>\n",
       "</table>\n",
       "</div>"
      ],
      "text/plain": [
       "                      Country  child_mort    exports    health   imports  \\\n",
       "0                 Afghanistan        90.2    55.3000   41.9174   248.297   \n",
       "3                      Angola       119.0  2199.1900  100.6050  1514.370   \n",
       "17                      Benin       111.0   180.4040   31.0780   281.976   \n",
       "24               Burkina Faso       116.0   110.4000   38.7550   170.200   \n",
       "25                    Burundi        93.6    20.6052   26.7960    90.552   \n",
       "27                   Cameroon       108.0   290.8200   67.2030   353.700   \n",
       "30   Central African Republic       149.0    52.6280   17.7508   118.190   \n",
       "31                       Chad       150.0   330.0960   40.6341   390.195   \n",
       "36           Congo, Dem. Rep.       116.0   137.2740   26.4194   165.664   \n",
       "39              Cote d'Ivoire       111.0   617.3200   64.6600   528.260   \n",
       "55                     Gambia        80.3   133.7560   31.9778   239.974   \n",
       "62                     Guinea       109.0   196.3440   31.9464   279.936   \n",
       "63              Guinea-Bissau       114.0    81.5030   46.4950   192.544   \n",
       "65                      Haiti       208.0   101.2860   45.7442   428.314   \n",
       "85                    Lesotho        99.7   460.9800  129.8700  1181.700   \n",
       "86                    Liberia        89.3    62.4570   38.5860   302.802   \n",
       "91                     Malawi        90.5   104.6520   30.2481   160.191   \n",
       "94                       Mali       137.0   161.4240   35.2584   248.508   \n",
       "103                Mozambique       101.0   131.9850   21.8299   193.578   \n",
       "109                     Niger       123.0    77.2560   17.9568   170.868   \n",
       "126              Sierra Leone       160.0    67.0320   52.2690   137.655   \n",
       "139                  Tanzania        71.9   131.2740   42.1902   204.282   \n",
       "142                      Togo        90.3   196.1760   37.3320   279.624   \n",
       "147                    Uganda        81.0   101.7450   53.6095   170.170   \n",
       "156                    Zambia        83.1   540.2000   85.9940   451.140   \n",
       "\n",
       "     income  inflation  life_expec  total_fer  gdpp  ClusterID  \n",
       "0      1610      9.440        56.2       5.82   553          0  \n",
       "3      5900     22.400        60.1       6.16  3530          0  \n",
       "17     1820      0.885        61.8       5.36   758          0  \n",
       "24     1430      6.810        57.9       5.87   575          0  \n",
       "25      764     12.300        57.7       6.26   231          0  \n",
       "27     2660      1.910        57.3       5.11  1310          0  \n",
       "30      888      2.010        47.5       5.21   446          0  \n",
       "31     1930      6.390        56.5       6.59   897          0  \n",
       "36      609     20.800        57.5       6.54   334          0  \n",
       "39     2690      5.390        56.3       5.27  1220          0  \n",
       "55     1660      4.300        65.5       5.71   562          0  \n",
       "62     1190     16.100        58.0       5.34   648          0  \n",
       "63     1390      2.970        55.6       5.05   547          0  \n",
       "65     1500      5.450        32.1       3.33   662          0  \n",
       "85     2380      4.150        46.5       3.30  1170          0  \n",
       "86      700      5.470        60.8       5.02   327          0  \n",
       "91     1030     12.100        53.1       5.31   459          0  \n",
       "94     1870      4.370        59.5       6.55   708          0  \n",
       "103     918      7.640        54.5       5.56   419          0  \n",
       "109     814      2.550        58.8       7.49   348          0  \n",
       "126    1220     17.200        55.0       5.20   399          0  \n",
       "139    2090      9.250        59.3       5.43   702          0  \n",
       "142    1210      1.180        58.7       4.87   488          0  \n",
       "147    1540     10.600        56.8       6.15   595          0  \n",
       "156    3280     14.000        52.0       5.40  1460          0  "
      ]
     },
     "execution_count": 115,
     "metadata": {},
     "output_type": "execute_result"
    }
   ],
   "source": [
    "dh1= hc1.drop(['PC1', 'PC2', 'PC3', 'PC4'], axis=1)\n",
    "dh1= dh1[dh1['ClusterID'] == 0]\n",
    "dh1.head(25)"
   ]
  },
  {
   "cell_type": "code",
   "execution_count": 116,
   "metadata": {},
   "outputs": [
    {
     "data": {
      "text/plain": [
       "(25, 11)"
      ]
     },
     "execution_count": 116,
     "metadata": {},
     "output_type": "execute_result"
    }
   ],
   "source": [
    "dh1.shape"
   ]
  },
  {
   "cell_type": "code",
   "execution_count": 117,
   "metadata": {},
   "outputs": [
    {
     "data": {
      "text/html": [
       "<div>\n",
       "<style scoped>\n",
       "    .dataframe tbody tr th:only-of-type {\n",
       "        vertical-align: middle;\n",
       "    }\n",
       "\n",
       "    .dataframe tbody tr th {\n",
       "        vertical-align: top;\n",
       "    }\n",
       "\n",
       "    .dataframe thead th {\n",
       "        text-align: right;\n",
       "    }\n",
       "</style>\n",
       "<table border=\"1\" class=\"dataframe\">\n",
       "  <thead>\n",
       "    <tr style=\"text-align: right;\">\n",
       "      <th></th>\n",
       "      <th>Country</th>\n",
       "      <th>child_mort</th>\n",
       "      <th>exports</th>\n",
       "      <th>health</th>\n",
       "      <th>imports</th>\n",
       "      <th>income</th>\n",
       "      <th>inflation</th>\n",
       "      <th>life_expec</th>\n",
       "      <th>total_fer</th>\n",
       "      <th>gdpp</th>\n",
       "      <th>ClusterID</th>\n",
       "    </tr>\n",
       "  </thead>\n",
       "  <tbody>\n",
       "    <tr>\n",
       "      <td>1</td>\n",
       "      <td>Albania</td>\n",
       "      <td>16.6</td>\n",
       "      <td>1145.20</td>\n",
       "      <td>267.895</td>\n",
       "      <td>1987.74</td>\n",
       "      <td>9930</td>\n",
       "      <td>4.49</td>\n",
       "      <td>76.3</td>\n",
       "      <td>1.65</td>\n",
       "      <td>4090</td>\n",
       "      <td>1</td>\n",
       "    </tr>\n",
       "    <tr>\n",
       "      <td>2</td>\n",
       "      <td>Algeria</td>\n",
       "      <td>27.3</td>\n",
       "      <td>1712.64</td>\n",
       "      <td>185.982</td>\n",
       "      <td>1400.44</td>\n",
       "      <td>12900</td>\n",
       "      <td>16.10</td>\n",
       "      <td>76.5</td>\n",
       "      <td>2.89</td>\n",
       "      <td>4460</td>\n",
       "      <td>1</td>\n",
       "    </tr>\n",
       "    <tr>\n",
       "      <td>4</td>\n",
       "      <td>Antigua and Barbuda</td>\n",
       "      <td>10.3</td>\n",
       "      <td>5551.00</td>\n",
       "      <td>735.660</td>\n",
       "      <td>7185.80</td>\n",
       "      <td>19100</td>\n",
       "      <td>1.44</td>\n",
       "      <td>76.8</td>\n",
       "      <td>2.13</td>\n",
       "      <td>12200</td>\n",
       "      <td>1</td>\n",
       "    </tr>\n",
       "    <tr>\n",
       "      <td>5</td>\n",
       "      <td>Argentina</td>\n",
       "      <td>14.5</td>\n",
       "      <td>1946.70</td>\n",
       "      <td>834.300</td>\n",
       "      <td>1648.00</td>\n",
       "      <td>18700</td>\n",
       "      <td>20.90</td>\n",
       "      <td>75.8</td>\n",
       "      <td>2.37</td>\n",
       "      <td>10300</td>\n",
       "      <td>1</td>\n",
       "    </tr>\n",
       "    <tr>\n",
       "      <td>6</td>\n",
       "      <td>Armenia</td>\n",
       "      <td>18.1</td>\n",
       "      <td>669.76</td>\n",
       "      <td>141.680</td>\n",
       "      <td>1458.66</td>\n",
       "      <td>6700</td>\n",
       "      <td>7.77</td>\n",
       "      <td>73.3</td>\n",
       "      <td>1.69</td>\n",
       "      <td>3220</td>\n",
       "      <td>1</td>\n",
       "    </tr>\n",
       "  </tbody>\n",
       "</table>\n",
       "</div>"
      ],
      "text/plain": [
       "               Country  child_mort  exports   health  imports  income  \\\n",
       "1              Albania        16.6  1145.20  267.895  1987.74    9930   \n",
       "2              Algeria        27.3  1712.64  185.982  1400.44   12900   \n",
       "4  Antigua and Barbuda        10.3  5551.00  735.660  7185.80   19100   \n",
       "5            Argentina        14.5  1946.70  834.300  1648.00   18700   \n",
       "6              Armenia        18.1   669.76  141.680  1458.66    6700   \n",
       "\n",
       "   inflation  life_expec  total_fer   gdpp  ClusterID  \n",
       "1       4.49        76.3       1.65   4090          1  \n",
       "2      16.10        76.5       2.89   4460          1  \n",
       "4       1.44        76.8       2.13  12200          1  \n",
       "5      20.90        75.8       2.37  10300          1  \n",
       "6       7.77        73.3       1.69   3220          1  "
      ]
     },
     "execution_count": 117,
     "metadata": {},
     "output_type": "execute_result"
    }
   ],
   "source": [
    "dh2= hc1.drop(['PC1', 'PC2', 'PC3', 'PC4'], axis=1)\n",
    "dh2= dh2[dh2['ClusterID'] == 1]\n",
    "dh2.head()"
   ]
  },
  {
   "cell_type": "code",
   "execution_count": 118,
   "metadata": {},
   "outputs": [
    {
     "data": {
      "text/plain": [
       "(104, 11)"
      ]
     },
     "execution_count": 118,
     "metadata": {},
     "output_type": "execute_result"
    }
   ],
   "source": [
    "dh2.shape"
   ]
  },
  {
   "cell_type": "code",
   "execution_count": 119,
   "metadata": {},
   "outputs": [
    {
     "data": {
      "text/html": [
       "<div>\n",
       "<style scoped>\n",
       "    .dataframe tbody tr th:only-of-type {\n",
       "        vertical-align: middle;\n",
       "    }\n",
       "\n",
       "    .dataframe tbody tr th {\n",
       "        vertical-align: top;\n",
       "    }\n",
       "\n",
       "    .dataframe thead th {\n",
       "        text-align: right;\n",
       "    }\n",
       "</style>\n",
       "<table border=\"1\" class=\"dataframe\">\n",
       "  <thead>\n",
       "    <tr style=\"text-align: right;\">\n",
       "      <th></th>\n",
       "      <th>Country</th>\n",
       "      <th>child_mort</th>\n",
       "      <th>exports</th>\n",
       "      <th>health</th>\n",
       "      <th>imports</th>\n",
       "      <th>income</th>\n",
       "      <th>inflation</th>\n",
       "      <th>life_expec</th>\n",
       "      <th>total_fer</th>\n",
       "      <th>gdpp</th>\n",
       "      <th>ClusterID</th>\n",
       "    </tr>\n",
       "  </thead>\n",
       "  <tbody>\n",
       "    <tr>\n",
       "      <td>7</td>\n",
       "      <td>Australia</td>\n",
       "      <td>4.8</td>\n",
       "      <td>10276.2</td>\n",
       "      <td>4530.87</td>\n",
       "      <td>10847.1</td>\n",
       "      <td>41400</td>\n",
       "      <td>1.160</td>\n",
       "      <td>82.0</td>\n",
       "      <td>1.93</td>\n",
       "      <td>51900</td>\n",
       "      <td>2</td>\n",
       "    </tr>\n",
       "    <tr>\n",
       "      <td>8</td>\n",
       "      <td>Austria</td>\n",
       "      <td>4.3</td>\n",
       "      <td>24059.7</td>\n",
       "      <td>5159.00</td>\n",
       "      <td>22418.2</td>\n",
       "      <td>43200</td>\n",
       "      <td>0.873</td>\n",
       "      <td>80.5</td>\n",
       "      <td>1.44</td>\n",
       "      <td>46900</td>\n",
       "      <td>2</td>\n",
       "    </tr>\n",
       "    <tr>\n",
       "      <td>28</td>\n",
       "      <td>Canada</td>\n",
       "      <td>5.6</td>\n",
       "      <td>13793.4</td>\n",
       "      <td>5356.20</td>\n",
       "      <td>14694.0</td>\n",
       "      <td>40700</td>\n",
       "      <td>2.870</td>\n",
       "      <td>81.3</td>\n",
       "      <td>1.63</td>\n",
       "      <td>47400</td>\n",
       "      <td>2</td>\n",
       "    </tr>\n",
       "    <tr>\n",
       "      <td>52</td>\n",
       "      <td>Finland</td>\n",
       "      <td>3.0</td>\n",
       "      <td>17879.4</td>\n",
       "      <td>4134.90</td>\n",
       "      <td>17278.8</td>\n",
       "      <td>39800</td>\n",
       "      <td>0.351</td>\n",
       "      <td>80.0</td>\n",
       "      <td>1.87</td>\n",
       "      <td>46200</td>\n",
       "      <td>2</td>\n",
       "    </tr>\n",
       "    <tr>\n",
       "      <td>53</td>\n",
       "      <td>France</td>\n",
       "      <td>4.2</td>\n",
       "      <td>10880.8</td>\n",
       "      <td>4831.40</td>\n",
       "      <td>11408.6</td>\n",
       "      <td>36900</td>\n",
       "      <td>1.050</td>\n",
       "      <td>81.4</td>\n",
       "      <td>2.03</td>\n",
       "      <td>40600</td>\n",
       "      <td>2</td>\n",
       "    </tr>\n",
       "    <tr>\n",
       "      <td>57</td>\n",
       "      <td>Germany</td>\n",
       "      <td>4.2</td>\n",
       "      <td>17681.4</td>\n",
       "      <td>4848.80</td>\n",
       "      <td>15507.8</td>\n",
       "      <td>40400</td>\n",
       "      <td>0.758</td>\n",
       "      <td>80.1</td>\n",
       "      <td>1.39</td>\n",
       "      <td>41800</td>\n",
       "      <td>2</td>\n",
       "    </tr>\n",
       "    <tr>\n",
       "      <td>67</td>\n",
       "      <td>Iceland</td>\n",
       "      <td>2.6</td>\n",
       "      <td>22374.6</td>\n",
       "      <td>3938.60</td>\n",
       "      <td>18142.7</td>\n",
       "      <td>38800</td>\n",
       "      <td>5.470</td>\n",
       "      <td>82.0</td>\n",
       "      <td>2.20</td>\n",
       "      <td>41900</td>\n",
       "      <td>2</td>\n",
       "    </tr>\n",
       "    <tr>\n",
       "      <td>74</td>\n",
       "      <td>Italy</td>\n",
       "      <td>4.0</td>\n",
       "      <td>9021.6</td>\n",
       "      <td>3411.74</td>\n",
       "      <td>9737.6</td>\n",
       "      <td>36200</td>\n",
       "      <td>0.319</td>\n",
       "      <td>81.7</td>\n",
       "      <td>1.46</td>\n",
       "      <td>35800</td>\n",
       "      <td>2</td>\n",
       "    </tr>\n",
       "    <tr>\n",
       "      <td>76</td>\n",
       "      <td>Japan</td>\n",
       "      <td>3.2</td>\n",
       "      <td>6675.0</td>\n",
       "      <td>4223.05</td>\n",
       "      <td>6052.0</td>\n",
       "      <td>35800</td>\n",
       "      <td>-1.900</td>\n",
       "      <td>82.8</td>\n",
       "      <td>1.39</td>\n",
       "      <td>44500</td>\n",
       "      <td>2</td>\n",
       "    </tr>\n",
       "    <tr>\n",
       "      <td>108</td>\n",
       "      <td>New Zealand</td>\n",
       "      <td>6.2</td>\n",
       "      <td>10211.1</td>\n",
       "      <td>3403.70</td>\n",
       "      <td>9436.0</td>\n",
       "      <td>32300</td>\n",
       "      <td>3.730</td>\n",
       "      <td>80.9</td>\n",
       "      <td>2.17</td>\n",
       "      <td>33700</td>\n",
       "      <td>2</td>\n",
       "    </tr>\n",
       "    <tr>\n",
       "      <td>137</td>\n",
       "      <td>Sweden</td>\n",
       "      <td>3.0</td>\n",
       "      <td>24070.2</td>\n",
       "      <td>5017.23</td>\n",
       "      <td>21204.7</td>\n",
       "      <td>42900</td>\n",
       "      <td>0.991</td>\n",
       "      <td>81.5</td>\n",
       "      <td>1.98</td>\n",
       "      <td>52100</td>\n",
       "      <td>2</td>\n",
       "    </tr>\n",
       "    <tr>\n",
       "      <td>149</td>\n",
       "      <td>United Kingdom</td>\n",
       "      <td>5.2</td>\n",
       "      <td>10969.8</td>\n",
       "      <td>3749.96</td>\n",
       "      <td>11981.2</td>\n",
       "      <td>36200</td>\n",
       "      <td>1.570</td>\n",
       "      <td>80.3</td>\n",
       "      <td>1.92</td>\n",
       "      <td>38900</td>\n",
       "      <td>2</td>\n",
       "    </tr>\n",
       "  </tbody>\n",
       "</table>\n",
       "</div>"
      ],
      "text/plain": [
       "            Country  child_mort  exports   health  imports  income  inflation  \\\n",
       "7         Australia         4.8  10276.2  4530.87  10847.1   41400      1.160   \n",
       "8           Austria         4.3  24059.7  5159.00  22418.2   43200      0.873   \n",
       "28           Canada         5.6  13793.4  5356.20  14694.0   40700      2.870   \n",
       "52          Finland         3.0  17879.4  4134.90  17278.8   39800      0.351   \n",
       "53           France         4.2  10880.8  4831.40  11408.6   36900      1.050   \n",
       "57          Germany         4.2  17681.4  4848.80  15507.8   40400      0.758   \n",
       "67          Iceland         2.6  22374.6  3938.60  18142.7   38800      5.470   \n",
       "74            Italy         4.0   9021.6  3411.74   9737.6   36200      0.319   \n",
       "76            Japan         3.2   6675.0  4223.05   6052.0   35800     -1.900   \n",
       "108     New Zealand         6.2  10211.1  3403.70   9436.0   32300      3.730   \n",
       "137          Sweden         3.0  24070.2  5017.23  21204.7   42900      0.991   \n",
       "149  United Kingdom         5.2  10969.8  3749.96  11981.2   36200      1.570   \n",
       "\n",
       "     life_expec  total_fer   gdpp  ClusterID  \n",
       "7          82.0       1.93  51900          2  \n",
       "8          80.5       1.44  46900          2  \n",
       "28         81.3       1.63  47400          2  \n",
       "52         80.0       1.87  46200          2  \n",
       "53         81.4       2.03  40600          2  \n",
       "57         80.1       1.39  41800          2  \n",
       "67         82.0       2.20  41900          2  \n",
       "74         81.7       1.46  35800          2  \n",
       "76         82.8       1.39  44500          2  \n",
       "108        80.9       2.17  33700          2  \n",
       "137        81.5       1.98  52100          2  \n",
       "149        80.3       1.92  38900          2  "
      ]
     },
     "execution_count": 119,
     "metadata": {},
     "output_type": "execute_result"
    }
   ],
   "source": [
    "dh3= hc1.drop(['PC1', 'PC2', 'PC3', 'PC4'], axis=1)\n",
    "dh3= dh3[dh3['ClusterID'] == 2]\n",
    "dh3.head(15)"
   ]
  },
  {
   "cell_type": "code",
   "execution_count": 120,
   "metadata": {},
   "outputs": [
    {
     "data": {
      "text/plain": [
       "(12, 11)"
      ]
     },
     "execution_count": 120,
     "metadata": {},
     "output_type": "execute_result"
    }
   ],
   "source": [
    "dh3.shape"
   ]
  },
  {
   "cell_type": "code",
   "execution_count": 121,
   "metadata": {},
   "outputs": [
    {
     "data": {
      "text/html": [
       "<div>\n",
       "<style scoped>\n",
       "    .dataframe tbody tr th:only-of-type {\n",
       "        vertical-align: middle;\n",
       "    }\n",
       "\n",
       "    .dataframe tbody tr th {\n",
       "        vertical-align: top;\n",
       "    }\n",
       "\n",
       "    .dataframe thead th {\n",
       "        text-align: right;\n",
       "    }\n",
       "</style>\n",
       "<table border=\"1\" class=\"dataframe\">\n",
       "  <thead>\n",
       "    <tr style=\"text-align: right;\">\n",
       "      <th></th>\n",
       "      <th>Country</th>\n",
       "      <th>child_mort</th>\n",
       "      <th>exports</th>\n",
       "      <th>health</th>\n",
       "      <th>imports</th>\n",
       "      <th>income</th>\n",
       "      <th>inflation</th>\n",
       "      <th>life_expec</th>\n",
       "      <th>total_fer</th>\n",
       "      <th>gdpp</th>\n",
       "      <th>ClusterID</th>\n",
       "    </tr>\n",
       "  </thead>\n",
       "  <tbody>\n",
       "    <tr>\n",
       "      <td>15</td>\n",
       "      <td>Belgium</td>\n",
       "      <td>4.5</td>\n",
       "      <td>33921.6</td>\n",
       "      <td>4750.80</td>\n",
       "      <td>33166.8</td>\n",
       "      <td>41100</td>\n",
       "      <td>1.880</td>\n",
       "      <td>80.0</td>\n",
       "      <td>1.86</td>\n",
       "      <td>44400</td>\n",
       "      <td>3</td>\n",
       "    </tr>\n",
       "    <tr>\n",
       "      <td>43</td>\n",
       "      <td>Denmark</td>\n",
       "      <td>4.1</td>\n",
       "      <td>29290.0</td>\n",
       "      <td>6612.00</td>\n",
       "      <td>25288.0</td>\n",
       "      <td>44000</td>\n",
       "      <td>3.220</td>\n",
       "      <td>79.5</td>\n",
       "      <td>1.87</td>\n",
       "      <td>58000</td>\n",
       "      <td>3</td>\n",
       "    </tr>\n",
       "    <tr>\n",
       "      <td>72</td>\n",
       "      <td>Ireland</td>\n",
       "      <td>4.2</td>\n",
       "      <td>50161.0</td>\n",
       "      <td>4475.53</td>\n",
       "      <td>42125.5</td>\n",
       "      <td>45700</td>\n",
       "      <td>-3.220</td>\n",
       "      <td>80.4</td>\n",
       "      <td>2.05</td>\n",
       "      <td>48700</td>\n",
       "      <td>3</td>\n",
       "    </tr>\n",
       "    <tr>\n",
       "      <td>95</td>\n",
       "      <td>Malta</td>\n",
       "      <td>6.8</td>\n",
       "      <td>32283.0</td>\n",
       "      <td>1825.15</td>\n",
       "      <td>32494.0</td>\n",
       "      <td>28300</td>\n",
       "      <td>3.830</td>\n",
       "      <td>80.3</td>\n",
       "      <td>1.36</td>\n",
       "      <td>21100</td>\n",
       "      <td>3</td>\n",
       "    </tr>\n",
       "    <tr>\n",
       "      <td>107</td>\n",
       "      <td>Netherlands</td>\n",
       "      <td>4.5</td>\n",
       "      <td>36216.0</td>\n",
       "      <td>5985.70</td>\n",
       "      <td>31990.8</td>\n",
       "      <td>45500</td>\n",
       "      <td>0.848</td>\n",
       "      <td>80.7</td>\n",
       "      <td>1.79</td>\n",
       "      <td>50300</td>\n",
       "      <td>3</td>\n",
       "    </tr>\n",
       "  </tbody>\n",
       "</table>\n",
       "</div>"
      ],
      "text/plain": [
       "         Country  child_mort  exports   health  imports  income  inflation  \\\n",
       "15       Belgium         4.5  33921.6  4750.80  33166.8   41100      1.880   \n",
       "43       Denmark         4.1  29290.0  6612.00  25288.0   44000      3.220   \n",
       "72       Ireland         4.2  50161.0  4475.53  42125.5   45700     -3.220   \n",
       "95         Malta         6.8  32283.0  1825.15  32494.0   28300      3.830   \n",
       "107  Netherlands         4.5  36216.0  5985.70  31990.8   45500      0.848   \n",
       "\n",
       "     life_expec  total_fer   gdpp  ClusterID  \n",
       "15         80.0       1.86  44400          3  \n",
       "43         79.5       1.87  58000          3  \n",
       "72         80.4       2.05  48700          3  \n",
       "95         80.3       1.36  21100          3  \n",
       "107        80.7       1.79  50300          3  "
      ]
     },
     "execution_count": 121,
     "metadata": {},
     "output_type": "execute_result"
    }
   ],
   "source": [
    "dh4= hc1.drop(['PC1', 'PC2', 'PC3', 'PC4'], axis=1)\n",
    "dh4= dh4[dh4['ClusterID'] == 3]\n",
    "dh4.head()"
   ]
  },
  {
   "cell_type": "code",
   "execution_count": 122,
   "metadata": {},
   "outputs": [
    {
     "data": {
      "text/plain": [
       "(5, 11)"
      ]
     },
     "execution_count": 122,
     "metadata": {},
     "output_type": "execute_result"
    }
   ],
   "source": [
    "dh4.shape"
   ]
  },
  {
   "cell_type": "code",
   "execution_count": 123,
   "metadata": {},
   "outputs": [
    {
     "data": {
      "text/html": [
       "<div>\n",
       "<style scoped>\n",
       "    .dataframe tbody tr th:only-of-type {\n",
       "        vertical-align: middle;\n",
       "    }\n",
       "\n",
       "    .dataframe tbody tr th {\n",
       "        vertical-align: top;\n",
       "    }\n",
       "\n",
       "    .dataframe thead th {\n",
       "        text-align: right;\n",
       "    }\n",
       "</style>\n",
       "<table border=\"1\" class=\"dataframe\">\n",
       "  <thead>\n",
       "    <tr style=\"text-align: right;\">\n",
       "      <th></th>\n",
       "      <th>Country</th>\n",
       "      <th>child_mort</th>\n",
       "      <th>exports</th>\n",
       "      <th>health</th>\n",
       "      <th>imports</th>\n",
       "      <th>income</th>\n",
       "      <th>inflation</th>\n",
       "      <th>life_expec</th>\n",
       "      <th>total_fer</th>\n",
       "      <th>gdpp</th>\n",
       "      <th>ClusterID</th>\n",
       "    </tr>\n",
       "  </thead>\n",
       "  <tbody>\n",
       "    <tr>\n",
       "      <td>37</td>\n",
       "      <td>Congo, Rep.</td>\n",
       "      <td>63.9</td>\n",
       "      <td>2331.74</td>\n",
       "      <td>67.404</td>\n",
       "      <td>1498.78</td>\n",
       "      <td>5190</td>\n",
       "      <td>20.7</td>\n",
       "      <td>60.4</td>\n",
       "      <td>4.95</td>\n",
       "      <td>2740</td>\n",
       "      <td>4</td>\n",
       "    </tr>\n",
       "    <tr>\n",
       "      <td>48</td>\n",
       "      <td>Equatorial Guinea</td>\n",
       "      <td>111.0</td>\n",
       "      <td>14671.80</td>\n",
       "      <td>766.080</td>\n",
       "      <td>10071.90</td>\n",
       "      <td>33700</td>\n",
       "      <td>24.9</td>\n",
       "      <td>60.9</td>\n",
       "      <td>5.21</td>\n",
       "      <td>17100</td>\n",
       "      <td>4</td>\n",
       "    </tr>\n",
       "    <tr>\n",
       "      <td>54</td>\n",
       "      <td>Gabon</td>\n",
       "      <td>63.7</td>\n",
       "      <td>5048.75</td>\n",
       "      <td>306.250</td>\n",
       "      <td>1653.75</td>\n",
       "      <td>15400</td>\n",
       "      <td>16.6</td>\n",
       "      <td>62.9</td>\n",
       "      <td>4.08</td>\n",
       "      <td>8750</td>\n",
       "      <td>4</td>\n",
       "    </tr>\n",
       "    <tr>\n",
       "      <td>58</td>\n",
       "      <td>Ghana</td>\n",
       "      <td>74.7</td>\n",
       "      <td>386.45</td>\n",
       "      <td>68.382</td>\n",
       "      <td>601.29</td>\n",
       "      <td>3060</td>\n",
       "      <td>16.6</td>\n",
       "      <td>62.2</td>\n",
       "      <td>4.27</td>\n",
       "      <td>1310</td>\n",
       "      <td>4</td>\n",
       "    </tr>\n",
       "    <tr>\n",
       "      <td>71</td>\n",
       "      <td>Iraq</td>\n",
       "      <td>36.9</td>\n",
       "      <td>1773.00</td>\n",
       "      <td>378.450</td>\n",
       "      <td>1534.50</td>\n",
       "      <td>12700</td>\n",
       "      <td>16.6</td>\n",
       "      <td>67.2</td>\n",
       "      <td>4.56</td>\n",
       "      <td>4500</td>\n",
       "      <td>4</td>\n",
       "    </tr>\n",
       "    <tr>\n",
       "      <td>96</td>\n",
       "      <td>Mauritania</td>\n",
       "      <td>97.4</td>\n",
       "      <td>608.40</td>\n",
       "      <td>52.920</td>\n",
       "      <td>734.40</td>\n",
       "      <td>3320</td>\n",
       "      <td>18.9</td>\n",
       "      <td>68.2</td>\n",
       "      <td>4.98</td>\n",
       "      <td>1200</td>\n",
       "      <td>4</td>\n",
       "    </tr>\n",
       "    <tr>\n",
       "      <td>100</td>\n",
       "      <td>Mongolia</td>\n",
       "      <td>26.1</td>\n",
       "      <td>1237.55</td>\n",
       "      <td>144.160</td>\n",
       "      <td>1502.55</td>\n",
       "      <td>7710</td>\n",
       "      <td>39.2</td>\n",
       "      <td>66.2</td>\n",
       "      <td>2.64</td>\n",
       "      <td>2650</td>\n",
       "      <td>4</td>\n",
       "    </tr>\n",
       "    <tr>\n",
       "      <td>135</td>\n",
       "      <td>Sudan</td>\n",
       "      <td>76.7</td>\n",
       "      <td>291.56</td>\n",
       "      <td>93.536</td>\n",
       "      <td>254.56</td>\n",
       "      <td>3370</td>\n",
       "      <td>19.6</td>\n",
       "      <td>66.3</td>\n",
       "      <td>4.88</td>\n",
       "      <td>1480</td>\n",
       "      <td>4</td>\n",
       "    </tr>\n",
       "    <tr>\n",
       "      <td>141</td>\n",
       "      <td>Timor-Leste</td>\n",
       "      <td>62.6</td>\n",
       "      <td>79.20</td>\n",
       "      <td>328.320</td>\n",
       "      <td>1000.80</td>\n",
       "      <td>1850</td>\n",
       "      <td>26.5</td>\n",
       "      <td>71.1</td>\n",
       "      <td>6.23</td>\n",
       "      <td>3600</td>\n",
       "      <td>4</td>\n",
       "    </tr>\n",
       "    <tr>\n",
       "      <td>153</td>\n",
       "      <td>Venezuela</td>\n",
       "      <td>17.1</td>\n",
       "      <td>3847.50</td>\n",
       "      <td>662.850</td>\n",
       "      <td>2376.00</td>\n",
       "      <td>16500</td>\n",
       "      <td>45.9</td>\n",
       "      <td>75.4</td>\n",
       "      <td>2.47</td>\n",
       "      <td>13500</td>\n",
       "      <td>4</td>\n",
       "    </tr>\n",
       "    <tr>\n",
       "      <td>155</td>\n",
       "      <td>Yemen</td>\n",
       "      <td>56.3</td>\n",
       "      <td>393.00</td>\n",
       "      <td>67.858</td>\n",
       "      <td>450.64</td>\n",
       "      <td>4480</td>\n",
       "      <td>23.6</td>\n",
       "      <td>67.5</td>\n",
       "      <td>4.67</td>\n",
       "      <td>1310</td>\n",
       "      <td>4</td>\n",
       "    </tr>\n",
       "  </tbody>\n",
       "</table>\n",
       "</div>"
      ],
      "text/plain": [
       "               Country  child_mort   exports   health   imports  income  \\\n",
       "37         Congo, Rep.        63.9   2331.74   67.404   1498.78    5190   \n",
       "48   Equatorial Guinea       111.0  14671.80  766.080  10071.90   33700   \n",
       "54               Gabon        63.7   5048.75  306.250   1653.75   15400   \n",
       "58               Ghana        74.7    386.45   68.382    601.29    3060   \n",
       "71                Iraq        36.9   1773.00  378.450   1534.50   12700   \n",
       "96          Mauritania        97.4    608.40   52.920    734.40    3320   \n",
       "100           Mongolia        26.1   1237.55  144.160   1502.55    7710   \n",
       "135              Sudan        76.7    291.56   93.536    254.56    3370   \n",
       "141        Timor-Leste        62.6     79.20  328.320   1000.80    1850   \n",
       "153          Venezuela        17.1   3847.50  662.850   2376.00   16500   \n",
       "155              Yemen        56.3    393.00   67.858    450.64    4480   \n",
       "\n",
       "     inflation  life_expec  total_fer   gdpp  ClusterID  \n",
       "37        20.7        60.4       4.95   2740          4  \n",
       "48        24.9        60.9       5.21  17100          4  \n",
       "54        16.6        62.9       4.08   8750          4  \n",
       "58        16.6        62.2       4.27   1310          4  \n",
       "71        16.6        67.2       4.56   4500          4  \n",
       "96        18.9        68.2       4.98   1200          4  \n",
       "100       39.2        66.2       2.64   2650          4  \n",
       "135       19.6        66.3       4.88   1480          4  \n",
       "141       26.5        71.1       6.23   3600          4  \n",
       "153       45.9        75.4       2.47  13500          4  \n",
       "155       23.6        67.5       4.67   1310          4  "
      ]
     },
     "execution_count": 123,
     "metadata": {},
     "output_type": "execute_result"
    }
   ],
   "source": [
    "dh5= hc1.drop(['PC1', 'PC2', 'PC3', 'PC4'], axis=1)\n",
    "dh5= dh5[dh5['ClusterID'] == 4]\n",
    "dh5.head(15)"
   ]
  },
  {
   "cell_type": "code",
   "execution_count": 124,
   "metadata": {},
   "outputs": [
    {
     "data": {
      "text/plain": [
       "(11, 11)"
      ]
     },
     "execution_count": 124,
     "metadata": {},
     "output_type": "execute_result"
    }
   ],
   "source": [
    "dh5.shape"
   ]
  },
  {
   "cell_type": "markdown",
   "metadata": {},
   "source": [
    "\n",
    "\n",
    "\n",
    "\n",
    "#### Also its evident from Scatterplot that Hierarchical clustering with k=5 is not done properly  as compare to hierarchical clustering with k=4 & k-means clustering with k=4.\n",
    "\n",
    "#### Though cluster 1 with cluster id 0 could be considered as best choice for Help NGO to provide aid as listed above if hierarchical clustering is chosen. \n",
    "\n",
    "\n",
    "\n",
    "\n",
    "\n",
    "\n",
    "\n",
    "\n",
    "\n"
   ]
  },
  {
   "cell_type": "markdown",
   "metadata": {},
   "source": [
    "## Conclusions:"
   ]
  },
  {
   "cell_type": "markdown",
   "metadata": {},
   "source": [
    "### K-means clustering is giving better clusters with k=4  with similar figures of socio-economic & health factors of different countries.\n",
    "\n",
    "### Thus the under developed countries like Congo, Dem. Rep., Niger , Central African Republic, Haiti , Sierra Leone, Mozambique, Liberia, Burundi, Eritrea, Madagascar  etc. could be the best choice for  Help NGO to provide aid as these countries have very low income ,very low gdpp with very high child_mort & very low spenditure on health. \n",
    " \n",
    "\n"
   ]
  },
  {
   "cell_type": "code",
   "execution_count": null,
   "metadata": {},
   "outputs": [],
   "source": []
  }
 ],
 "metadata": {
  "kernelspec": {
   "display_name": "Python 3",
   "language": "python",
   "name": "python3"
  },
  "language_info": {
   "codemirror_mode": {
    "name": "ipython",
    "version": 3
   },
   "file_extension": ".py",
   "mimetype": "text/x-python",
   "name": "python",
   "nbconvert_exporter": "python",
   "pygments_lexer": "ipython3",
   "version": "3.7.7"
  }
 },
 "nbformat": 4,
 "nbformat_minor": 2
}
